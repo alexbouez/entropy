{
 "cells": [
  {
   "cell_type": "code",
   "execution_count": 1,
   "id": "53b125d2",
   "metadata": {},
   "outputs": [],
   "source": [
    "%matplotlib inline"
   ]
  },
  {
   "cell_type": "code",
   "execution_count": 2,
   "id": "c4c87917",
   "metadata": {},
   "outputs": [],
   "source": [
    "import os\n",
    "path = os.path.abspath(os.getcwd())"
   ]
  },
  {
   "cell_type": "code",
   "execution_count": 3,
   "id": "a92cf829",
   "metadata": {},
   "outputs": [],
   "source": [
    "from matplotlib.lines import Line2D\n",
    "import matplotlib.pyplot as plt\n",
    "import random as rd\n",
    "import pandas as pd\n",
    "import numpy as np\n",
    "import time\n",
    "import csv\n",
    "\n",
    "from scipy.optimize import curve_fit\n",
    "\n",
    "from nistrng import check_eligibility_all_battery, run_all_battery, SP800_22R1A_BATTERY#, pack_sequence\n",
    "from nistrng.sp800_22r1a import MonobitTest, FrequencyWithinBlockTest, RunsTest, LongestRunOnesInABlockTest, \\\n",
    "    DiscreteFourierTransformTest, NonOverlappingTemplateMatchingTest, SerialTest, ApproximateEntropyTest, \\\n",
    "    CumulativeSumsTest, RandomExcursionTest, RandomExcursionVariantTest"
   ]
  },
  {
   "cell_type": "code",
   "execution_count": 4,
   "id": "e806f3fb",
   "metadata": {},
   "outputs": [],
   "source": [
    "pd.set_option('display.max_rows', 100)\n",
    "pd.set_option(\"display.max_colwidth\",100)"
   ]
  },
  {
   "cell_type": "code",
   "execution_count": 5,
   "id": "aae2a53a",
   "metadata": {},
   "outputs": [],
   "source": [
    "plt.rcParams['figure.figsize'] = (10.0, 8.0)\n",
    "plt.style.use('ggplot')"
   ]
  },
  {
   "cell_type": "code",
   "execution_count": 6,
   "id": "308851ca",
   "metadata": {},
   "outputs": [],
   "source": [
    "# Set the default size of various textual elements\n",
    "plt.rcParams['text.usetex'] = True  # Enable LaTeX rendering\n",
    "plt.rcParams['font.family'] = 'sans-serif'\n",
    "plt.rcParams['font.sans-serif'] = ['Arial']\n",
    "\n",
    "plt.rcParams['text.color'] = '#000000'\n",
    "plt.rcParams['axes.labelcolor'] = '#000000'\n",
    "plt.rcParams['xtick.color'] = '#000000'\n",
    "plt.rcParams['ytick.color'] = '#000000'\n",
    "\n",
    "a, b, c = 18, 20, 24\n",
    "plt.rcParams['font.size'] = b            # sets the default font size\n",
    "plt.rcParams['axes.labelsize'] = c       # for x and y labels\n",
    "\n",
    "plt.rcParams['axes.titlesize'] = c       # for subplot titles\n",
    "plt.rcParams['xtick.labelsize'] = a      # for x-axis tick labels\n",
    "plt.rcParams['ytick.labelsize'] = a      # for y-axis tick labels\n",
    "plt.rcParams['legend.fontsize'] = b      # for legend text\n",
    "\n",
    "plt.rcParams['axes.labelpad'] = 15"
   ]
  },
  {
   "cell_type": "code",
   "execution_count": 7,
   "id": "4dede9b7",
   "metadata": {},
   "outputs": [],
   "source": [
    "# OPTIONS\n",
    "bitsize: np.uint64 = 64\n",
    "mask: np.uint64 = np.uint64(2**bitsize - 1)\n",
    "\n",
    "np.random.seed()\n",
    "rd.seed()"
   ]
  },
  {
   "cell_type": "code",
   "execution_count": 8,
   "id": "5bc713bb",
   "metadata": {},
   "outputs": [],
   "source": [
    "def printif(verbose, string):\n",
    "    if verbose:\n",
    "        print(string)"
   ]
  },
  {
   "cell_type": "code",
   "execution_count": 9,
   "id": "ea6d857b",
   "metadata": {},
   "outputs": [],
   "source": [
    "def write_to_csv(filename, data):\n",
    "    with open(filename, 'w', newline='') as f:\n",
    "        writer = csv.writer(f)\n",
    "        writer.writerows(data)\n",
    "       \n",
    "\n",
    "def append_to_csv(filename, data):\n",
    "    with open(filename, 'a', newline='') as f:\n",
    "        writer = csv.writer(f)\n",
    "        writer.writerows(data)"
   ]
  },
  {
   "cell_type": "markdown",
   "id": "f5ecd59e",
   "metadata": {},
   "source": [
    "# I/ Operational functions"
   ]
  },
  {
   "cell_type": "code",
   "execution_count": null,
   "id": "e0cf9d10",
   "metadata": {},
   "outputs": [],
   "source": [
    "def printif(verbose, string):\n",
    "    if verbose:\n",
    "        print(string)"
   ]
  },
  {
   "cell_type": "code",
   "execution_count": null,
   "id": "081c00fe",
   "metadata": {},
   "outputs": [],
   "source": [
    "def write_to_csv(filename, data):\n",
    "    with open(filename, 'w', newline='') as f:\n",
    "        writer = csv.writer(f)\n",
    "        writer.writerows(data)\n",
    "       \n",
    "\n",
    "def append_to_csv(filename, data):\n",
    "    with open(filename, 'a', newline='') as f:\n",
    "        writer = csv.writer(f)\n",
    "        writer.writerows(data)"
   ]
  },
  {
   "cell_type": "markdown",
   "id": "e650bc89",
   "metadata": {},
   "source": [
    "## 1) Binary operations"
   ]
  },
  {
   "cell_type": "code",
   "execution_count": null,
   "id": "202fcff7",
   "metadata": {
    "scrolled": true
   },
   "outputs": [],
   "source": [
    "def xor(a, b):\n",
    "    return (np.uint64(a) ^ np.uint64(b)) & mask"
   ]
  },
  {
   "cell_type": "code",
   "execution_count": null,
   "id": "28bb7d24",
   "metadata": {},
   "outputs": [],
   "source": [
    "def add(a, b):\n",
    "\n",
    "    with np.errstate(over='ignore'):  # suppresses overflow warnings\n",
    "        result = np.uint64(a) + np.uint64(b)\n",
    "    return result & mask"
   ]
  },
  {
   "cell_type": "code",
   "execution_count": null,
   "id": "ab79790c",
   "metadata": {},
   "outputs": [],
   "source": [
    "def bitrol(n, r):\n",
    "    return ((np.uint64(n) << np.uint64(r)) & mask) | ((np.uint64(n) >> np.uint64(bitsize - r)) & mask)"
   ]
  },
  {
   "cell_type": "code",
   "execution_count": null,
   "id": "b232b4d6",
   "metadata": {},
   "outputs": [],
   "source": [
    "def swab(value):\n",
    "    if value < 0 or value > 0xFFFF:\n",
    "        raise ValueError(\"Value must be a 16-bit unsigned integer\")\n",
    "\n",
    "    return np.uint64((value & np.uint64(0xFF)) << np.uint64(8)) | ((value & np.uint64(0xFF00)) >> np.uint64(8))"
   ]
  },
  {
   "cell_type": "code",
   "execution_count": null,
   "id": "584adbc7",
   "metadata": {},
   "outputs": [],
   "source": [
    "def binprint(pool):\n",
    "    s = \"[\"\n",
    "    for i in pool[0:len(pool)-1]:\n",
    "\n",
    "        s += bin(i) + \", \"\n",
    "    s += bin(pool[-1]) + \"]\"\n",
    "    print(s)"
   ]
  },
  {
   "cell_type": "code",
   "execution_count": null,
   "id": "ab949c8d",
   "metadata": {},
   "outputs": [],
   "source": [
    "def strprint(pool):\n",
    "    s = \"[\"\n",
    "    for i in pool[0:len(pool)-1]:\n",
    "\n",
    "        s += str(i) + \", \"\n",
    "    s += str(pool[-1]) + \"]\"\n",
    "    print(s)"
   ]
  },
  {
   "cell_type": "code",
   "execution_count": null,
   "id": "536b5587",
   "metadata": {},
   "outputs": [],
   "source": [
    "def pack_sequence_64(sequence: np.ndarray) -> np.ndarray:\n",
    "    sequence_array = np.array(sequence, dtype=np.uint64)\n",
    "    return np.unpackbits(sequence_array.view(np.uint8)).astype(np.uint8)\n",
    "\n",
    "def pack_sequence_32(sequence: np.ndarray) -> np.ndarray:\n",
    "    sequence_array = np.array(sequence, dtype=np.uint32)\n",
    "    return np.unpackbits(sequence_array.view(np.uint8)).astype(np.uint8)\n",
    "\n",
    "if bitsize == 32:\n",
    "    pack_sequence = pack_sequence_32\n",
    "else: #64 bit case\n",
    "    pack_sequence = pack_sequence_64"
   ]
  },
  {
   "cell_type": "markdown",
   "id": "f3bf4a8e",
   "metadata": {},
   "source": [
    "## 2) Entropy gathering functions"
   ]
  },
  {
   "cell_type": "code",
   "execution_count": null,
   "id": "a973b253",
   "metadata": {},
   "outputs": [],
   "source": [
    "def hsiphash_perm(pool):\n",
    "    assert(bitsize==32)\n",
    "    rol32 = bitrol\n",
    "   \n",
    "\n",
    "    a, b, c, d = pool[0], pool[1], pool[2], pool[3]\n",
    "   \n",
    "\n",
    "    a = add(a, b)\n",
    "    b = rol32(b, 5)\n",
    "    b = xor(b, a)\n",
    "    a = rol32(a, 16)\n",
    "   \n",
    "\n",
    "    c = add(c, d)\n",
    "    d = rol32(d, 8)\n",
    "    d = xor(d, c)\n",
    "   \n",
    "\n",
    "    a = add(a, d)\n",
    "    d = rol32(d, 7)\n",
    "    d = xor(d, a)\n",
    "   \n",
    "\n",
    "    c = add(c, b)\n",
    "    b = rol32(b, 13)\n",
    "    b = xor(b, c)\n",
    "    c = rol32(c, 16)\n",
    "   \n",
    "\n",
    "    return [a, b, c, d]"
   ]
  },
  {
   "cell_type": "code",
   "execution_count": null,
   "id": "8f43ac2b",
   "metadata": {},
   "outputs": [],
   "source": [
    "def siphash_perm(pool):\n",
    "    assert(bitsize==64)\n",
    "    rol64 = bitrol\n",
    "   \n",
    "\n",
    "    a, b, c, d = pool[0], pool[1], pool[2], pool[3]\n",
    "   \n",
    "\n",
    "    a = add(a, b)\n",
    "    b = rol64(b, 13)\n",
    "    b = xor(b, a)\n",
    "    a = rol64(a, 32)\n",
    "   \n",
    "\n",
    "    c = add(c, d)\n",
    "    d = rol64(d, 16)\n",
    "    d = xor(d, c)\n",
    "   \n",
    "\n",
    "    a = add(a, d)\n",
    "    d = rol64(d, 21)\n",
    "    d = xor(d, a)\n",
    "   \n",
    "\n",
    "    c = add(c, b)\n",
    "    b = rol64(b, 17)\n",
    "    b = xor(b, c)\n",
    "    c = rol64(c, 32)\n",
    "   \n",
    "\n",
    "    return [a, b, c, d]"
   ]
  },
  {
   "cell_type": "code",
   "execution_count": null,
   "id": "eb994002",
   "metadata": {},
   "outputs": [],
   "source": [
    "if bitsize == 32:\n",
    "\n",
    "    fastmix_perm = hsiphash_perm\n",
    "else: #64 bit case\n",
    "    fastmix_perm = siphash_perm"
   ]
  },
  {
   "cell_type": "code",
   "execution_count": null,
   "id": "8cb6e577",
   "metadata": {},
   "outputs": [],
   "source": [
    "def siphash_mix(pool, input1, input2):\n",
    "    pool[3] = xor(pool[3], input1)\n",
    "    pool = fastmix_perm(pool)\n",
    "    pool[0] = xor(pool[0], input1)\n",
    "   \n",
    "\n",
    "    pool[3] = xor(pool[3], input2)\n",
    "    pool = fastmix_perm(pool)\n",
    "    pool[0] = xor(pool[0], input2)\n",
    "   \n",
    "\n",
    "    return pool"
   ]
  },
  {
   "cell_type": "code",
   "execution_count": null,
   "id": "17913775",
   "metadata": {},
   "outputs": [],
   "source": [
    "def rot_mix(pool, input1, input2, r):\n",
    "\n",
    "    pool = xor(pool, input1)\n",
    "    pool = xor(pool, input2)\n",
    "    pool = bitrol(pool, r)\n",
    "   \n",
    "\n",
    "    return pool"
   ]
  },
  {
   "cell_type": "code",
   "execution_count": null,
   "id": "0c1880b8",
   "metadata": {},
   "outputs": [],
   "source": [
    "def fast_mix_old_perm(pool):\n",
    "    a, b, c, d = pool[0], pool[1], pool[2], pool[3]\n",
    "\n",
    "    a = add(a, b)\n",
    "    c = add(c, d)\n",
    "    b = bitrol(b, 6)\n",
    "    d = bitrol(d, 27)\n",
    "    d = xor(d, a)\n",
    "    b = xor(b, c)\n",
    "\n",
    "    a = add(a, b)\n",
    "    c = add(c, d)\n",
    "    b = bitrol(b, 16)\n",
    "    d = bitrol(d, 14)\n",
    "    d = xor(d, a)\n",
    "    b = xor(b, c)\n",
    "\n",
    "    a = add(a, b)\n",
    "    c = add(c, d)\n",
    "    b = bitrol(b, 6)\n",
    "    d = bitrol(d, 27)\n",
    "    d = xor(d, a)\n",
    "    b = xor(b, c)\n",
    "\n",
    "    a = add(a, b)\n",
    "    c = add(c, d)\n",
    "    b = bitrol(b, 16)\n",
    "    d = bitrol(d, 14)\n",
    "    d = xor(d, a)\n",
    "    b = xor(b, c)\n",
    "\n",
    "    return [a, b, c, d]"
   ]
  },
  {
   "cell_type": "code",
   "execution_count": null,
   "id": "028dcf2e",
   "metadata": {},
   "outputs": [],
   "source": [
    "def fast_mix(pool, input1, input2, input3, input4):\n",
    "    pool[0] ^= input1\n",
    "    pool[1] ^= input2\n",
    "    pool[2] ^= input3\n",
    "    pool[3] ^= input4\n",
    "   \n",
    "\n",
    "    return fast_mix_old_perm(pool)"
   ]
  },
  {
   "cell_type": "markdown",
   "id": "338cca6b",
   "metadata": {},
   "source": [
    "## 3) Distributions\n",
    "### A. Timestamp value"
   ]
  },
  {
   "cell_type": "code",
   "execution_count": null,
   "id": "246c82a9",
   "metadata": {},
   "outputs": [],
   "source": [
    "def generate_cauchy(gamma, x0, size):\n",
    "    cauchy_array = np.random.standard_cauchy(size) * gamma + x0\n",
    "    return cauchy_array.astype(int)"
   ]
  },
  {
   "cell_type": "code",
   "execution_count": null,
   "id": "94642055",
   "metadata": {
    "scrolled": true
   },
   "outputs": [],
   "source": [
    "gamma, x0, size = 48031, 3818, 4000000\n",
    "theta_distrib = generate_cauchy(gamma, x0, size)\n",
    "\n",
    "bins = int(np.sqrt(size))\n",
    "a = 2**18\n",
    "plot_range = (-a,a)\n",
    "\n",
    "print(\"bins  =\", bins)\n",
    "print(\"range =\", plot_range)\n",
    "\n",
    "plt.hist(theta_distrib, bins=bins, density=True, range=plot_range)\n",
    "plt.title(\"Histogram of Generated Cauchy Distribution\")\n",
    "plt.xlabel(\"Value\")\n",
    "plt.ylabel(\"Frequency\")\n",
    "plt.show()"
   ]
  },
  {
   "cell_type": "code",
   "execution_count": null,
   "id": "299be637",
   "metadata": {},
   "outputs": [],
   "source": [
    "def draw_cauchy_params(N):\n",
    "\n",
    "    cauchy_gamma_array = np.random.uniform(4e4, 8e4, N)\n",
    "    cauchy_x0_array = np.random.uniform(3e3, 8e3, N)\n",
    "    cauchy_delta_array = np.random.uniform(2e7, 9e7, N)\n",
    "   \n",
    "\n",
    "    return cauchy_gamma_array, cauchy_x0_array, cauchy_delta_array"
   ]
  },
  {
   "cell_type": "markdown",
   "id": "f3861d73",
   "metadata": {},
   "source": [
    "### B.Jiffy value"
   ]
  },
  {
   "cell_type": "code",
   "execution_count": null,
   "id": "113889ba",
   "metadata": {},
   "outputs": [],
   "source": [
    "def init_jiffy_arrays():\n",
    "    global jiffy_delta_distribution, jiffy_elements, jiffy_probabilities\n",
    "   \n",
    "\n",
    "    jiffy_delta_distribution = [\n",
    "        [0, 0.419073], [1, 0.027795], [2, 0.004821],\n",
    "        [3, 0.004008], [4, 0.455692], [5, 0.088511]\n",
    "    ]\n",
    "\n",
    "    jiffy_elements = [element for element, _ in jiffy_delta_distribution]\n",
    "    jiffy_probabilities = [probability for _, probability in jiffy_delta_distribution]\n",
    "\n",
    "def draw_jiffy_deltas(N):\n",
    "    drawn_elements = rd.choices(jiffy_elements, jiffy_probabilities, k=N)\n",
    "    return [np.uint64(i) for i in drawn_elements]\n",
    "\n",
    "def draw_jiffy_seed():\n",
    "    if bitsize == 32:\n",
    "        low, high = np.uint64(1e8), np.uint64(1e9)\n",
    "    else:\n",
    "        low, high = np.uint64(1e8), np.uint64(8e9)\n",
    "   \n",
    "\n",
    "    return rd.randrange(low, high)\n",
    "\n",
    "def draw_jiffy_values(N):\n",
    "    seed = draw_jiffy_seed()\n",
    "    drawn_deltas = draw_jiffy_deltas(N)\n",
    "   \n",
    "\n",
    "    drawn_values = []\n",
    "    for delta in drawn_deltas:\n",
    "        seed += delta\n",
    "        drawn_values.append(seed)\n",
    "       \n",
    "\n",
    "    return [np.uint64(i) for i in drawn_values]"
   ]
  },
  {
   "cell_type": "code",
   "execution_count": null,
   "id": "82a6c03b",
   "metadata": {},
   "outputs": [],
   "source": [
    "init_jiffy_arrays()\n",
    "draw_jiffy_deltas(3)"
   ]
  },
  {
   "cell_type": "code",
   "execution_count": null,
   "id": "4d2b6468",
   "metadata": {},
   "outputs": [],
   "source": [
    "draw_jiffy_values(3)"
   ]
  },
  {
   "cell_type": "markdown",
   "id": "e387ad9f",
   "metadata": {},
   "source": [
    "### C. Instruction Pointer value"
   ]
  },
  {
   "cell_type": "code",
   "execution_count": null,
   "id": "2c57d9d2",
   "metadata": {},
   "outputs": [],
   "source": [
    "def init_ip_arrays():\n",
    "    global instruction_pointer_distribution, ip_elements, ip_probabilities\n",
    "   \n",
    "\n",
    "    instruction_pointer_distribution = [\n",
    "        [4112549988, 0.729635], [3995109476, 0.177747], [3709896804, 0.072718],\n",
    "        [4005702796, 0.010259], [3995352108, 0.004920], [4005727176, 0.000448],\n",
    "        [4246767716, 0.000396], [4123167688, 0.000297], [4112865224, 0.000261],\n",
    "        [3995247160, 0.000223], [3995185056, 0.000115], [4112960576, 0.000110],\n",
    "        [4112786712, 0.000072], [4113351664, 0.000070], [4123167300, 0.000070],\n",
    "        [3720514504, 0.000058], [3710212040, 0.000053], [3712703804, 0.000050],\n",
    "        [3995424712, 0.000050], [4113352520, 0.000048]\n",
    "    ]\n",
    "\n",
    "    ip_elements = [element for element, _ in instruction_pointer_distribution]\n",
    "    ip_probabilities = [probability for _, probability in instruction_pointer_distribution]\n",
    "\n",
    "def draw_ip_values(N):\n",
    "    drawn_elements = rd.choices(ip_elements, ip_probabilities, k=N)\n",
    "    return [np.uint64(i) for i in drawn_elements]"
   ]
  },
  {
   "cell_type": "code",
   "execution_count": null,
   "id": "d8b2d20d",
   "metadata": {},
   "outputs": [],
   "source": [
    "init_ip_arrays()\n",
    "draw_ip_values(3)"
   ]
  },
  {
   "cell_type": "markdown",
   "id": "a516a59a",
   "metadata": {},
   "source": [
    "#### Simulating IP values"
   ]
  },
  {
   "cell_type": "code",
   "execution_count": null,
   "id": "78df69f1",
   "metadata": {
    "scrolled": false
   },
   "outputs": [],
   "source": [
    "xdata = list(range(len(instruction_pointer_distribution)))\n",
    "ydata = [point[1] for point in instruction_pointer_distribution]\n",
    "\n",
    "# Double exponential fitting\n",
    "def double_exponential(x, a, b, c):\n",
    "    return a * np.exp(b * x) + c\n",
    "\n",
    "ip_params, covariance = curve_fit(double_exponential, xdata, ydata, p0=(1, -1, 1))\n",
    "\n",
    "plt.scatter(xdata, ydata, color=\"red\", label=\"Original Data\")\n",
    "plt.plot(xdata, [double_exponential(x, *ip_params) for x in xdata], label=\"Fitted Curve\")\n",
    "plt.legend()\n",
    "plt.show()"
   ]
  },
  {
   "cell_type": "code",
   "execution_count": null,
   "id": "1320a4cf",
   "metadata": {},
   "outputs": [],
   "source": [
    "def generate_ip_probabilities(n, ip_params):\n",
    "    noise = np.random.uniform(0.8, 1.2, n)\n",
    "    probabilities = [double_exponential(x, *ip_params)*noise[i] for i,x in enumerate(range(n))]\n",
    "   \n",
    "\n",
    "    # Normalize the probabilities\n",
    "    total_prob = sum(probabilities)\n",
    "    probabilities = [p / total_prob for p in probabilities]\n",
    "   \n",
    "\n",
    "    # Generate n data points\n",
    "    low, high = int(37e8), int(43e8)\n",
    "    data_points = np.random.default_rng().integers(low, high, size=n)\n",
    "   \n",
    "\n",
    "    return [[data_points[i], probabilities[i]] for i in range(n)]"
   ]
  },
  {
   "cell_type": "code",
   "execution_count": null,
   "id": "45c3fb5b",
   "metadata": {},
   "outputs": [],
   "source": [
    "def generate_ip_arrays(n):\n",
    "    global ip_elements, ip_probabilities\n",
    "   \n",
    "\n",
    "    generated_ip = generate_ip_probabilities(n, ip_params)\n",
    "    sorted_ip = sorted(generated_ip, key=lambda x: x[1], reverse=True)\n",
    "   \n",
    "\n",
    "    ip_elements = [element for element, _ in sorted_ip]\n",
    "    ip_probabilities = [probability for _, probability in sorted_ip]"
   ]
  },
  {
   "cell_type": "code",
   "execution_count": null,
   "id": "41ca0cad",
   "metadata": {
    "scrolled": true
   },
   "outputs": [],
   "source": [
    "generate_ip_arrays(20)\n",
    "draw_ip_values(3)"
   ]
  },
  {
   "cell_type": "markdown",
   "id": "e15c8993",
   "metadata": {},
   "source": [
    "### D. IRQ value"
   ]
  },
  {
   "cell_type": "code",
   "execution_count": null,
   "id": "1a8b473a",
   "metadata": {},
   "outputs": [],
   "source": [
    "def init_irq_arrays():\n",
    "    global irq_distribution, irq_elements, irq_probabilities\n",
    "   \n",
    "\n",
    "    irq_distribution = [\n",
    "        [90, 0.563053], [76, 0.052640], [77, 0.049272],\n",
    "        [10, 0.044676], [70, 0.038246], [75, 0.035131],\n",
    "        [69, 0.033727], [73, 0.033374], [72, 0.029866],\n",
    "        [71, 0.026564], [74, 0.024222], [67, 0.018798],\n",
    "        [78, 0.017512], [68, 0.014154], [89, 0.011819]\n",
    "    ]\n",
    "\n",
    "    irq_elements = [element for element, _ in irq_distribution]\n",
    "    irq_probabilities = [probability for _, probability in irq_distribution]\n",
    "\n",
    "def draw_irq_values(N):\n",
    "    drawn_elements = rd.choices(irq_elements, irq_probabilities, k=N)\n",
    "    return [np.uint64(i) for i in drawn_elements]"
   ]
  },
  {
   "cell_type": "code",
   "execution_count": null,
   "id": "b3eaf274",
   "metadata": {},
   "outputs": [],
   "source": [
    "init_irq_arrays()\n",
    "draw_irq_values(3)"
   ]
  },
  {
   "cell_type": "markdown",
   "id": "1ca9b8f5",
   "metadata": {},
   "source": [
    "#### Simulating IRQ values"
   ]
  },
  {
   "cell_type": "code",
   "execution_count": null,
   "id": "31bd2326",
   "metadata": {
    "scrolled": false
   },
   "outputs": [],
   "source": [
    "xdata = list(range(len(irq_distribution)))\n",
    "ydata = [point[1] for point in irq_distribution]\n",
    "\n",
    "# Double exponential fitting\n",
    "def double_exponential(x, a, b, c):\n",
    "    return a * np.exp(b * x) + c\n",
    "\n",
    "irq_params, covariance = curve_fit(double_exponential, xdata, ydata, p0=(1, -1, 1))\n",
    "\n",
    "plt.scatter(xdata, ydata, color=\"red\", label=\"Original Data\")\n",
    "plt.plot(xdata, [double_exponential(x, *irq_params) for x in xdata], label=\"Fitted Curve\")\n",
    "plt.legend()\n",
    "plt.show()"
   ]
  },
  {
   "cell_type": "code",
   "execution_count": null,
   "id": "1ad79972",
   "metadata": {},
   "outputs": [],
   "source": [
    "def generate_irq_probabilities(n, irq_params):\n",
    "    noise = np.random.uniform(0.8, 1.2, n)\n",
    "    probabilities = [double_exponential(x, *irq_params)*noise[i] for i,x in enumerate(range(n))]\n",
    "   \n",
    "\n",
    "    # Normalize the probabilities\n",
    "    total_prob = sum(probabilities)\n",
    "    probabilities = [p / total_prob for p in probabilities]\n",
    "   \n",
    "\n",
    "    # Generate n data points\n",
    "    data_points = np.random.default_rng().integers(1, 100, size=n)\n",
    "   \n",
    "\n",
    "    return [[data_points[i], probabilities[i]] for i in range(n)]"
   ]
  },
  {
   "cell_type": "code",
   "execution_count": null,
   "id": "c22114af",
   "metadata": {},
   "outputs": [],
   "source": [
    "def generate_irq_arrays(n):\n",
    "    global irq_elements, irq_probabilities\n",
    "    generated_irq = generate_irq_probabilities(n, ip_params)\n",
    "    sorted_irq = sorted(generated_irq, key=lambda x: x[1], reverse=True)\n",
    "   \n",
    "\n",
    "    irq_elements = [element for element, _ in sorted_irq]\n",
    "    irq_probabilities = [probability for _, probability in sorted_irq]"
   ]
  },
  {
   "cell_type": "code",
   "execution_count": null,
   "id": "991183d8",
   "metadata": {
    "scrolled": true
   },
   "outputs": [],
   "source": [
    "generate_irq_arrays(20)\n",
    "draw_irq_values(3)"
   ]
  },
  {
   "cell_type": "markdown",
   "id": "d2fbde91",
   "metadata": {},
   "source": [
    "# II/ Simulation"
   ]
  },
  {
   "cell_type": "code",
   "execution_count": null,
   "id": "797f6d23",
   "metadata": {},
   "outputs": [],
   "source": [
    "chosen_tests: dict = {\n",
    "    'monobit': MonobitTest(),\n",
    "    'frequency_within_block': FrequencyWithinBlockTest(),\n",
    "    'runs': RunsTest(),\n",
    "    'longest_run_ones_in_a_block': LongestRunOnesInABlockTest(),\n",
    "#     'dft': DiscreteFourierTransformTest(),                                     #unapplicable\n",
    "    'non_overlapping_template_matching': NonOverlappingTemplateMatchingTest(),\n",
    "    'serial': SerialTest(),\n",
    "    'approximate_entropy': ApproximateEntropyTest(),\n",
    "    'cumulative sums': CumulativeSumsTest(),\n",
    "    'random_excursion': RandomExcursionTest(),\n",
    "#     'random_excursion_variant': RandomExcursionVariantTest()                   #unapplicable\n",
    "}"
   ]
  },
  {
   "cell_type": "code",
   "execution_count": null,
   "id": "eb836067",
   "metadata": {},
   "outputs": [],
   "source": [
    "def score_to_rating(score: float) -> float:\n",
    "    difference = abs(score - 0.5)\n",
    "    rating = 1 - 2 * difference\n",
    "    return rating**2"
   ]
  },
  {
   "cell_type": "markdown",
   "id": "620ac395",
   "metadata": {},
   "source": [
    "## A. Siphash"
   ]
  },
  {
   "cell_type": "code",
   "execution_count": null,
   "id": "6397bc91",
   "metadata": {},
   "outputs": [],
   "source": [
    "def make_siphash_sim(gamma, x0, delay, rounds, N, tests, verbose):\n",
    "\n",
    "    initial = [ np.uint64(0x736f6d6570736575), np.uint64(0x646f72616e646f6d),\n",
    "\n",
    "               np.uint64(0x6c7967656e657261), np.uint64(0x7465646279746573) ]\n",
    "    pools = [ initial for _ in range(N)]\n",
    "    output = []\n",
    "   \n",
    "\n",
    "    generate_ip_arrays(20), generate_irq_arrays(20)\n",
    "    delta_values = np.array([np.uint64(delay) for _ in range(N)])\n",
    "    timestamp_values = np.array([np.uint64(0) for _ in range(N)])\n",
    "   \n",
    "\n",
    "    for r in range(rounds):\n",
    "\n",
    "        printif(verbose, \"Round\" + str(r))\n",
    "       \n",
    "\n",
    "        # Generating timestamp with Theta & Delta\n",
    "        theta_values = np.array(generate_cauchy(gamma, x0, N))\n",
    "        delta_values = delta_values + theta_values\n",
    "        timestamp_values = [np.uint64(timestamp_values[i] + delta_values[i]) & mask for i in range(N)]\n",
    "       \n",
    "\n",
    "        # Drawing IP and IRQ\n",
    "        ip_values = draw_ip_values(N)\n",
    "        irq_values = draw_irq_values(N)\n",
    "       \n",
    "\n",
    "        # Calling fast_mix\n",
    "        for i in range(N):\n",
    "\n",
    "            pools[i] = siphash_mix(pools[i], timestamp_values[i], ip_values[i] ^ swab(irq_values[i]))\n",
    "               \n",
    "\n",
    "        flat_pool = np.concatenate(pools)\n",
    "        binary_sequence = pack_sequence(flat_pool)\n",
    "       \n",
    "\n",
    "        if tests == None:\n",
    "\n",
    "            eligible_battery: dict = check_eligibility_all_battery(\n",
    "                binary_sequence, SP800_22R1A_BATTERY)\n",
    "            tests = eligible_battery\n",
    "           \n",
    "\n",
    "        results = run_all_battery(binary_sequence, tests, False)\n",
    "       \n",
    "\n",
    "        for result, elapsed_time in results:           \n",
    "\n",
    "            output.append([\"siphash\", gamma, x0, delay, r, result.name, result.score, result.passed])\n",
    "            if result.passed:\n",
    "                printif(verbose, \"\\t - PASSED - score: \" + str(np.round(result.score, 3)) + \" - \" + result.name + \" - elapsed time: \" + str(elapsed_time) + \" ms\")\n",
    "            else:\n",
    "                printif(verbose, \"\\t - FAILED - score: \" + str(np.round(result.score, 3)) + \" - \" + result.name + \" - elapsed time: \" + str(elapsed_time) + \" ms\")\n",
    "\n",
    "    return output"
   ]
  },
  {
   "cell_type": "code",
   "execution_count": null,
   "id": "580a374b",
   "metadata": {
    "scrolled": true
   },
   "outputs": [],
   "source": [
    "make_siphash_sim(400, 0, 38229868, 8, 5000, chosen_tests, True)"
   ]
  },
  {
   "cell_type": "code",
   "execution_count": null,
   "id": "6f022307",
   "metadata": {
    "scrolled": true
   },
   "outputs": [],
   "source": [
    "make_siphash_sim(48031, 3818, 38229868, 8, 5000, chosen_tests, True)"
   ]
  },
  {
   "cell_type": "markdown",
   "id": "34dcac13",
   "metadata": {},
   "source": [
    "## B. Old fast_mix"
   ]
  },
  {
   "cell_type": "code",
   "execution_count": null,
   "id": "e97c8ed4",
   "metadata": {},
   "outputs": [],
   "source": [
    "def make_fast_mix_sim(gamma, x0, delay, rounds, N, tests, verbose):\n",
    "\n",
    "    pools = [ [np.uint64(0) for i in range(4) ] for _ in range(N)]\n",
    "    output = []\n",
    "   \n",
    "\n",
    "    generate_ip_arrays(20), generate_irq_arrays(20)\n",
    "    jiffy_values = np.array([np.uint64(0) for _ in range(N)])\n",
    "    delta_values = np.array([np.uint64(delay) for _ in range(N)])\n",
    "    timestamp_values = np.array([np.uint64(0) for _ in range(N)])\n",
    "   \n",
    "\n",
    "    for r in range(rounds):\n",
    "\n",
    "        printif(verbose, \"Round\" + str(r))\n",
    "       \n",
    "\n",
    "        # Generating timestamp with Theta & Delta\n",
    "        theta_values = np.array(generate_cauchy(gamma, x0, N))\n",
    "        delta_values = delta_values + theta_values\n",
    "        timestamp_values = [np.uint64(timestamp_values[i] + delta_values[i]) & mask for i in range(N)]\n",
    "       \n",
    "\n",
    "        #Generating jiffies with jdelta\n",
    "        jdelta_values = draw_jiffy_deltas(N)\n",
    "        jiffy_values = [np.uint64(jiffy_values[i] + jdelta_values[i]) & mask for i in range(N)]\n",
    "       \n",
    "\n",
    "        # Drawing IP and IRQ\n",
    "        ip_values = draw_ip_values(N)\n",
    "        irq_values = draw_irq_values(N)\n",
    "       \n",
    "\n",
    "        # Calling fast_mix\n",
    "        for i in range(N):\n",
    "\n",
    "            c_high = timestamp_values[i] >> np.uint64(32)\n",
    "            j_high = jiffy_values[i] >> np.uint64(32)\n",
    "           \n",
    "\n",
    "            pools[i] = fast_mix(pools[i], timestamp_values[i] ^ j_high ^ irq_values[i], jiffy_values[i] ^ c_high,\n",
    "                               ip_values[i], ip_values[i]>>np.uint64(32))\n",
    "               \n",
    "\n",
    "        flat_pool = np.concatenate(pools)\n",
    "        binary_sequence = pack_sequence(flat_pool)\n",
    "       \n",
    "\n",
    "        if tests == None:\n",
    "\n",
    "            eligible_battery: dict = check_eligibility_all_battery(\n",
    "                binary_sequence, SP800_22R1A_BATTERY)\n",
    "            tests = eligible_battery\n",
    "           \n",
    "\n",
    "        results = run_all_battery(binary_sequence, tests, False)\n",
    "       \n",
    "\n",
    "        for result, elapsed_time in results:           \n",
    "\n",
    "            output.append([\"fast_mix\", gamma, x0, delay, r, result.name, result.score, result.passed])\n",
    "            if result.passed:\n",
    "                printif(verbose, \"\\t - PASSED - score: \" + str(np.round(result.score, 3)) + \" - \" + result.name + \" - elapsed time: \" + str(elapsed_time) + \" ms\")\n",
    "            else:\n",
    "                printif(verbose, \"\\t - FAILED - score: \" + str(np.round(result.score, 3)) + \" - \" + result.name + \" - elapsed time: \" + str(elapsed_time) + \" ms\")\n",
    "\n",
    "    return output"
   ]
  },
  {
   "cell_type": "code",
   "execution_count": null,
   "id": "e28327fe",
   "metadata": {},
   "outputs": [],
   "source": [
    "make_fast_mix_sim(400, 0, 38229868, 8, 5000, chosen_tests, True)"
   ]
  },
  {
   "cell_type": "code",
   "execution_count": null,
   "id": "3e5d1c46",
   "metadata": {},
   "outputs": [],
   "source": [
    "make_fast_mix_sim(48031, 3818, 38229868, 8, 5000, chosen_tests, True)"
   ]
  },
  {
   "cell_type": "markdown",
   "id": "8db4f7f3",
   "metadata": {},
   "source": [
    "## C. Rotations"
   ]
  },
  {
   "cell_type": "code",
   "execution_count": null,
   "id": "483547c0",
   "metadata": {},
   "outputs": [],
   "source": [
    "def make_rotation_sim(rot, gamma, x0, delay, rounds, N, tests, verbose):\n",
    "\n",
    "    pools = [ np.uint64(0) for _ in range(N)]\n",
    "    output = []\n",
    "   \n",
    "\n",
    "    delta_values = np.array([np.uint64(delay) for _ in range(N)])\n",
    "    timestamp_values = np.array([np.uint64(0) for _ in range(N)])\n",
    "   \n",
    "\n",
    "    for r in range(rounds):\n",
    "\n",
    "        printif(verbose, \"Round\" + str(r))\n",
    "       \n",
    "\n",
    "        # Generating timestamp with Theta & Delta\n",
    "        theta_values = np.array(generate_cauchy(gamma, x0, N))\n",
    "        delta_values = delta_values + theta_values\n",
    "        timestamp_values = [np.uint64(timestamp_values[i] + delta_values[i]) & mask for i in range(N)]\n",
    "           \n",
    "\n",
    "        # Drawing IP and IRQ\n",
    "        ip_values = draw_ip_values(N)\n",
    "       \n",
    "\n",
    "        for i in range(N):\n",
    "\n",
    "            pools[i] = rot_mix(pools[i], timestamp_values[i], ip_values[i], rot)\n",
    "       \n",
    "\n",
    "        binary_sequence = pack_sequence(pools)\n",
    "       \n",
    "\n",
    "        if tests == None:\n",
    "\n",
    "            eligible_battery: dict = check_eligibility_all_battery(\n",
    "                binary_sequence, SP800_22R1A_BATTERY)\n",
    "            tests = eligible_battery\n",
    "           \n",
    "\n",
    "        results = run_all_battery(binary_sequence, tests, False)\n",
    "       \n",
    "\n",
    "        for result, elapsed_time in results:           \n",
    "\n",
    "            output.append([\"rot\"+str(rot), gamma, x0, delay, r, result.name, result.score, result.passed])\n",
    "            if result.passed:\n",
    "                printif(verbose, \"\\t - PASSED - score: \" + str(np.round(result.score, 3)) + \" - \" + result.name + \" - elapsed time: \" + str(elapsed_time) + \" ms\")\n",
    "            else:\n",
    "                printif(verbose, \"\\t - FAILED - score: \" + str(np.round(result.score, 3)) + \" - \" + result.name + \" - elapsed time: \" + str(elapsed_time) + \" ms\")\n",
    "\n",
    "    return output"
   ]
  },
  {
   "cell_type": "code",
   "execution_count": null,
   "id": "835a7e8f",
   "metadata": {
    "scrolled": true
   },
   "outputs": [],
   "source": [
    "# make_rotation_sim(18, 400, 0, 38229868, 8, 5000, chosen_tests, True)\n",
    "make_rotation_sim(18, 400, 0, 38229868, 8, 5000, chosen_tests, True)"
   ]
  },
  {
   "cell_type": "code",
   "execution_count": null,
   "id": "224fb6ca",
   "metadata": {},
   "outputs": [],
   "source": [
    "# make_rotation_sim(18, 48031, 3818, 38229868, 8, 5000, chosen_tests, True)\n",
    "make_rotation_sim(18, 48031, 3818, 38229868, 8, 5000, chosen_tests, True)"
   ]
  },
  {
   "cell_type": "markdown",
   "id": "3b52fdff",
   "metadata": {},
   "source": [
    "## C. Averaged result"
   ]
  },
  {
   "cell_type": "code",
   "execution_count": null,
   "id": "7ec09e37",
   "metadata": {},
   "outputs": [],
   "source": [
    "def init_csv(outfile):\n",
    "    write_to_csv(outfile, [['function','gamma','x0','delay','round','test','score','passed']])"
   ]
  },
  {
   "cell_type": "code",
   "execution_count": null,
   "id": "21c2351b",
   "metadata": {},
   "outputs": [],
   "source": [
    "def run_simulation(gamma, x0, delay, rounds, N, repeats, outfile):\n",
    "    for r in range(repeats):\n",
    "        print(\">Repeat \"+str(r+1)+\" of \"+str(repeats))\n",
    "       \n",
    "\n",
    "        output = make_siphash_sim(gamma, x0, delay, rounds, N, chosen_tests, False)\n",
    "        append_to_csv(outfile, output)\n",
    "        print('\\tSiphash done.')\n",
    "       \n",
    "\n",
    "        output = make_fast_mix_sim(gamma, x0, delay, rounds, N, chosen_tests, False)\n",
    "        append_to_csv(outfile, output)\n",
    "        print('\\tFast_mix done.')\n",
    "\n",
    "        for rot in range(bitsize - 1):\n",
    "            output = make_rotation_sim(rot+1, gamma, x0, delay, rounds, N, chosen_tests, False)\n",
    "\n",
    "            append_to_csv(outfile, output)\n",
    "            print('\\tRot ' + str(rot+1) + \" done.\")"
   ]
  },
  {
   "cell_type": "code",
   "execution_count": null,
   "id": "c129efe8",
   "metadata": {},
   "outputs": [],
   "source": [
    "def testing_64(outfile):\n",
    "    if bitsize == 64:\n",
    "        init_csv(outfile)\n",
    "\n",
    "        N=100\n",
    "        cauchy_gamma_array, cauchy_x0_array, cauchy_delta_array = draw_cauchy_params(N)\n",
    "\n",
    "        for i in range(N):\n",
    "            print(\"Run \" + str(i+1) + \" of \" + str(N))\n",
    "            run_simulation(cauchy_gamma_array[i], cauchy_x0_array[i], cauchy_delta_array[i],\n",
    "                           8, 16000, 1, outfile)\n",
    "\n",
    "        run_simulation(48031, 3818, 38229868, 8, 15000, 1, outfile)\n",
    "        run_simulation(48125, 3804, 38229868, 8, 15000, 1, outfile)\n",
    "        run_simulation(444592, -2986, 572059897, 8, 15000, 1, outfile)\n",
    "        run_simulation(47339, 7476, 38228910, 8, 15000, 1, outfile)\n",
    "        run_simulation(73323, 5263, 38228910, 8, 15000, 1, outfile)\n",
    "\n",
    "testing_64(os.path.join(\"out\", \"64bits\", \"out64.1.csv\"))"
   ]
  },
  {
   "cell_type": "markdown",
   "id": "056dd1f5",
   "metadata": {},
   "source": [
    "# III/ Result analysis"
   ]
  },
  {
   "cell_type": "code",
   "execution_count": 10,
   "id": "0165829b",
   "metadata": {},
   "outputs": [],
   "source": [
    "def import_csv(filename):\n",
    "    data_path = os.path.join(path, filename) + \".csv\"\n",
    "    data = pd.read_csv(data_path)\n",
    "       \n",
    "    return data"
   ]
  },
  {
   "cell_type": "markdown",
   "id": "02b50742",
   "metadata": {},
   "source": [
    "## A. Data compiling"
   ]
  },
  {
   "cell_type": "code",
   "execution_count": 11,
   "id": "0022c8a8",
   "metadata": {},
   "outputs": [],
   "source": [
    "def compile_csv_files(directory_path):\n",
    "    # Delete the master file if it already exists\n",
    "    output_path = os.path.join(directory_path, \"master_file.csv\")\n",
    "    if os.path.exists(output_path):\n",
    "        os.remove(output_path)\n",
    "        print(f\"Deleted existing master file: {output_path}\")\n",
    "       \n",
    "    # Find all CSV files\n",
    "    csv_files = [file for file in os.listdir(directory_path) if file.endswith(\".csv\")]\n",
    "   \n",
    "    # If no CSV files, abort\n",
    "    if not csv_files:\n",
    "        print(\"No CSV files found in the directory.\")\n",
    "        return\n",
    "   \n",
    "    dataframes = []\n",
    "    for file in csv_files:\n",
    "        file_path = os.path.join(directory_path, file)\n",
    "        data = pd.read_csv(file_path)\n",
    "        data['File Name'] = os.path.splitext(file)[0]  # Add file name as a new column\n",
    "        dataframes.append(data)\n",
    "   \n",
    "    combined_data = pd.concat(dataframes, ignore_index=True)\n",
    "    combined_data.to_csv(output_path, index=False)\n",
    "    print(f\"Master file created: {output_path}\")"
   ]
  },
  {
   "cell_type": "code",
   "execution_count": 12,
   "id": "fdc9b33d",
   "metadata": {},
   "outputs": [
    {
     "name": "stdout",
     "output_type": "stream",
     "text": [
      "Master file created: /home/boueza/documents/Personal/entropy/4.2_statistical_approach/out/64bits/master_file.csv\n"
     ]
    }
   ],
   "source": [
    "path64 = os.path.join(path, \"out\", \"64bits\")\n",
    "\n",
    "compile_csv_files(path64)"
   ]
  },
  {
   "cell_type": "markdown",
   "id": "5f3a7568",
   "metadata": {},
   "source": [
    "## B. Data processing"
   ]
  },
  {
   "cell_type": "code",
   "execution_count": 13,
   "id": "deeabab8",
   "metadata": {},
   "outputs": [
    {
     "data": {
      "text/plain": [
       "Index(['function', 'gamma', 'x0', 'delay', 'pools', 'round', 'test', 'score',\n",
       "       'passed', 'File Name'],\n",
       "      dtype='object')"
      ]
     },
     "execution_count": 13,
     "metadata": {},
     "output_type": "execute_result"
    }
   ],
   "source": [
    "filename64 = os.path.join(\"out\", \"64bits\", \"master_file\")\n",
    "data64 = import_csv(filename64)\n",
    "data64.columns"
   ]
  },
  {
   "cell_type": "raw",
   "id": "6d374a06",
   "metadata": {
    "vscode": {
     "languageId": "raw"
    }
   },
   "source": [
    "filename = os.path.join(\"out\", \"output\")\n",
    "data = import_csv(filename)"
   ]
  },
  {
   "cell_type": "code",
   "execution_count": 14,
   "id": "1502f4b7",
   "metadata": {},
   "outputs": [
    {
     "data": {
      "text/plain": [
       "array(['fast_mix', 'rot1', 'rot10', 'rot11', 'rot12', 'rot13', 'rot14',\n",
       "       'rot15', 'rot16', 'rot17', 'rot18', 'rot19', 'rot2', 'rot20',\n",
       "       'rot21', 'rot22', 'rot23', 'rot24', 'rot25', 'rot26', 'rot27',\n",
       "       'rot28', 'rot29', 'rot3', 'rot30', 'rot31', 'rot32', 'rot33',\n",
       "       'rot34', 'rot35', 'rot36', 'rot37', 'rot38', 'rot39', 'rot4',\n",
       "       'rot40', 'rot41', 'rot42', 'rot43', 'rot44', 'rot45', 'rot46',\n",
       "       'rot47', 'rot48', 'rot49', 'rot5', 'rot50', 'rot51', 'rot52',\n",
       "       'rot53', 'rot54', 'rot55', 'rot56', 'rot57', 'rot58', 'rot59',\n",
       "       'rot6', 'rot60', 'rot61', 'rot62', 'rot63', 'rot7', 'rot8', 'rot9',\n",
       "       'siphash'], dtype=object)"
      ]
     },
     "execution_count": 14,
     "metadata": {},
     "output_type": "execute_result"
    }
   ],
   "source": [
    "data_average = data64.groupby(['function', 'round'])['score'].mean().reset_index()\n",
    "# data_average['rating'] = data_average['score'].apply(score_to_rating)\n",
    "data_average.function.unique()"
   ]
  },
  {
   "cell_type": "code",
   "execution_count": 15,
   "id": "e9223fab",
   "metadata": {},
   "outputs": [
    {
     "ename": "RuntimeError",
     "evalue": "latex was not able to process the following string:\nb'lp'\n\nHere is the full command invocation and its output:\n\nlatex -interaction=nonstopmode --halt-on-error ../c61b7c48806bf40c738791b21c6269d9.tex\n\nThis is pdfTeX, Version 3.14159265-2.6-1.40.20 (TeX Live 2019/Debian) (preloaded format=latex)\n restricted \\write18 enabled.\nentering extended mode\n(../c61b7c48806bf40c738791b21c6269d9.tex\nLaTeX2e <2020-02-02> patch level 2\nL3 programming layer <2020-02-14>\n(/usr/share/texlive/texmf-dist/tex/latex/base/article.cls\nDocument Class: article 2019/12/20 v1.4l Standard LaTeX document class\n(/usr/share/texlive/texmf-dist/tex/latex/base/size10.clo))\n(/usr/share/texlive/texmf-dist/tex/latex/type1cm/type1cm.sty)\n\n! LaTeX Error: File `type1ec.sty' not found.\n\nType X to quit or <RETURN> to proceed,\nor enter new name. (Default extension: sty)\n\nEnter file name: \n! Emergency stop.\n<read *> \n         \nl.9 \\usepackage\n               [utf8]{inputenc}^^M\nNo pages of output.\nTranscript written on c61b7c48806bf40c738791b21c6269d9.log.\n\n\n",
     "output_type": "error",
     "traceback": [
      "\u001b[0;31m---------------------------------------------------------------------------\u001b[0m",
      "\u001b[0;31mRuntimeError\u001b[0m                              Traceback (most recent call last)",
      "File \u001b[0;32m~/.local/lib/python3.9/site-packages/IPython/core/formatters.py:338\u001b[0m, in \u001b[0;36mBaseFormatter.__call__\u001b[0;34m(self, obj)\u001b[0m\n\u001b[1;32m    336\u001b[0m     \u001b[38;5;28;01mpass\u001b[39;00m\n\u001b[1;32m    337\u001b[0m \u001b[38;5;28;01melse\u001b[39;00m:\n\u001b[0;32m--> 338\u001b[0m     \u001b[38;5;28;01mreturn\u001b[39;00m \u001b[43mprinter\u001b[49m\u001b[43m(\u001b[49m\u001b[43mobj\u001b[49m\u001b[43m)\u001b[49m\n\u001b[1;32m    339\u001b[0m \u001b[38;5;66;03m# Finally look for special method names\u001b[39;00m\n\u001b[1;32m    340\u001b[0m method \u001b[38;5;241m=\u001b[39m get_real_method(obj, \u001b[38;5;28mself\u001b[39m\u001b[38;5;241m.\u001b[39mprint_method)\n",
      "File \u001b[0;32m~/.local/lib/python3.9/site-packages/IPython/core/pylabtools.py:152\u001b[0m, in \u001b[0;36mprint_figure\u001b[0;34m(fig, fmt, bbox_inches, base64, **kwargs)\u001b[0m\n\u001b[1;32m    149\u001b[0m     \u001b[38;5;28;01mfrom\u001b[39;00m \u001b[38;5;21;01mmatplotlib\u001b[39;00m\u001b[38;5;21;01m.\u001b[39;00m\u001b[38;5;21;01mbackend_bases\u001b[39;00m \u001b[38;5;28;01mimport\u001b[39;00m FigureCanvasBase\n\u001b[1;32m    150\u001b[0m     FigureCanvasBase(fig)\n\u001b[0;32m--> 152\u001b[0m \u001b[43mfig\u001b[49m\u001b[38;5;241;43m.\u001b[39;49m\u001b[43mcanvas\u001b[49m\u001b[38;5;241;43m.\u001b[39;49m\u001b[43mprint_figure\u001b[49m\u001b[43m(\u001b[49m\u001b[43mbytes_io\u001b[49m\u001b[43m,\u001b[49m\u001b[43m \u001b[49m\u001b[38;5;241;43m*\u001b[39;49m\u001b[38;5;241;43m*\u001b[39;49m\u001b[43mkw\u001b[49m\u001b[43m)\u001b[49m\n\u001b[1;32m    153\u001b[0m data \u001b[38;5;241m=\u001b[39m bytes_io\u001b[38;5;241m.\u001b[39mgetvalue()\n\u001b[1;32m    154\u001b[0m \u001b[38;5;28;01mif\u001b[39;00m fmt \u001b[38;5;241m==\u001b[39m \u001b[38;5;124m'\u001b[39m\u001b[38;5;124msvg\u001b[39m\u001b[38;5;124m'\u001b[39m:\n",
      "File \u001b[0;32m/home/linuxbrew/.linuxbrew/Cellar/python@3.9/3.9.13_1/lib/python3.9/site-packages/matplotlib/backend_bases.py:2314\u001b[0m, in \u001b[0;36mFigureCanvasBase.print_figure\u001b[0;34m(self, filename, dpi, facecolor, edgecolor, orientation, format, bbox_inches, pad_inches, bbox_extra_artists, backend, **kwargs)\u001b[0m\n\u001b[1;32m   2308\u001b[0m     renderer \u001b[38;5;241m=\u001b[39m _get_renderer(\n\u001b[1;32m   2309\u001b[0m         \u001b[38;5;28mself\u001b[39m\u001b[38;5;241m.\u001b[39mfigure,\n\u001b[1;32m   2310\u001b[0m         functools\u001b[38;5;241m.\u001b[39mpartial(\n\u001b[1;32m   2311\u001b[0m             print_method, orientation\u001b[38;5;241m=\u001b[39morientation)\n\u001b[1;32m   2312\u001b[0m     )\n\u001b[1;32m   2313\u001b[0m     \u001b[38;5;28;01mwith\u001b[39;00m \u001b[38;5;28mgetattr\u001b[39m(renderer, \u001b[38;5;124m\"\u001b[39m\u001b[38;5;124m_draw_disabled\u001b[39m\u001b[38;5;124m\"\u001b[39m, nullcontext)():\n\u001b[0;32m-> 2314\u001b[0m         \u001b[38;5;28;43mself\u001b[39;49m\u001b[38;5;241;43m.\u001b[39;49m\u001b[43mfigure\u001b[49m\u001b[38;5;241;43m.\u001b[39;49m\u001b[43mdraw\u001b[49m\u001b[43m(\u001b[49m\u001b[43mrenderer\u001b[49m\u001b[43m)\u001b[49m\n\u001b[1;32m   2316\u001b[0m \u001b[38;5;28;01mif\u001b[39;00m bbox_inches:\n\u001b[1;32m   2317\u001b[0m     \u001b[38;5;28;01mif\u001b[39;00m bbox_inches \u001b[38;5;241m==\u001b[39m \u001b[38;5;124m\"\u001b[39m\u001b[38;5;124mtight\u001b[39m\u001b[38;5;124m\"\u001b[39m:\n",
      "File \u001b[0;32m/home/linuxbrew/.linuxbrew/Cellar/python@3.9/3.9.13_1/lib/python3.9/site-packages/matplotlib/artist.py:74\u001b[0m, in \u001b[0;36m_finalize_rasterization.<locals>.draw_wrapper\u001b[0;34m(artist, renderer, *args, **kwargs)\u001b[0m\n\u001b[1;32m     72\u001b[0m \u001b[38;5;129m@wraps\u001b[39m(draw)\n\u001b[1;32m     73\u001b[0m \u001b[38;5;28;01mdef\u001b[39;00m \u001b[38;5;21mdraw_wrapper\u001b[39m(artist, renderer, \u001b[38;5;241m*\u001b[39margs, \u001b[38;5;241m*\u001b[39m\u001b[38;5;241m*\u001b[39mkwargs):\n\u001b[0;32m---> 74\u001b[0m     result \u001b[38;5;241m=\u001b[39m \u001b[43mdraw\u001b[49m\u001b[43m(\u001b[49m\u001b[43martist\u001b[49m\u001b[43m,\u001b[49m\u001b[43m \u001b[49m\u001b[43mrenderer\u001b[49m\u001b[43m,\u001b[49m\u001b[43m \u001b[49m\u001b[38;5;241;43m*\u001b[39;49m\u001b[43margs\u001b[49m\u001b[43m,\u001b[49m\u001b[43m \u001b[49m\u001b[38;5;241;43m*\u001b[39;49m\u001b[38;5;241;43m*\u001b[39;49m\u001b[43mkwargs\u001b[49m\u001b[43m)\u001b[49m\n\u001b[1;32m     75\u001b[0m     \u001b[38;5;28;01mif\u001b[39;00m renderer\u001b[38;5;241m.\u001b[39m_rasterizing:\n\u001b[1;32m     76\u001b[0m         renderer\u001b[38;5;241m.\u001b[39mstop_rasterizing()\n",
      "File \u001b[0;32m/home/linuxbrew/.linuxbrew/Cellar/python@3.9/3.9.13_1/lib/python3.9/site-packages/matplotlib/artist.py:51\u001b[0m, in \u001b[0;36mallow_rasterization.<locals>.draw_wrapper\u001b[0;34m(artist, renderer)\u001b[0m\n\u001b[1;32m     48\u001b[0m     \u001b[38;5;28;01mif\u001b[39;00m artist\u001b[38;5;241m.\u001b[39mget_agg_filter() \u001b[38;5;129;01mis\u001b[39;00m \u001b[38;5;129;01mnot\u001b[39;00m \u001b[38;5;28;01mNone\u001b[39;00m:\n\u001b[1;32m     49\u001b[0m         renderer\u001b[38;5;241m.\u001b[39mstart_filter()\n\u001b[0;32m---> 51\u001b[0m     \u001b[38;5;28;01mreturn\u001b[39;00m \u001b[43mdraw\u001b[49m\u001b[43m(\u001b[49m\u001b[43martist\u001b[49m\u001b[43m,\u001b[49m\u001b[43m \u001b[49m\u001b[43mrenderer\u001b[49m\u001b[43m)\u001b[49m\n\u001b[1;32m     52\u001b[0m \u001b[38;5;28;01mfinally\u001b[39;00m:\n\u001b[1;32m     53\u001b[0m     \u001b[38;5;28;01mif\u001b[39;00m artist\u001b[38;5;241m.\u001b[39mget_agg_filter() \u001b[38;5;129;01mis\u001b[39;00m \u001b[38;5;129;01mnot\u001b[39;00m \u001b[38;5;28;01mNone\u001b[39;00m:\n",
      "File \u001b[0;32m/home/linuxbrew/.linuxbrew/Cellar/python@3.9/3.9.13_1/lib/python3.9/site-packages/matplotlib/figure.py:3071\u001b[0m, in \u001b[0;36mFigure.draw\u001b[0;34m(self, renderer)\u001b[0m\n\u001b[1;32m   3068\u001b[0m         \u001b[38;5;66;03m# ValueError can occur when resizing a window.\u001b[39;00m\n\u001b[1;32m   3070\u001b[0m \u001b[38;5;28mself\u001b[39m\u001b[38;5;241m.\u001b[39mpatch\u001b[38;5;241m.\u001b[39mdraw(renderer)\n\u001b[0;32m-> 3071\u001b[0m \u001b[43mmimage\u001b[49m\u001b[38;5;241;43m.\u001b[39;49m\u001b[43m_draw_list_compositing_images\u001b[49m\u001b[43m(\u001b[49m\n\u001b[1;32m   3072\u001b[0m \u001b[43m    \u001b[49m\u001b[43mrenderer\u001b[49m\u001b[43m,\u001b[49m\u001b[43m \u001b[49m\u001b[38;5;28;43mself\u001b[39;49m\u001b[43m,\u001b[49m\u001b[43m \u001b[49m\u001b[43martists\u001b[49m\u001b[43m,\u001b[49m\u001b[43m \u001b[49m\u001b[38;5;28;43mself\u001b[39;49m\u001b[38;5;241;43m.\u001b[39;49m\u001b[43msuppressComposite\u001b[49m\u001b[43m)\u001b[49m\n\u001b[1;32m   3074\u001b[0m \u001b[38;5;28;01mfor\u001b[39;00m sfig \u001b[38;5;129;01min\u001b[39;00m \u001b[38;5;28mself\u001b[39m\u001b[38;5;241m.\u001b[39msubfigs:\n\u001b[1;32m   3075\u001b[0m     sfig\u001b[38;5;241m.\u001b[39mdraw(renderer)\n",
      "File \u001b[0;32m/home/linuxbrew/.linuxbrew/Cellar/python@3.9/3.9.13_1/lib/python3.9/site-packages/matplotlib/image.py:131\u001b[0m, in \u001b[0;36m_draw_list_compositing_images\u001b[0;34m(renderer, parent, artists, suppress_composite)\u001b[0m\n\u001b[1;32m    129\u001b[0m \u001b[38;5;28;01mif\u001b[39;00m not_composite \u001b[38;5;129;01mor\u001b[39;00m \u001b[38;5;129;01mnot\u001b[39;00m has_images:\n\u001b[1;32m    130\u001b[0m     \u001b[38;5;28;01mfor\u001b[39;00m a \u001b[38;5;129;01min\u001b[39;00m artists:\n\u001b[0;32m--> 131\u001b[0m         \u001b[43ma\u001b[49m\u001b[38;5;241;43m.\u001b[39;49m\u001b[43mdraw\u001b[49m\u001b[43m(\u001b[49m\u001b[43mrenderer\u001b[49m\u001b[43m)\u001b[49m\n\u001b[1;32m    132\u001b[0m \u001b[38;5;28;01melse\u001b[39;00m:\n\u001b[1;32m    133\u001b[0m     \u001b[38;5;66;03m# Composite any adjacent images together\u001b[39;00m\n\u001b[1;32m    134\u001b[0m     image_group \u001b[38;5;241m=\u001b[39m []\n",
      "File \u001b[0;32m/home/linuxbrew/.linuxbrew/Cellar/python@3.9/3.9.13_1/lib/python3.9/site-packages/matplotlib/artist.py:51\u001b[0m, in \u001b[0;36mallow_rasterization.<locals>.draw_wrapper\u001b[0;34m(artist, renderer)\u001b[0m\n\u001b[1;32m     48\u001b[0m     \u001b[38;5;28;01mif\u001b[39;00m artist\u001b[38;5;241m.\u001b[39mget_agg_filter() \u001b[38;5;129;01mis\u001b[39;00m \u001b[38;5;129;01mnot\u001b[39;00m \u001b[38;5;28;01mNone\u001b[39;00m:\n\u001b[1;32m     49\u001b[0m         renderer\u001b[38;5;241m.\u001b[39mstart_filter()\n\u001b[0;32m---> 51\u001b[0m     \u001b[38;5;28;01mreturn\u001b[39;00m \u001b[43mdraw\u001b[49m\u001b[43m(\u001b[49m\u001b[43martist\u001b[49m\u001b[43m,\u001b[49m\u001b[43m \u001b[49m\u001b[43mrenderer\u001b[49m\u001b[43m)\u001b[49m\n\u001b[1;32m     52\u001b[0m \u001b[38;5;28;01mfinally\u001b[39;00m:\n\u001b[1;32m     53\u001b[0m     \u001b[38;5;28;01mif\u001b[39;00m artist\u001b[38;5;241m.\u001b[39mget_agg_filter() \u001b[38;5;129;01mis\u001b[39;00m \u001b[38;5;129;01mnot\u001b[39;00m \u001b[38;5;28;01mNone\u001b[39;00m:\n",
      "File \u001b[0;32m/home/linuxbrew/.linuxbrew/Cellar/python@3.9/3.9.13_1/lib/python3.9/site-packages/matplotlib/axes/_base.py:3107\u001b[0m, in \u001b[0;36m_AxesBase.draw\u001b[0;34m(self, renderer)\u001b[0m\n\u001b[1;32m   3104\u001b[0m         a\u001b[38;5;241m.\u001b[39mdraw(renderer)\n\u001b[1;32m   3105\u001b[0m     renderer\u001b[38;5;241m.\u001b[39mstop_rasterizing()\n\u001b[0;32m-> 3107\u001b[0m \u001b[43mmimage\u001b[49m\u001b[38;5;241;43m.\u001b[39;49m\u001b[43m_draw_list_compositing_images\u001b[49m\u001b[43m(\u001b[49m\n\u001b[1;32m   3108\u001b[0m \u001b[43m    \u001b[49m\u001b[43mrenderer\u001b[49m\u001b[43m,\u001b[49m\u001b[43m \u001b[49m\u001b[38;5;28;43mself\u001b[39;49m\u001b[43m,\u001b[49m\u001b[43m \u001b[49m\u001b[43martists\u001b[49m\u001b[43m,\u001b[49m\u001b[43m \u001b[49m\u001b[38;5;28;43mself\u001b[39;49m\u001b[38;5;241;43m.\u001b[39;49m\u001b[43mfigure\u001b[49m\u001b[38;5;241;43m.\u001b[39;49m\u001b[43msuppressComposite\u001b[49m\u001b[43m)\u001b[49m\n\u001b[1;32m   3110\u001b[0m renderer\u001b[38;5;241m.\u001b[39mclose_group(\u001b[38;5;124m'\u001b[39m\u001b[38;5;124maxes\u001b[39m\u001b[38;5;124m'\u001b[39m)\n\u001b[1;32m   3111\u001b[0m \u001b[38;5;28mself\u001b[39m\u001b[38;5;241m.\u001b[39mstale \u001b[38;5;241m=\u001b[39m \u001b[38;5;28;01mFalse\u001b[39;00m\n",
      "File \u001b[0;32m/home/linuxbrew/.linuxbrew/Cellar/python@3.9/3.9.13_1/lib/python3.9/site-packages/matplotlib/image.py:131\u001b[0m, in \u001b[0;36m_draw_list_compositing_images\u001b[0;34m(renderer, parent, artists, suppress_composite)\u001b[0m\n\u001b[1;32m    129\u001b[0m \u001b[38;5;28;01mif\u001b[39;00m not_composite \u001b[38;5;129;01mor\u001b[39;00m \u001b[38;5;129;01mnot\u001b[39;00m has_images:\n\u001b[1;32m    130\u001b[0m     \u001b[38;5;28;01mfor\u001b[39;00m a \u001b[38;5;129;01min\u001b[39;00m artists:\n\u001b[0;32m--> 131\u001b[0m         \u001b[43ma\u001b[49m\u001b[38;5;241;43m.\u001b[39;49m\u001b[43mdraw\u001b[49m\u001b[43m(\u001b[49m\u001b[43mrenderer\u001b[49m\u001b[43m)\u001b[49m\n\u001b[1;32m    132\u001b[0m \u001b[38;5;28;01melse\u001b[39;00m:\n\u001b[1;32m    133\u001b[0m     \u001b[38;5;66;03m# Composite any adjacent images together\u001b[39;00m\n\u001b[1;32m    134\u001b[0m     image_group \u001b[38;5;241m=\u001b[39m []\n",
      "File \u001b[0;32m/home/linuxbrew/.linuxbrew/Cellar/python@3.9/3.9.13_1/lib/python3.9/site-packages/matplotlib/artist.py:51\u001b[0m, in \u001b[0;36mallow_rasterization.<locals>.draw_wrapper\u001b[0;34m(artist, renderer)\u001b[0m\n\u001b[1;32m     48\u001b[0m     \u001b[38;5;28;01mif\u001b[39;00m artist\u001b[38;5;241m.\u001b[39mget_agg_filter() \u001b[38;5;129;01mis\u001b[39;00m \u001b[38;5;129;01mnot\u001b[39;00m \u001b[38;5;28;01mNone\u001b[39;00m:\n\u001b[1;32m     49\u001b[0m         renderer\u001b[38;5;241m.\u001b[39mstart_filter()\n\u001b[0;32m---> 51\u001b[0m     \u001b[38;5;28;01mreturn\u001b[39;00m \u001b[43mdraw\u001b[49m\u001b[43m(\u001b[49m\u001b[43martist\u001b[49m\u001b[43m,\u001b[49m\u001b[43m \u001b[49m\u001b[43mrenderer\u001b[49m\u001b[43m)\u001b[49m\n\u001b[1;32m     52\u001b[0m \u001b[38;5;28;01mfinally\u001b[39;00m:\n\u001b[1;32m     53\u001b[0m     \u001b[38;5;28;01mif\u001b[39;00m artist\u001b[38;5;241m.\u001b[39mget_agg_filter() \u001b[38;5;129;01mis\u001b[39;00m \u001b[38;5;129;01mnot\u001b[39;00m \u001b[38;5;28;01mNone\u001b[39;00m:\n",
      "File \u001b[0;32m/home/linuxbrew/.linuxbrew/Cellar/python@3.9/3.9.13_1/lib/python3.9/site-packages/matplotlib/axis.py:1305\u001b[0m, in \u001b[0;36mAxis.draw\u001b[0;34m(self, renderer, *args, **kwargs)\u001b[0m\n\u001b[1;32m   1302\u001b[0m renderer\u001b[38;5;241m.\u001b[39mopen_group(\u001b[38;5;18m__name__\u001b[39m, gid\u001b[38;5;241m=\u001b[39m\u001b[38;5;28mself\u001b[39m\u001b[38;5;241m.\u001b[39mget_gid())\n\u001b[1;32m   1304\u001b[0m ticks_to_draw \u001b[38;5;241m=\u001b[39m \u001b[38;5;28mself\u001b[39m\u001b[38;5;241m.\u001b[39m_update_ticks()\n\u001b[0;32m-> 1305\u001b[0m tlb1, tlb2 \u001b[38;5;241m=\u001b[39m \u001b[38;5;28;43mself\u001b[39;49m\u001b[38;5;241;43m.\u001b[39;49m\u001b[43m_get_ticklabel_bboxes\u001b[49m\u001b[43m(\u001b[49m\u001b[43mticks_to_draw\u001b[49m\u001b[43m,\u001b[49m\u001b[43m \u001b[49m\u001b[43mrenderer\u001b[49m\u001b[43m)\u001b[49m\n\u001b[1;32m   1307\u001b[0m \u001b[38;5;28;01mfor\u001b[39;00m tick \u001b[38;5;129;01min\u001b[39;00m ticks_to_draw:\n\u001b[1;32m   1308\u001b[0m     tick\u001b[38;5;241m.\u001b[39mdraw(renderer)\n",
      "File \u001b[0;32m/home/linuxbrew/.linuxbrew/Cellar/python@3.9/3.9.13_1/lib/python3.9/site-packages/matplotlib/axis.py:1232\u001b[0m, in \u001b[0;36mAxis._get_ticklabel_bboxes\u001b[0;34m(self, ticks, renderer)\u001b[0m\n\u001b[1;32m   1230\u001b[0m \u001b[38;5;28;01mif\u001b[39;00m renderer \u001b[38;5;129;01mis\u001b[39;00m \u001b[38;5;28;01mNone\u001b[39;00m:\n\u001b[1;32m   1231\u001b[0m     renderer \u001b[38;5;241m=\u001b[39m \u001b[38;5;28mself\u001b[39m\u001b[38;5;241m.\u001b[39mfigure\u001b[38;5;241m.\u001b[39m_get_renderer()\n\u001b[0;32m-> 1232\u001b[0m \u001b[38;5;28;01mreturn\u001b[39;00m ([tick\u001b[38;5;241m.\u001b[39mlabel1\u001b[38;5;241m.\u001b[39mget_window_extent(renderer)\n\u001b[1;32m   1233\u001b[0m          \u001b[38;5;28;01mfor\u001b[39;00m tick \u001b[38;5;129;01min\u001b[39;00m ticks \u001b[38;5;28;01mif\u001b[39;00m tick\u001b[38;5;241m.\u001b[39mlabel1\u001b[38;5;241m.\u001b[39mget_visible()],\n\u001b[1;32m   1234\u001b[0m         [tick\u001b[38;5;241m.\u001b[39mlabel2\u001b[38;5;241m.\u001b[39mget_window_extent(renderer)\n\u001b[1;32m   1235\u001b[0m          \u001b[38;5;28;01mfor\u001b[39;00m tick \u001b[38;5;129;01min\u001b[39;00m ticks \u001b[38;5;28;01mif\u001b[39;00m tick\u001b[38;5;241m.\u001b[39mlabel2\u001b[38;5;241m.\u001b[39mget_visible()])\n",
      "File \u001b[0;32m/home/linuxbrew/.linuxbrew/Cellar/python@3.9/3.9.13_1/lib/python3.9/site-packages/matplotlib/axis.py:1232\u001b[0m, in \u001b[0;36m<listcomp>\u001b[0;34m(.0)\u001b[0m\n\u001b[1;32m   1230\u001b[0m \u001b[38;5;28;01mif\u001b[39;00m renderer \u001b[38;5;129;01mis\u001b[39;00m \u001b[38;5;28;01mNone\u001b[39;00m:\n\u001b[1;32m   1231\u001b[0m     renderer \u001b[38;5;241m=\u001b[39m \u001b[38;5;28mself\u001b[39m\u001b[38;5;241m.\u001b[39mfigure\u001b[38;5;241m.\u001b[39m_get_renderer()\n\u001b[0;32m-> 1232\u001b[0m \u001b[38;5;28;01mreturn\u001b[39;00m ([\u001b[43mtick\u001b[49m\u001b[38;5;241;43m.\u001b[39;49m\u001b[43mlabel1\u001b[49m\u001b[38;5;241;43m.\u001b[39;49m\u001b[43mget_window_extent\u001b[49m\u001b[43m(\u001b[49m\u001b[43mrenderer\u001b[49m\u001b[43m)\u001b[49m\n\u001b[1;32m   1233\u001b[0m          \u001b[38;5;28;01mfor\u001b[39;00m tick \u001b[38;5;129;01min\u001b[39;00m ticks \u001b[38;5;28;01mif\u001b[39;00m tick\u001b[38;5;241m.\u001b[39mlabel1\u001b[38;5;241m.\u001b[39mget_visible()],\n\u001b[1;32m   1234\u001b[0m         [tick\u001b[38;5;241m.\u001b[39mlabel2\u001b[38;5;241m.\u001b[39mget_window_extent(renderer)\n\u001b[1;32m   1235\u001b[0m          \u001b[38;5;28;01mfor\u001b[39;00m tick \u001b[38;5;129;01min\u001b[39;00m ticks \u001b[38;5;28;01mif\u001b[39;00m tick\u001b[38;5;241m.\u001b[39mlabel2\u001b[38;5;241m.\u001b[39mget_visible()])\n",
      "File \u001b[0;32m/home/linuxbrew/.linuxbrew/Cellar/python@3.9/3.9.13_1/lib/python3.9/site-packages/matplotlib/text.py:915\u001b[0m, in \u001b[0;36mText.get_window_extent\u001b[0;34m(self, renderer, dpi)\u001b[0m\n\u001b[1;32m    910\u001b[0m     \u001b[38;5;28;01mraise\u001b[39;00m \u001b[38;5;167;01mRuntimeError\u001b[39;00m(\n\u001b[1;32m    911\u001b[0m         \u001b[38;5;124m\"\u001b[39m\u001b[38;5;124mCannot get window extent of text w/o renderer. You likely \u001b[39m\u001b[38;5;124m\"\u001b[39m\n\u001b[1;32m    912\u001b[0m         \u001b[38;5;124m\"\u001b[39m\u001b[38;5;124mwant to call \u001b[39m\u001b[38;5;124m'\u001b[39m\u001b[38;5;124mfigure.draw_without_rendering()\u001b[39m\u001b[38;5;124m'\u001b[39m\u001b[38;5;124m first.\u001b[39m\u001b[38;5;124m\"\u001b[39m)\n\u001b[1;32m    914\u001b[0m \u001b[38;5;28;01mwith\u001b[39;00m cbook\u001b[38;5;241m.\u001b[39m_setattr_cm(\u001b[38;5;28mself\u001b[39m\u001b[38;5;241m.\u001b[39mfigure, dpi\u001b[38;5;241m=\u001b[39mdpi):\n\u001b[0;32m--> 915\u001b[0m     bbox, info, descent \u001b[38;5;241m=\u001b[39m \u001b[38;5;28;43mself\u001b[39;49m\u001b[38;5;241;43m.\u001b[39;49m\u001b[43m_get_layout\u001b[49m\u001b[43m(\u001b[49m\u001b[38;5;28;43mself\u001b[39;49m\u001b[38;5;241;43m.\u001b[39;49m\u001b[43m_renderer\u001b[49m\u001b[43m)\u001b[49m\n\u001b[1;32m    916\u001b[0m     x, y \u001b[38;5;241m=\u001b[39m \u001b[38;5;28mself\u001b[39m\u001b[38;5;241m.\u001b[39mget_unitless_position()\n\u001b[1;32m    917\u001b[0m     x, y \u001b[38;5;241m=\u001b[39m \u001b[38;5;28mself\u001b[39m\u001b[38;5;241m.\u001b[39mget_transform()\u001b[38;5;241m.\u001b[39mtransform((x, y))\n",
      "File \u001b[0;32m/home/linuxbrew/.linuxbrew/Cellar/python@3.9/3.9.13_1/lib/python3.9/site-packages/matplotlib/text.py:313\u001b[0m, in \u001b[0;36mText._get_layout\u001b[0;34m(self, renderer)\u001b[0m\n\u001b[1;32m    310\u001b[0m ys \u001b[38;5;241m=\u001b[39m []\n\u001b[1;32m    312\u001b[0m \u001b[38;5;66;03m# Full vertical extent of font, including ascenders and descenders:\u001b[39;00m\n\u001b[0;32m--> 313\u001b[0m _, lp_h, lp_d \u001b[38;5;241m=\u001b[39m \u001b[43m_get_text_metrics_with_cache\u001b[49m\u001b[43m(\u001b[49m\n\u001b[1;32m    314\u001b[0m \u001b[43m    \u001b[49m\u001b[43mrenderer\u001b[49m\u001b[43m,\u001b[49m\u001b[43m \u001b[49m\u001b[38;5;124;43m\"\u001b[39;49m\u001b[38;5;124;43mlp\u001b[39;49m\u001b[38;5;124;43m\"\u001b[39;49m\u001b[43m,\u001b[49m\u001b[43m \u001b[49m\u001b[38;5;28;43mself\u001b[39;49m\u001b[38;5;241;43m.\u001b[39;49m\u001b[43m_fontproperties\u001b[49m\u001b[43m,\u001b[49m\n\u001b[1;32m    315\u001b[0m \u001b[43m    \u001b[49m\u001b[43mismath\u001b[49m\u001b[38;5;241;43m=\u001b[39;49m\u001b[38;5;124;43m\"\u001b[39;49m\u001b[38;5;124;43mTeX\u001b[39;49m\u001b[38;5;124;43m\"\u001b[39;49m\u001b[43m \u001b[49m\u001b[38;5;28;43;01mif\u001b[39;49;00m\u001b[43m \u001b[49m\u001b[38;5;28;43mself\u001b[39;49m\u001b[38;5;241;43m.\u001b[39;49m\u001b[43mget_usetex\u001b[49m\u001b[43m(\u001b[49m\u001b[43m)\u001b[49m\u001b[43m \u001b[49m\u001b[38;5;28;43;01melse\u001b[39;49;00m\u001b[43m \u001b[49m\u001b[38;5;28;43;01mFalse\u001b[39;49;00m\u001b[43m,\u001b[49m\u001b[43m \u001b[49m\u001b[43mdpi\u001b[49m\u001b[38;5;241;43m=\u001b[39;49m\u001b[38;5;28;43mself\u001b[39;49m\u001b[38;5;241;43m.\u001b[39;49m\u001b[43mfigure\u001b[49m\u001b[38;5;241;43m.\u001b[39;49m\u001b[43mdpi\u001b[49m\u001b[43m)\u001b[49m\n\u001b[1;32m    316\u001b[0m min_dy \u001b[38;5;241m=\u001b[39m (lp_h \u001b[38;5;241m-\u001b[39m lp_d) \u001b[38;5;241m*\u001b[39m \u001b[38;5;28mself\u001b[39m\u001b[38;5;241m.\u001b[39m_linespacing\n\u001b[1;32m    318\u001b[0m \u001b[38;5;28;01mfor\u001b[39;00m i, line \u001b[38;5;129;01min\u001b[39;00m \u001b[38;5;28menumerate\u001b[39m(lines):\n",
      "File \u001b[0;32m/home/linuxbrew/.linuxbrew/Cellar/python@3.9/3.9.13_1/lib/python3.9/site-packages/matplotlib/text.py:97\u001b[0m, in \u001b[0;36m_get_text_metrics_with_cache\u001b[0;34m(renderer, text, fontprop, ismath, dpi)\u001b[0m\n\u001b[1;32m     94\u001b[0m \u001b[38;5;250m\u001b[39m\u001b[38;5;124;03m\"\"\"Call ``renderer.get_text_width_height_descent``, caching the results.\"\"\"\u001b[39;00m\n\u001b[1;32m     95\u001b[0m \u001b[38;5;66;03m# Cached based on a copy of fontprop so that later in-place mutations of\u001b[39;00m\n\u001b[1;32m     96\u001b[0m \u001b[38;5;66;03m# the passed-in argument do not mess up the cache.\u001b[39;00m\n\u001b[0;32m---> 97\u001b[0m \u001b[38;5;28;01mreturn\u001b[39;00m \u001b[43m_get_text_metrics_with_cache_impl\u001b[49m\u001b[43m(\u001b[49m\n\u001b[1;32m     98\u001b[0m \u001b[43m    \u001b[49m\u001b[43mweakref\u001b[49m\u001b[38;5;241;43m.\u001b[39;49m\u001b[43mref\u001b[49m\u001b[43m(\u001b[49m\u001b[43mrenderer\u001b[49m\u001b[43m)\u001b[49m\u001b[43m,\u001b[49m\u001b[43m \u001b[49m\u001b[43mtext\u001b[49m\u001b[43m,\u001b[49m\u001b[43m \u001b[49m\u001b[43mfontprop\u001b[49m\u001b[38;5;241;43m.\u001b[39;49m\u001b[43mcopy\u001b[49m\u001b[43m(\u001b[49m\u001b[43m)\u001b[49m\u001b[43m,\u001b[49m\u001b[43m \u001b[49m\u001b[43mismath\u001b[49m\u001b[43m,\u001b[49m\u001b[43m \u001b[49m\u001b[43mdpi\u001b[49m\u001b[43m)\u001b[49m\n",
      "File \u001b[0;32m/home/linuxbrew/.linuxbrew/Cellar/python@3.9/3.9.13_1/lib/python3.9/site-packages/matplotlib/text.py:105\u001b[0m, in \u001b[0;36m_get_text_metrics_with_cache_impl\u001b[0;34m(renderer_ref, text, fontprop, ismath, dpi)\u001b[0m\n\u001b[1;32m    101\u001b[0m \u001b[38;5;129m@functools\u001b[39m\u001b[38;5;241m.\u001b[39mlru_cache(\u001b[38;5;241m4096\u001b[39m)\n\u001b[1;32m    102\u001b[0m \u001b[38;5;28;01mdef\u001b[39;00m \u001b[38;5;21m_get_text_metrics_with_cache_impl\u001b[39m(\n\u001b[1;32m    103\u001b[0m         renderer_ref, text, fontprop, ismath, dpi):\n\u001b[1;32m    104\u001b[0m     \u001b[38;5;66;03m# dpi is unused, but participates in cache invalidation (via the renderer).\u001b[39;00m\n\u001b[0;32m--> 105\u001b[0m     \u001b[38;5;28;01mreturn\u001b[39;00m \u001b[43mrenderer_ref\u001b[49m\u001b[43m(\u001b[49m\u001b[43m)\u001b[49m\u001b[38;5;241;43m.\u001b[39;49m\u001b[43mget_text_width_height_descent\u001b[49m\u001b[43m(\u001b[49m\u001b[43mtext\u001b[49m\u001b[43m,\u001b[49m\u001b[43m \u001b[49m\u001b[43mfontprop\u001b[49m\u001b[43m,\u001b[49m\u001b[43m \u001b[49m\u001b[43mismath\u001b[49m\u001b[43m)\u001b[49m\n",
      "File \u001b[0;32m/home/linuxbrew/.linuxbrew/Cellar/python@3.9/3.9.13_1/lib/python3.9/site-packages/matplotlib/backends/backend_agg.py:229\u001b[0m, in \u001b[0;36mRendererAgg.get_text_width_height_descent\u001b[0;34m(self, s, prop, ismath)\u001b[0m\n\u001b[1;32m    227\u001b[0m     texmanager \u001b[38;5;241m=\u001b[39m \u001b[38;5;28mself\u001b[39m\u001b[38;5;241m.\u001b[39mget_texmanager()\n\u001b[1;32m    228\u001b[0m     fontsize \u001b[38;5;241m=\u001b[39m prop\u001b[38;5;241m.\u001b[39mget_size_in_points()\n\u001b[0;32m--> 229\u001b[0m     w, h, d \u001b[38;5;241m=\u001b[39m \u001b[43mtexmanager\u001b[49m\u001b[38;5;241;43m.\u001b[39;49m\u001b[43mget_text_width_height_descent\u001b[49m\u001b[43m(\u001b[49m\n\u001b[1;32m    230\u001b[0m \u001b[43m        \u001b[49m\u001b[43ms\u001b[49m\u001b[43m,\u001b[49m\u001b[43m \u001b[49m\u001b[43mfontsize\u001b[49m\u001b[43m,\u001b[49m\u001b[43m \u001b[49m\u001b[43mrenderer\u001b[49m\u001b[38;5;241;43m=\u001b[39;49m\u001b[38;5;28;43mself\u001b[39;49m\u001b[43m)\u001b[49m\n\u001b[1;32m    231\u001b[0m     \u001b[38;5;28;01mreturn\u001b[39;00m w, h, d\n\u001b[1;32m    233\u001b[0m \u001b[38;5;28;01mif\u001b[39;00m ismath:\n",
      "File \u001b[0;32m/home/linuxbrew/.linuxbrew/Cellar/python@3.9/3.9.13_1/lib/python3.9/site-packages/matplotlib/texmanager.py:362\u001b[0m, in \u001b[0;36mTexManager.get_text_width_height_descent\u001b[0;34m(cls, tex, fontsize, renderer)\u001b[0m\n\u001b[1;32m    360\u001b[0m \u001b[38;5;28;01mif\u001b[39;00m tex\u001b[38;5;241m.\u001b[39mstrip() \u001b[38;5;241m==\u001b[39m \u001b[38;5;124m'\u001b[39m\u001b[38;5;124m'\u001b[39m:\n\u001b[1;32m    361\u001b[0m     \u001b[38;5;28;01mreturn\u001b[39;00m \u001b[38;5;241m0\u001b[39m, \u001b[38;5;241m0\u001b[39m, \u001b[38;5;241m0\u001b[39m\n\u001b[0;32m--> 362\u001b[0m dvifile \u001b[38;5;241m=\u001b[39m \u001b[38;5;28;43mcls\u001b[39;49m\u001b[38;5;241;43m.\u001b[39;49m\u001b[43mmake_dvi\u001b[49m\u001b[43m(\u001b[49m\u001b[43mtex\u001b[49m\u001b[43m,\u001b[49m\u001b[43m \u001b[49m\u001b[43mfontsize\u001b[49m\u001b[43m)\u001b[49m\n\u001b[1;32m    363\u001b[0m dpi_fraction \u001b[38;5;241m=\u001b[39m renderer\u001b[38;5;241m.\u001b[39mpoints_to_pixels(\u001b[38;5;241m1.\u001b[39m) \u001b[38;5;28;01mif\u001b[39;00m renderer \u001b[38;5;28;01melse\u001b[39;00m \u001b[38;5;241m1\u001b[39m\n\u001b[1;32m    364\u001b[0m \u001b[38;5;28;01mwith\u001b[39;00m dviread\u001b[38;5;241m.\u001b[39mDvi(dvifile, \u001b[38;5;241m72\u001b[39m \u001b[38;5;241m*\u001b[39m dpi_fraction) \u001b[38;5;28;01mas\u001b[39;00m dvi:\n",
      "File \u001b[0;32m/home/linuxbrew/.linuxbrew/Cellar/python@3.9/3.9.13_1/lib/python3.9/site-packages/matplotlib/texmanager.py:295\u001b[0m, in \u001b[0;36mTexManager.make_dvi\u001b[0;34m(cls, tex, fontsize)\u001b[0m\n\u001b[1;32m    286\u001b[0m     \u001b[38;5;66;03m# Generate the dvi in a temporary directory to avoid race\u001b[39;00m\n\u001b[1;32m    287\u001b[0m     \u001b[38;5;66;03m# conditions e.g. if multiple processes try to process the same tex\u001b[39;00m\n\u001b[1;32m    288\u001b[0m     \u001b[38;5;66;03m# string at the same time.  Having tmpdir be a subdirectory of the\u001b[39;00m\n\u001b[0;32m   (...)\u001b[0m\n\u001b[1;32m    292\u001b[0m     \u001b[38;5;66;03m# the absolute path may contain characters (e.g. ~) that TeX does\u001b[39;00m\n\u001b[1;32m    293\u001b[0m     \u001b[38;5;66;03m# not support.)\u001b[39;00m\n\u001b[1;32m    294\u001b[0m     \u001b[38;5;28;01mwith\u001b[39;00m TemporaryDirectory(\u001b[38;5;28mdir\u001b[39m\u001b[38;5;241m=\u001b[39mPath(dvifile)\u001b[38;5;241m.\u001b[39mparent) \u001b[38;5;28;01mas\u001b[39;00m tmpdir:\n\u001b[0;32m--> 295\u001b[0m         \u001b[38;5;28;43mcls\u001b[39;49m\u001b[38;5;241;43m.\u001b[39;49m\u001b[43m_run_checked_subprocess\u001b[49m\u001b[43m(\u001b[49m\n\u001b[1;32m    296\u001b[0m \u001b[43m            \u001b[49m\u001b[43m[\u001b[49m\u001b[38;5;124;43m\"\u001b[39;49m\u001b[38;5;124;43mlatex\u001b[39;49m\u001b[38;5;124;43m\"\u001b[39;49m\u001b[43m,\u001b[49m\u001b[43m \u001b[49m\u001b[38;5;124;43m\"\u001b[39;49m\u001b[38;5;124;43m-interaction=nonstopmode\u001b[39;49m\u001b[38;5;124;43m\"\u001b[39;49m\u001b[43m,\u001b[49m\u001b[43m \u001b[49m\u001b[38;5;124;43m\"\u001b[39;49m\u001b[38;5;124;43m--halt-on-error\u001b[39;49m\u001b[38;5;124;43m\"\u001b[39;49m\u001b[43m,\u001b[49m\n\u001b[1;32m    297\u001b[0m \u001b[43m             \u001b[49m\u001b[38;5;124;43mf\u001b[39;49m\u001b[38;5;124;43m\"\u001b[39;49m\u001b[38;5;124;43m../\u001b[39;49m\u001b[38;5;132;43;01m{\u001b[39;49;00m\u001b[43mtexfile\u001b[49m\u001b[38;5;241;43m.\u001b[39;49m\u001b[43mname\u001b[49m\u001b[38;5;132;43;01m}\u001b[39;49;00m\u001b[38;5;124;43m\"\u001b[39;49m\u001b[43m]\u001b[49m\u001b[43m,\u001b[49m\u001b[43m \u001b[49m\u001b[43mtex\u001b[49m\u001b[43m,\u001b[49m\u001b[43m \u001b[49m\u001b[43mcwd\u001b[49m\u001b[38;5;241;43m=\u001b[39;49m\u001b[43mtmpdir\u001b[49m\u001b[43m)\u001b[49m\n\u001b[1;32m    298\u001b[0m         (Path(tmpdir) \u001b[38;5;241m/\u001b[39m Path(dvifile)\u001b[38;5;241m.\u001b[39mname)\u001b[38;5;241m.\u001b[39mreplace(dvifile)\n\u001b[1;32m    299\u001b[0m \u001b[38;5;28;01mreturn\u001b[39;00m dvifile\n",
      "File \u001b[0;32m/home/linuxbrew/.linuxbrew/Cellar/python@3.9/3.9.13_1/lib/python3.9/site-packages/matplotlib/texmanager.py:261\u001b[0m, in \u001b[0;36mTexManager._run_checked_subprocess\u001b[0;34m(cls, command, tex, cwd)\u001b[0m\n\u001b[1;32m    257\u001b[0m     \u001b[38;5;28;01mraise\u001b[39;00m \u001b[38;5;167;01mRuntimeError\u001b[39;00m(\n\u001b[1;32m    258\u001b[0m         \u001b[38;5;124m'\u001b[39m\u001b[38;5;124mFailed to process string with tex because \u001b[39m\u001b[38;5;132;01m{}\u001b[39;00m\u001b[38;5;124m could not be \u001b[39m\u001b[38;5;124m'\u001b[39m\n\u001b[1;32m    259\u001b[0m         \u001b[38;5;124m'\u001b[39m\u001b[38;5;124mfound\u001b[39m\u001b[38;5;124m'\u001b[39m\u001b[38;5;241m.\u001b[39mformat(command[\u001b[38;5;241m0\u001b[39m])) \u001b[38;5;28;01mfrom\u001b[39;00m \u001b[38;5;21;01mexc\u001b[39;00m\n\u001b[1;32m    260\u001b[0m \u001b[38;5;28;01mexcept\u001b[39;00m subprocess\u001b[38;5;241m.\u001b[39mCalledProcessError \u001b[38;5;28;01mas\u001b[39;00m exc:\n\u001b[0;32m--> 261\u001b[0m     \u001b[38;5;28;01mraise\u001b[39;00m \u001b[38;5;167;01mRuntimeError\u001b[39;00m(\n\u001b[1;32m    262\u001b[0m         \u001b[38;5;124m'\u001b[39m\u001b[38;5;132;01m{prog}\u001b[39;00m\u001b[38;5;124m was not able to process the following string:\u001b[39m\u001b[38;5;130;01m\\n\u001b[39;00m\u001b[38;5;124m'\u001b[39m\n\u001b[1;32m    263\u001b[0m         \u001b[38;5;124m'\u001b[39m\u001b[38;5;132;01m{tex!r}\u001b[39;00m\u001b[38;5;130;01m\\n\u001b[39;00m\u001b[38;5;130;01m\\n\u001b[39;00m\u001b[38;5;124m'\u001b[39m\n\u001b[1;32m    264\u001b[0m         \u001b[38;5;124m'\u001b[39m\u001b[38;5;124mHere is the full command invocation and its output:\u001b[39m\u001b[38;5;130;01m\\n\u001b[39;00m\u001b[38;5;130;01m\\n\u001b[39;00m\u001b[38;5;124m'\u001b[39m\n\u001b[1;32m    265\u001b[0m         \u001b[38;5;124m'\u001b[39m\u001b[38;5;132;01m{format_command}\u001b[39;00m\u001b[38;5;130;01m\\n\u001b[39;00m\u001b[38;5;130;01m\\n\u001b[39;00m\u001b[38;5;124m'\u001b[39m\n\u001b[1;32m    266\u001b[0m         \u001b[38;5;124m'\u001b[39m\u001b[38;5;132;01m{exc}\u001b[39;00m\u001b[38;5;130;01m\\n\u001b[39;00m\u001b[38;5;130;01m\\n\u001b[39;00m\u001b[38;5;124m'\u001b[39m\u001b[38;5;241m.\u001b[39mformat(\n\u001b[1;32m    267\u001b[0m             prog\u001b[38;5;241m=\u001b[39mcommand[\u001b[38;5;241m0\u001b[39m],\n\u001b[1;32m    268\u001b[0m             format_command\u001b[38;5;241m=\u001b[39mcbook\u001b[38;5;241m.\u001b[39m_pformat_subprocess(command),\n\u001b[1;32m    269\u001b[0m             tex\u001b[38;5;241m=\u001b[39mtex\u001b[38;5;241m.\u001b[39mencode(\u001b[38;5;124m'\u001b[39m\u001b[38;5;124municode_escape\u001b[39m\u001b[38;5;124m'\u001b[39m),\n\u001b[1;32m    270\u001b[0m             exc\u001b[38;5;241m=\u001b[39mexc\u001b[38;5;241m.\u001b[39moutput\u001b[38;5;241m.\u001b[39mdecode(\u001b[38;5;124m'\u001b[39m\u001b[38;5;124mutf-8\u001b[39m\u001b[38;5;124m'\u001b[39m, \u001b[38;5;124m'\u001b[39m\u001b[38;5;124mbackslashreplace\u001b[39m\u001b[38;5;124m'\u001b[39m))\n\u001b[1;32m    271\u001b[0m         ) \u001b[38;5;28;01mfrom\u001b[39;00m \u001b[38;5;28mNone\u001b[39m\n\u001b[1;32m    272\u001b[0m _log\u001b[38;5;241m.\u001b[39mdebug(report)\n\u001b[1;32m    273\u001b[0m \u001b[38;5;28;01mreturn\u001b[39;00m report\n",
      "\u001b[0;31mRuntimeError\u001b[0m: latex was not able to process the following string:\nb'lp'\n\nHere is the full command invocation and its output:\n\nlatex -interaction=nonstopmode --halt-on-error ../c61b7c48806bf40c738791b21c6269d9.tex\n\nThis is pdfTeX, Version 3.14159265-2.6-1.40.20 (TeX Live 2019/Debian) (preloaded format=latex)\n restricted \\write18 enabled.\nentering extended mode\n(../c61b7c48806bf40c738791b21c6269d9.tex\nLaTeX2e <2020-02-02> patch level 2\nL3 programming layer <2020-02-14>\n(/usr/share/texlive/texmf-dist/tex/latex/base/article.cls\nDocument Class: article 2019/12/20 v1.4l Standard LaTeX document class\n(/usr/share/texlive/texmf-dist/tex/latex/base/size10.clo))\n(/usr/share/texlive/texmf-dist/tex/latex/type1cm/type1cm.sty)\n\n! LaTeX Error: File `type1ec.sty' not found.\n\nType X to quit or <RETURN> to proceed,\nor enter new name. (Default extension: sty)\n\nEnter file name: \n! Emergency stop.\n<read *> \n         \nl.9 \\usepackage\n               [utf8]{inputenc}^^M\nNo pages of output.\nTranscript written on c61b7c48806bf40c738791b21c6269d9.log.\n\n\n"
     ]
    },
    {
     "data": {
      "text/plain": [
       "<Figure size 1000x800 with 1 Axes>"
      ]
     },
     "metadata": {},
     "output_type": "display_data"
    }
   ],
   "source": [
    "data_grouped = data_average.groupby(['function'])\n",
    "\n",
    "CB_cycle = ['red','blue', 'cyan','#377eb8',\n",
    "\n",
    "            'green' ,'#ff7f00', '#4daf4a',\n",
    "            '#f781bf', '#a65628', '#984ea3',\n",
    "            '#999999', 'darkred', '#dede00']\n",
    "\n",
    "legend = ['SipHash', 'fast\\_mix', 'rot\\_1',\n",
    "\n",
    "          'rot\\_2', 'rot\\_3', 'rot\\_22',\n",
    "\n",
    "          'rot\\_23', 'rot\\_52', 'rot\\_53',\n",
    "\n",
    "          'rot\\_61', 'rot\\_62', 'rot\\_63']\n",
    "lines = {\n",
    "    'siphash': (CB_cycle[0], 2, '-'),\n",
    "    'fast_mix': (CB_cycle[1], 2, '-'),\n",
    "    'rot1': (CB_cycle[2], 1, '--'),\n",
    "    'rot2': (CB_cycle[3], 1, '--'),\n",
    "    'rot22': (CB_cycle[4], 1, '--'),\n",
    "    'rot23': (CB_cycle[5], 1, '--'),\n",
    "    'rot43': (CB_cycle[6], 1, '--'),\n",
    "    'rot52': (CB_cycle[7], 1, '--'),\n",
    "    'rot52': (CB_cycle[8], 1, '--'),\n",
    "    'rot53': (CB_cycle[9], 1, '--'),\n",
    "    'rot62': (CB_cycle[10], 1, '--'),\n",
    "    'rot63': (CB_cycle[11], 1, '--')\n",
    "}\n",
    "\n",
    "plt.figure()\n",
    "for name, group in data_grouped:\n",
    "    if name in lines:\n",
    "        plt.plot(group['round'], group['score'], marker='o', linestyle=lines[name][2], ms=4,\n",
    "\n",
    "                 color=lines[name][0], zorder=lines[name][1])\n",
    "\n",
    "legend_lines = []\n",
    "for x in CB_cycle[:2]:\n",
    "\n",
    "    legend_lines.append(Line2D([0], [0], color=x, lw=2, linestyle='-'))\n",
    "for x in CB_cycle[2:]:\n",
    "\n",
    "    legend_lines.append(Line2D([0], [0], color=x, lw=2, linestyle='--'))\n",
    "\n",
    "plt.xlabel(r\"Accumulation round\")\n",
    "plt.ylabel(r\"Average $p$-value\")\n",
    "plt.legend(legend_lines, legend, loc='lower right', fontsize='small', facecolor='white', ncol=2)\n",
    "plt.show()"
   ]
  },
  {
   "cell_type": "code",
   "execution_count": 19,
   "id": "0b76982c",
   "metadata": {
    "scrolled": true
   },
   "outputs": [
    {
     "data": {
      "text/html": [
       "<div>\n",
       "<style scoped>\n",
       "    .dataframe tbody tr th:only-of-type {\n",
       "        vertical-align: middle;\n",
       "    }\n",
       "\n",
       "    .dataframe tbody tr th {\n",
       "        vertical-align: top;\n",
       "    }\n",
       "\n",
       "    .dataframe thead th {\n",
       "        text-align: right;\n",
       "    }\n",
       "</style>\n",
       "<table border=\"1\" class=\"dataframe\">\n",
       "  <thead>\n",
       "    <tr style=\"text-align: right;\">\n",
       "      <th></th>\n",
       "      <th>function</th>\n",
       "      <th>round</th>\n",
       "      <th>score</th>\n",
       "    </tr>\n",
       "  </thead>\n",
       "  <tbody>\n",
       "    <tr>\n",
       "      <th>12</th>\n",
       "      <td>rot1</td>\n",
       "      <td>2</td>\n",
       "      <td>0.220823</td>\n",
       "    </tr>\n",
       "    <tr>\n",
       "      <th>592</th>\n",
       "      <td>rot62</td>\n",
       "      <td>2</td>\n",
       "      <td>0.224140</td>\n",
       "    </tr>\n",
       "    <tr>\n",
       "      <th>572</th>\n",
       "      <td>rot60</td>\n",
       "      <td>2</td>\n",
       "      <td>0.226619</td>\n",
       "    </tr>\n",
       "    <tr>\n",
       "      <th>232</th>\n",
       "      <td>rot3</td>\n",
       "      <td>2</td>\n",
       "      <td>0.227225</td>\n",
       "    </tr>\n",
       "    <tr>\n",
       "      <th>122</th>\n",
       "      <td>rot2</td>\n",
       "      <td>2</td>\n",
       "      <td>0.227389</td>\n",
       "    </tr>\n",
       "  </tbody>\n",
       "</table>\n",
       "</div>"
      ],
      "text/plain": [
       "    function  round     score\n",
       "12      rot1      2  0.220823\n",
       "592    rot62      2  0.224140\n",
       "572    rot60      2  0.226619\n",
       "232     rot3      2  0.227225\n",
       "122     rot2      2  0.227389"
      ]
     },
     "execution_count": 19,
     "metadata": {},
     "output_type": "execute_result"
    }
   ],
   "source": [
    "test = data_average[data_average['round'] == 2]\n",
    "test.sort_values('score').head(5)"
   ]
  },
  {
   "cell_type": "code",
   "execution_count": 17,
   "id": "a97fa7be",
   "metadata": {
    "scrolled": false
   },
   "outputs": [],
   "source": [
    "filtered_data = data_average[data_average['round'] > 2]\n",
    "average_per_function = filtered_data.groupby('function')['score'].mean()\n",
    "sorted_functions = average_per_function.sort_values()\n",
    "# sorted_functions"
   ]
  },
  {
   "cell_type": "code",
   "execution_count": 18,
   "id": "63dfeef5",
   "metadata": {},
   "outputs": [],
   "source": [
    "pd.set_option('display.max_rows', None)"
   ]
  }
 ],
 "metadata": {
  "kernelspec": {
   "display_name": "Python 3",
   "language": "python",
   "name": "python3"
  },
  "language_info": {
   "codemirror_mode": {
    "name": "ipython",
    "version": 3
   },
   "file_extension": ".py",
   "mimetype": "text/x-python",
   "name": "python",
   "nbconvert_exporter": "python",
   "pygments_lexer": "ipython3",
   "version": "3.9.13"
  }
 },
 "nbformat": 4,
 "nbformat_minor": 5
}
