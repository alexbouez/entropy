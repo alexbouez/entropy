{
 "cells": [
  {
   "cell_type": "code",
   "execution_count": 1,
   "id": "ff4889f9",
   "metadata": {},
   "outputs": [],
   "source": [
    "%matplotlib inline"
   ]
  },
  {
   "cell_type": "code",
   "execution_count": 2,
   "id": "21511b2b",
   "metadata": {},
   "outputs": [],
   "source": [
    "import os\n",
    "path = os.path.abspath(os.getcwd())"
   ]
  },
  {
   "cell_type": "code",
   "execution_count": 3,
   "id": "10c1ef63",
   "metadata": {},
   "outputs": [],
   "source": [
    "import math\n",
    "import numpy as np\n",
    "import pandas as pd\n",
    "import pylab as py\n",
    "\n",
    "import matplotlib.mlab as mlab\n",
    "import matplotlib.pyplot as plt\n",
    "\n",
    "from fitter import Fitter\n",
    "\n",
    "from scipy import fft\n",
    "from scipy.optimize import curve_fit, minimize\n",
    "from scipy.stats import kstest, norm, laplace, entropy, cauchy, entropy\n",
    "from sklearn.feature_selection import mutual_info_regression\n",
    "\n",
    "import statsmodels.api as sm\n",
    "from statsmodels.tsa.arima.model import ARIMA\n",
    "from statsmodels.tsa.stattools import adfuller"
   ]
  },
  {
   "cell_type": "code",
   "execution_count": 4,
   "id": "d9ad0071",
   "metadata": {},
   "outputs": [],
   "source": [
    "plt.rcParams['figure.figsize'] = (10.0, 8.0)\n",
    "plt.style.use('ggplot')"
   ]
  },
  {
   "cell_type": "code",
   "execution_count": 5,
   "id": "f8b447f1",
   "metadata": {},
   "outputs": [],
   "source": [
    "pd.set_option(\"display.max_colwidth\",100)"
   ]
  },
  {
   "cell_type": "code",
   "execution_count": 6,
   "id": "a14e6de1",
   "metadata": {},
   "outputs": [],
   "source": [
    "data_files = [\n",
    "    'moduntu_HP_desktop_trace_jiffies_23.10.15_1h'\n",
    "]"
   ]
  },
  {
   "cell_type": "markdown",
   "id": "f8903994",
   "metadata": {},
   "source": [
    "# I - Data formatting\n",
    "## 1) Text to CSV"
   ]
  },
  {
   "cell_type": "raw",
   "id": "9c174adf",
   "metadata": {},
   "source": [
    "def txtdmp_to_csv(filename):\n",
    "    with open(\"data/\" + filename + \".txt\", \"r\") as textfile:\n",
    "        textdump = textfile.read().splitlines()\n",
    "        \n",
    "    csvfile = open(\"csv/\" + filename + \".csv\", \"w\")\n",
    "    csvfile.write(','.join([\"count\", \"timestamp\", \"regs\", \"irq\", \"swab\", \"jiffies\", \"idle\"]))\n",
    "    csvfile.write('\\n')\n",
    "\n",
    "    count = 0\n",
    "    for line in textdump: \n",
    "        splitline = line.replace('@','').replace(',','').split(' ')\n",
    "        values, start, idle = [], False, False\n",
    "\n",
    "        for i in splitline: \n",
    "            # extract add_interrupt_randomness values\n",
    "            if i == \"add_interrupt_randomness:\":\n",
    "                start = True\n",
    "                count += 1\n",
    "                values.append(str(count))\n",
    "            elif start and i != \"a\":\n",
    "                values.append(i)\n",
    "\n",
    "            # Check for idle\n",
    "            if i == \"<idle>-0\":\n",
    "                idle = True\n",
    "\n",
    "        if values != []:\n",
    "            values.append(str(idle))\n",
    "            csvfile.write(','.join(values))\n",
    "            csvfile.write('\\n')\n",
    "\n",
    "    csvfile.close()"
   ]
  },
  {
   "cell_type": "raw",
   "id": "38977e05",
   "metadata": {},
   "source": [
    "for file in data_files:\n",
    "    txtdmp_to_csv(file)"
   ]
  },
  {
   "cell_type": "markdown",
   "id": "b8825efd",
   "metadata": {},
   "source": [
    "## 2) Data import"
   ]
  },
  {
   "cell_type": "code",
   "execution_count": 7,
   "id": "5cd795c1",
   "metadata": {},
   "outputs": [
    {
     "data": {
      "text/html": [
       "<div>\n",
       "<style scoped>\n",
       "    .dataframe tbody tr th:only-of-type {\n",
       "        vertical-align: middle;\n",
       "    }\n",
       "\n",
       "    .dataframe tbody tr th {\n",
       "        vertical-align: top;\n",
       "    }\n",
       "\n",
       "    .dataframe thead th {\n",
       "        text-align: right;\n",
       "    }\n",
       "</style>\n",
       "<table border=\"1\" class=\"dataframe\">\n",
       "  <thead>\n",
       "    <tr style=\"text-align: right;\">\n",
       "      <th></th>\n",
       "      <th>timestamp</th>\n",
       "      <th>regs</th>\n",
       "      <th>irq</th>\n",
       "      <th>jiffies</th>\n",
       "      <th>idle</th>\n",
       "    </tr>\n",
       "  </thead>\n",
       "  <tbody>\n",
       "    <tr>\n",
       "      <th>0</th>\n",
       "      <td>51036824464</td>\n",
       "      <td>18446744072313314992</td>\n",
       "      <td>0</td>\n",
       "      <td>4294892297</td>\n",
       "      <td>True</td>\n",
       "    </tr>\n",
       "    <tr>\n",
       "      <th>1</th>\n",
       "      <td>51045994495</td>\n",
       "      <td>18446744072313314992</td>\n",
       "      <td>0</td>\n",
       "      <td>4294892298</td>\n",
       "      <td>True</td>\n",
       "    </tr>\n",
       "    <tr>\n",
       "      <th>2</th>\n",
       "      <td>51055176440</td>\n",
       "      <td>18446744072313314992</td>\n",
       "      <td>0</td>\n",
       "      <td>4294892299</td>\n",
       "      <td>True</td>\n",
       "    </tr>\n",
       "    <tr>\n",
       "      <th>3</th>\n",
       "      <td>51064359489</td>\n",
       "      <td>18446744072313314992</td>\n",
       "      <td>0</td>\n",
       "      <td>4294892300</td>\n",
       "      <td>True</td>\n",
       "    </tr>\n",
       "    <tr>\n",
       "      <th>4</th>\n",
       "      <td>51073541871</td>\n",
       "      <td>18446744072313314992</td>\n",
       "      <td>0</td>\n",
       "      <td>4294892301</td>\n",
       "      <td>True</td>\n",
       "    </tr>\n",
       "  </tbody>\n",
       "</table>\n",
       "</div>"
      ],
      "text/plain": [
       "     timestamp                  regs  irq     jiffies  idle\n",
       "0  51036824464  18446744072313314992    0  4294892297  True\n",
       "1  51045994495  18446744072313314992    0  4294892298  True\n",
       "2  51055176440  18446744072313314992    0  4294892299  True\n",
       "3  51064359489  18446744072313314992    0  4294892300  True\n",
       "4  51073541871  18446744072313314992    0  4294892301  True"
      ]
     },
     "execution_count": 7,
     "metadata": {},
     "output_type": "execute_result"
    }
   ],
   "source": [
    "filename = data_files[0]\n",
    "data_path = path + \"\\\\csv\\\\\" + filename + \".csv\"\n",
    "data = pd.read_csv(data_path).drop(['count', 'swab'], axis=1)\n",
    "data.head(5)"
   ]
  },
  {
   "cell_type": "code",
   "execution_count": 8,
   "id": "1967e6be",
   "metadata": {},
   "outputs": [
    {
     "data": {
      "text/html": [
       "<div>\n",
       "<style scoped>\n",
       "    .dataframe tbody tr th:only-of-type {\n",
       "        vertical-align: middle;\n",
       "    }\n",
       "\n",
       "    .dataframe tbody tr th {\n",
       "        vertical-align: top;\n",
       "    }\n",
       "\n",
       "    .dataframe thead th {\n",
       "        text-align: right;\n",
       "    }\n",
       "</style>\n",
       "<table border=\"1\" class=\"dataframe\">\n",
       "  <thead>\n",
       "    <tr style=\"text-align: right;\">\n",
       "      <th></th>\n",
       "      <th>timestamp</th>\n",
       "      <th>regs</th>\n",
       "      <th>irq</th>\n",
       "      <th>jiffies</th>\n",
       "      <th>idle</th>\n",
       "    </tr>\n",
       "  </thead>\n",
       "  <tbody>\n",
       "    <tr>\n",
       "      <th>0</th>\n",
       "      <td>51036824464</td>\n",
       "      <td>18446744072313314992</td>\n",
       "      <td>0</td>\n",
       "      <td>4294892297</td>\n",
       "      <td>True</td>\n",
       "    </tr>\n",
       "    <tr>\n",
       "      <th>1</th>\n",
       "      <td>51045994495</td>\n",
       "      <td>18446744072313314992</td>\n",
       "      <td>0</td>\n",
       "      <td>4294892298</td>\n",
       "      <td>True</td>\n",
       "    </tr>\n",
       "    <tr>\n",
       "      <th>2</th>\n",
       "      <td>51055176440</td>\n",
       "      <td>18446744072313314992</td>\n",
       "      <td>0</td>\n",
       "      <td>4294892299</td>\n",
       "      <td>True</td>\n",
       "    </tr>\n",
       "    <tr>\n",
       "      <th>3</th>\n",
       "      <td>51064359489</td>\n",
       "      <td>18446744072313314992</td>\n",
       "      <td>0</td>\n",
       "      <td>4294892300</td>\n",
       "      <td>True</td>\n",
       "    </tr>\n",
       "    <tr>\n",
       "      <th>4</th>\n",
       "      <td>51073541871</td>\n",
       "      <td>18446744072313314992</td>\n",
       "      <td>0</td>\n",
       "      <td>4294892301</td>\n",
       "      <td>True</td>\n",
       "    </tr>\n",
       "    <tr>\n",
       "      <th>...</th>\n",
       "      <td>...</td>\n",
       "      <td>...</td>\n",
       "      <td>...</td>\n",
       "      <td>...</td>\n",
       "      <td>...</td>\n",
       "    </tr>\n",
       "    <tr>\n",
       "      <th>399675</th>\n",
       "      <td>8560395086836</td>\n",
       "      <td>18446744072293158894</td>\n",
       "      <td>90</td>\n",
       "      <td>4295818970</td>\n",
       "      <td>True</td>\n",
       "    </tr>\n",
       "    <tr>\n",
       "      <th>399676</th>\n",
       "      <td>8560432770404</td>\n",
       "      <td>18446744072293158894</td>\n",
       "      <td>90</td>\n",
       "      <td>4295818974</td>\n",
       "      <td>True</td>\n",
       "    </tr>\n",
       "    <tr>\n",
       "      <th>399677</th>\n",
       "      <td>8560433316562</td>\n",
       "      <td>18446744072293158894</td>\n",
       "      <td>90</td>\n",
       "      <td>4295818974</td>\n",
       "      <td>True</td>\n",
       "    </tr>\n",
       "    <tr>\n",
       "      <th>399678</th>\n",
       "      <td>8560471000613</td>\n",
       "      <td>18446744072293158894</td>\n",
       "      <td>90</td>\n",
       "      <td>4295818978</td>\n",
       "      <td>True</td>\n",
       "    </tr>\n",
       "    <tr>\n",
       "      <th>399679</th>\n",
       "      <td>8560471545989</td>\n",
       "      <td>18446744072293158894</td>\n",
       "      <td>90</td>\n",
       "      <td>4295818978</td>\n",
       "      <td>True</td>\n",
       "    </tr>\n",
       "  </tbody>\n",
       "</table>\n",
       "<p>364229 rows × 5 columns</p>\n",
       "</div>"
      ],
      "text/plain": [
       "            timestamp                  regs  irq     jiffies  idle\n",
       "0         51036824464  18446744072313314992    0  4294892297  True\n",
       "1         51045994495  18446744072313314992    0  4294892298  True\n",
       "2         51055176440  18446744072313314992    0  4294892299  True\n",
       "3         51064359489  18446744072313314992    0  4294892300  True\n",
       "4         51073541871  18446744072313314992    0  4294892301  True\n",
       "...               ...                   ...  ...         ...   ...\n",
       "399675  8560395086836  18446744072293158894   90  4295818970  True\n",
       "399676  8560432770404  18446744072293158894   90  4295818974  True\n",
       "399677  8560433316562  18446744072293158894   90  4295818974  True\n",
       "399678  8560471000613  18446744072293158894   90  4295818978  True\n",
       "399679  8560471545989  18446744072293158894   90  4295818978  True\n",
       "\n",
       "[364229 rows x 5 columns]"
      ]
     },
     "execution_count": 8,
     "metadata": {},
     "output_type": "execute_result"
    }
   ],
   "source": [
    "data[data[\"idle\"]==True]"
   ]
  },
  {
   "cell_type": "code",
   "execution_count": 9,
   "id": "0ecbe310",
   "metadata": {},
   "outputs": [
    {
     "data": {
      "text/plain": [
       "timestamp     int64\n",
       "regs         uint64\n",
       "irq           int64\n",
       "jiffies       int64\n",
       "idle           bool\n",
       "dtype: object"
      ]
     },
     "execution_count": 9,
     "metadata": {},
     "output_type": "execute_result"
    }
   ],
   "source": [
    "data.dtypes"
   ]
  },
  {
   "cell_type": "code",
   "execution_count": 10,
   "id": "5f8a705a",
   "metadata": {},
   "outputs": [],
   "source": [
    "def get_stats(data, col):\n",
    "    print(\"Stats for \" + col + \" :\")\n",
    "    stats = data[col].value_counts()\n",
    "    stats_perc = data[col].value_counts(normalize = True)\n",
    "    \n",
    "    total = 0\n",
    "    for i in range(len(stats)):\n",
    "        total = stats[i]\n",
    "    \n",
    "    for i in range(len(stats)):\n",
    "        print(str(stats.index[i]) + \"\\t\\t\", str(stats[stats.index[i]]) + \n",
    "              '\\t\\t', str(round(stats_perc[stats.index[i]] * 100)) + '%')\n",
    "        \n",
    "    print()"
   ]
  },
  {
   "cell_type": "code",
   "execution_count": 11,
   "id": "2cceff77",
   "metadata": {},
   "outputs": [
    {
     "name": "stdout",
     "output_type": "stream",
     "text": [
      "moduntu_HP_desktop_trace_jiffies_23.10.15_1h\n"
     ]
    }
   ],
   "source": [
    "for filename in data_files:\n",
    "    print(filename)"
   ]
  },
  {
   "cell_type": "code",
   "execution_count": 12,
   "id": "2820b806",
   "metadata": {},
   "outputs": [
    {
     "name": "stdout",
     "output_type": "stream",
     "text": [
      "moduntu_HP_desktop_trace_jiffies_23.10.15_1h\n",
      "Stats for idle :\n",
      "True\t\t 364229\t\t 91%\n",
      "False\t\t 35451\t\t 9%\n",
      "\n",
      "399680 364229 0.9113015412329863\n"
     ]
    }
   ],
   "source": [
    "idle_true, count = 0,0\n",
    "for filename in data_files:\n",
    "    data_path = path + \"\\\\csv\\\\\" + filename + \".csv\"\n",
    "    data = pd.read_csv(data_path)\n",
    "    \n",
    "    count += data.shape[0] \n",
    "    stats = data[\"idle\"].value_counts()\n",
    "    idle_true += stats[True]\n",
    "    \n",
    "    print(filename)\n",
    "    for col in [\"idle\"]:\n",
    "        get_stats(data, col)\n",
    "\n",
    "print(count, idle_true, idle_true/count)"
   ]
  },
  {
   "cell_type": "markdown",
   "id": "d3cc6856",
   "metadata": {},
   "source": [
    "# II - Direct analysis\n",
    "## 1) Density visualization"
   ]
  },
  {
   "cell_type": "code",
   "execution_count": 13,
   "id": "3334d33a",
   "metadata": {
    "scrolled": true
   },
   "outputs": [
    {
     "data": {
      "image/png": "[encoded data removed]",
      "text/plain": [
       "<Figure size 1000x800 with 1 Axes>"
      ]
     },
     "metadata": {},
     "output_type": "display_data"
    }
   ],
   "source": [
    "for file in data_files:\n",
    "    data_path = path + \"\\\\csv\\\\\" + filename + \".csv\"\n",
    "    data = pd.read_csv(data_path)\n",
    "    \n",
    "    fig, ax = plt.subplots()\n",
    "    ax.plot(data.jiffies)"
   ]
  },
  {
   "cell_type": "code",
   "execution_count": 14,
   "id": "45f046a1",
   "metadata": {},
   "outputs": [],
   "source": [
    "def tup_string(selection):\n",
    "    tup_str = \"\"\n",
    "    for tup in selection:\n",
    "        if not tup_str == \"\":\n",
    "            tup_str += \", \"\n",
    "        tup_str += str(tup[0]) + \" = \" + str(tup[1])\n",
    "    return tup_str"
   ]
  },
  {
   "cell_type": "code",
   "execution_count": 15,
   "id": "225a958d",
   "metadata": {},
   "outputs": [],
   "source": [
    "def data_hist(filename, column, selection = [], crop = (None, None), slicer = (None, None), log = False, bins = None):\n",
    "    # Import\n",
    "    data_path = path + \"\\\\csv\\\\\" + filename + \".csv\"\n",
    "    data = pd.read_csv(data_path)\n",
    "    \n",
    "    # Selection: select data according to other columns (origin, process...)\n",
    "    for tup in selection: \n",
    "        data = data[data[tup[0]] == tup[1]] \n",
    "\n",
    "    # Cropping: remove crop[0] % of beginning or crop[0] of end of the data (if not idle)\n",
    "    n = data.shape[0]\n",
    "    if crop[0] != None and int(crop[0]*n) > 0: \n",
    "        data = data.tail(-int( n*crop[0] ))\n",
    "    if crop[1] != None and int(crop[1]*n) > 0: \n",
    "        data = data.head(-int( n*crop[1] ))\n",
    "    \n",
    "    fig, ax = plt.subplots()\n",
    "    bins = max(int(data.shape[0]/128) if not bins else bins, 1)\n",
    "    plt.hist(data[column], density=True,  log = log, bins = bins)\n",
    "    print(\"Histogram of\", filename, \":\")\n",
    "    print(\"\\t selection:\", tup_string(selection))\n",
    "    print(\"\\t crop values:\", str(0 if not crop[0] else int(crop[0]*n))+\",\", str(0 if not crop[1] else int(crop[1]*n)))\n",
    "    print(\"\\t # of elements:\", str(data.shape[0]))\n",
    "    print(\"\\t # of bins:\", str(bins))\n",
    "    print(\"\\t log =\", str(log))\n",
    "    \n",
    "    ax.set_xlabel(u'Jiffies value')\n",
    "    ax.set_ylabel('Frequency')\n",
    "\n",
    "    plt.show()"
   ]
  },
  {
   "cell_type": "code",
   "execution_count": 16,
   "id": "d88159c3",
   "metadata": {
    "scrolled": false
   },
   "outputs": [
    {
     "name": "stdout",
     "output_type": "stream",
     "text": [
      "Histogram of moduntu_HP_desktop_trace_jiffies_23.10.15_1h :\n",
      "\t selection: \n",
      "\t crop values: 0, 0\n",
      "\t # of elements: 399680\n",
      "\t # of bins: 3122\n",
      "\t log = True\n"
     ]
    },
    {
     "data": {
      "image/png": "[encoded data removed]",
      "text/plain": [
       "<Figure size 1000x800 with 1 Axes>"
      ]
     },
     "metadata": {},
     "output_type": "display_data"
    }
   ],
   "source": [
    "for file in data_files:\n",
    "    data_hist(file, 'jiffies', selection = [], crop = (0, 0), slicer = (None, None), \n",
    "              log = True)"
   ]
  },
  {
   "cell_type": "code",
   "execution_count": 17,
   "id": "54f4b013",
   "metadata": {
    "scrolled": false
   },
   "outputs": [
    {
     "name": "stdout",
     "output_type": "stream",
     "text": [
      "Histogram of moduntu_HP_desktop_trace_jiffies_23.10.15_1h :\n",
      "\t selection: idle = True\n",
      "\t crop values: 72845, 36422\n",
      "\t # of elements: 254962\n",
      "\t # of bins: 500\n",
      "\t log = False\n"
     ]
    },
    {
     "data": {
      "image/png": "[encoded data removed]",
      "text/plain": [
       "<Figure size 1000x800 with 1 Axes>"
      ]
     },
     "metadata": {},
     "output_type": "display_data"
    }
   ],
   "source": [
    "for file in data_files:\n",
    "    data_hist(file, 'jiffies', selection = [('idle', True)], crop = (0.2, 0.1), slicer = (None, None), \n",
    "              log = False, bins = 500)"
   ]
  },
  {
   "cell_type": "markdown",
   "id": "95695f98",
   "metadata": {},
   "source": [
    "## 2) Independence of inputs\n",
    "### A/ Autocorrelation coefficient"
   ]
  },
  {
   "cell_type": "code",
   "execution_count": 18,
   "id": "559018fc",
   "metadata": {},
   "outputs": [],
   "source": [
    "def fft_autocorr(x):\n",
    "    x = np.asarray(x)\n",
    "    N = len(x)\n",
    "#     x = x-x.mean()\n",
    "    s = fft.fft(x, N*2-1)\n",
    "    result = np.real(fft.ifft(s * np.conjugate(s), N*2-1))\n",
    "    result = result[:N]\n",
    "    result /= result[0]\n",
    "    return np.array(result.astype(float))\n",
    "\n",
    "def maple_autocorr(x): \n",
    "    x = np.asarray(x)\n",
    "    y = x-x.mean()\n",
    "#     y = x / max(x)\n",
    "    \n",
    "    autocorr = np.correlate(y, y, mode='full').astype(float)\n",
    "#     autocorr = np.correlate(y, y, mode='same').astype(float)\n",
    "    autocorr = autocorr[len(autocorr)//2:]\n",
    "    autocorr /= autocorr[0]\n",
    "    return np.array(autocorr.astype(float))"
   ]
  },
  {
   "cell_type": "code",
   "execution_count": 19,
   "id": "7f464a77",
   "metadata": {
    "scrolled": false
   },
   "outputs": [
    {
     "name": "stdout",
     "output_type": "stream",
     "text": [
      "autocorr len: 1000\n"
     ]
    },
    {
     "data": {
      "image/png": "[encoded data removed]",
      "text/plain": [
       "<Figure size 1000x800 with 1 Axes>"
      ]
     },
     "metadata": {},
     "output_type": "display_data"
    }
   ],
   "source": [
    "def plot_autocorr(x, i, method):\n",
    "    if method=='maple':\n",
    "        autocorr = maple_autocorr(x)\n",
    "    else:\n",
    "        autocorr = fft_autocorr(x)\n",
    "\n",
    "    if i!=None:\n",
    "        autocorr = autocorr[:i]\n",
    "    print(\"autocorr len:\", len(autocorr))\n",
    "#     print(\"Autocorrelation:\", autocorr)\n",
    "    \n",
    "    plt.plot(autocorr)\n",
    "    plt.xlabel(\"Lag\")\n",
    "    plt.ylabel(\"Autocorrelation\")\n",
    "    plt.show()\n",
    "    \n",
    "x = np.random.randn(1000)\n",
    "plot_autocorr(x, None, 'maple')"
   ]
  },
  {
   "cell_type": "code",
   "execution_count": 20,
   "id": "dc056ff8",
   "metadata": {},
   "outputs": [],
   "source": [
    "def data_autocorr(filename, column, crop, max_lag, method):\n",
    "    # Import\n",
    "    data_path = path + \"\\\\csv\\\\\" + filename + \".csv\"\n",
    "    data = pd.read_csv(data_path)\n",
    "    \n",
    "    x = np.array(data[column])\n",
    "    \n",
    "    n = len(x)\n",
    "    i,j = 0 if crop[0]==None else int(crop[0]*n), n if crop[1]==None else int(crop[1]*n)\n",
    "    if i<j: \n",
    "        x = x[i:j]\n",
    "\n",
    "    print(\"array len:\", len(x))\n",
    "    print(\"head values:\", x[:10])\n",
    "        \n",
    "    plot_autocorr(x, max_lag, method)"
   ]
  },
  {
   "cell_type": "code",
   "execution_count": 21,
   "id": "9058828a",
   "metadata": {
    "scrolled": false
   },
   "outputs": [
    {
     "name": "stdout",
     "output_type": "stream",
     "text": [
      "array len: 399680\n",
      "head values: [4294892297 4294892298 4294892299 4294892300 4294892301 4294892302\n",
      " 4294892303 4294892304 4294892305 4294892306]\n",
      "autocorr len: 399680\n"
     ]
    },
    {
     "data": {
      "image/png": "[encoded data removed]",
      "text/plain": [
       "<Figure size 1000x800 with 1 Axes>"
      ]
     },
     "metadata": {},
     "output_type": "display_data"
    }
   ],
   "source": [
    "for file in data_files:\n",
    "    data_autocorr(file, 'jiffies', (None, None), None, 'fft')"
   ]
  },
  {
   "cell_type": "code",
   "execution_count": 22,
   "id": "02b96610",
   "metadata": {},
   "outputs": [],
   "source": [
    "from statsmodels.graphics.tsaplots import plot_acf \n",
    "\n",
    "data_path = path + \"\\\\csv\\\\\" + data_files[0] + \".csv\"\n",
    "data = pd.read_csv(data_path)\n",
    "x = np.array(data['jiffies'])\n",
    "\n",
    "# plot_acf(x)"
   ]
  },
  {
   "cell_type": "code",
   "execution_count": 23,
   "id": "efd28b6d",
   "metadata": {},
   "outputs": [
    {
     "data": {
      "image/png": "[encoded data removed]",
      "text/plain": [
       "<Figure size 1000x800 with 3 Axes>"
      ]
     },
     "metadata": {},
     "output_type": "display_data"
    }
   ],
   "source": [
    "f = plt.figure()\n",
    "\n",
    "ax1 = f.add_subplot(231)\n",
    "ax1.set_title('Data')\n",
    "ax1.plot(data.jiffies)\n",
    "\n",
    "ax2 = f.add_subplot(232)\n",
    "ax2.set_title('1st order')\n",
    "ax2.plot(data.jiffies.diff())\n",
    "\n",
    "ax3 = f.add_subplot(233)\n",
    "ax3.set_title('2nd order')\n",
    "ax3.plot(data.jiffies.diff().diff())\n",
    "\n",
    "plt.show()"
   ]
  },
  {
   "cell_type": "code",
   "execution_count": 24,
   "id": "467cd536",
   "metadata": {},
   "outputs": [
    {
     "data": {
      "image/png": "[encoded data removed]",
      "text/plain": [
       "<Figure size 1000x800 with 3 Axes>"
      ]
     },
     "metadata": {},
     "output_type": "display_data"
    }
   ],
   "source": [
    "f = plt.figure()\n",
    "ax1a = f.add_subplot(231)\n",
    "ax1a.set_title('Data autocorr')\n",
    "ax1a.plot(fft_autocorr(data.jiffies))\n",
    "\n",
    "ax2a = f.add_subplot(232)\n",
    "ax2a.set_title('1st order autocorr')\n",
    "ax2a.plot(fft_autocorr(data.jiffies.diff()))\n",
    "\n",
    "ax3a = f.add_subplot(233)\n",
    "ax3a.set_title('2nd order autocorr')\n",
    "ax3a.plot(fft_autocorr(data.jiffies.diff().diff()))\n",
    "\n",
    "plt.show()"
   ]
  },
  {
   "cell_type": "markdown",
   "id": "44071a12",
   "metadata": {},
   "source": [
    "# III - 1st order differencing\n",
    "## 1) Probability functions"
   ]
  },
  {
   "cell_type": "code",
   "execution_count": 25,
   "id": "f7666887",
   "metadata": {},
   "outputs": [],
   "source": [
    "def diff(df, columns):\n",
    "    for col in columns:\n",
    "        y = df[col].to_numpy()\n",
    "        y =  y - np.roll(y.copy(), 1)\n",
    "        y[0] = 0 # Should remove?\n",
    "        df.loc[:, col] = y\n",
    "#         return df.drop(0).reset_index(drop=True)"
   ]
  },
  {
   "cell_type": "markdown",
   "id": "13d612d3",
   "metadata": {},
   "source": [
    "## 2) Density visualisation"
   ]
  },
  {
   "cell_type": "code",
   "execution_count": 26,
   "id": "4c786b6c",
   "metadata": {
    "scrolled": false
   },
   "outputs": [
    {
     "name": "stdout",
     "output_type": "stream",
     "text": [
      "moduntu_HP_desktop_trace_jiffies_23.10.15_1h\n"
     ]
    },
    {
     "data": {
      "image/png": "[encoded data removed]",
      "text/plain": [
       "<Figure size 1000x800 with 2 Axes>"
      ]
     },
     "metadata": {},
     "output_type": "display_data"
    }
   ],
   "source": [
    "for file in data_files[:1]:\n",
    "    print(file)\n",
    "    data_path = path + \"\\\\csv\\\\\" + filename + \".csv\"\n",
    "    data = pd.read_csv(data_path)\n",
    "    \n",
    "    f = plt.figure()\n",
    "    ax1 = f.add_subplot(221)\n",
    "    ax1.set_title('Pandas diff')\n",
    "    ax1.plot(data.jiffies.diff())\n",
    "    \n",
    "    diff(data, ['jiffies'])\n",
    "    ax2 = f.add_subplot(222)\n",
    "    ax2.set_title('Homebrew diff')\n",
    "    ax2.plot(data.jiffies)\n",
    "\n",
    "    plt.show()"
   ]
  },
  {
   "cell_type": "code",
   "execution_count": 27,
   "id": "5cfe0aa6",
   "metadata": {},
   "outputs": [
    {
     "data": {
      "text/html": [
       "<div>\n",
       "<style scoped>\n",
       "    .dataframe tbody tr th:only-of-type {\n",
       "        vertical-align: middle;\n",
       "    }\n",
       "\n",
       "    .dataframe tbody tr th {\n",
       "        vertical-align: top;\n",
       "    }\n",
       "\n",
       "    .dataframe thead th {\n",
       "        text-align: right;\n",
       "    }\n",
       "</style>\n",
       "<table border=\"1\" class=\"dataframe\">\n",
       "  <thead>\n",
       "    <tr style=\"text-align: right;\">\n",
       "      <th></th>\n",
       "      <th>Unique Value</th>\n",
       "      <th>Count</th>\n",
       "      <th>Ratio</th>\n",
       "      <th>Percentage</th>\n",
       "    </tr>\n",
       "  </thead>\n",
       "  <tbody>\n",
       "    <tr>\n",
       "      <th>0</th>\n",
       "      <td>4</td>\n",
       "      <td>182131</td>\n",
       "      <td>0.455692</td>\n",
       "      <td>45.569205</td>\n",
       "    </tr>\n",
       "    <tr>\n",
       "      <th>1</th>\n",
       "      <td>0</td>\n",
       "      <td>167495</td>\n",
       "      <td>0.419073</td>\n",
       "      <td>41.907276</td>\n",
       "    </tr>\n",
       "    <tr>\n",
       "      <th>2</th>\n",
       "      <td>5</td>\n",
       "      <td>35376</td>\n",
       "      <td>0.088511</td>\n",
       "      <td>8.851081</td>\n",
       "    </tr>\n",
       "    <tr>\n",
       "      <th>3</th>\n",
       "      <td>1</td>\n",
       "      <td>11109</td>\n",
       "      <td>0.027795</td>\n",
       "      <td>2.779474</td>\n",
       "    </tr>\n",
       "    <tr>\n",
       "      <th>4</th>\n",
       "      <td>2</td>\n",
       "      <td>1927</td>\n",
       "      <td>0.004821</td>\n",
       "      <td>0.482136</td>\n",
       "    </tr>\n",
       "    <tr>\n",
       "      <th>5</th>\n",
       "      <td>3</td>\n",
       "      <td>1602</td>\n",
       "      <td>0.004008</td>\n",
       "      <td>0.400821</td>\n",
       "    </tr>\n",
       "    <tr>\n",
       "      <th>6</th>\n",
       "      <td>16</td>\n",
       "      <td>6</td>\n",
       "      <td>0.000015</td>\n",
       "      <td>0.001501</td>\n",
       "    </tr>\n",
       "    <tr>\n",
       "      <th>7</th>\n",
       "      <td>6</td>\n",
       "      <td>5</td>\n",
       "      <td>0.000013</td>\n",
       "      <td>0.001251</td>\n",
       "    </tr>\n",
       "    <tr>\n",
       "      <th>8</th>\n",
       "      <td>9</td>\n",
       "      <td>4</td>\n",
       "      <td>0.000010</td>\n",
       "      <td>0.001001</td>\n",
       "    </tr>\n",
       "    <tr>\n",
       "      <th>9</th>\n",
       "      <td>11</td>\n",
       "      <td>3</td>\n",
       "      <td>0.000008</td>\n",
       "      <td>0.000751</td>\n",
       "    </tr>\n",
       "    <tr>\n",
       "      <th>10</th>\n",
       "      <td>10</td>\n",
       "      <td>2</td>\n",
       "      <td>0.000005</td>\n",
       "      <td>0.000500</td>\n",
       "    </tr>\n",
       "    <tr>\n",
       "      <th>11</th>\n",
       "      <td>15</td>\n",
       "      <td>2</td>\n",
       "      <td>0.000005</td>\n",
       "      <td>0.000500</td>\n",
       "    </tr>\n",
       "    <tr>\n",
       "      <th>12</th>\n",
       "      <td>8</td>\n",
       "      <td>2</td>\n",
       "      <td>0.000005</td>\n",
       "      <td>0.000500</td>\n",
       "    </tr>\n",
       "    <tr>\n",
       "      <th>13</th>\n",
       "      <td>12</td>\n",
       "      <td>1</td>\n",
       "      <td>0.000003</td>\n",
       "      <td>0.000250</td>\n",
       "    </tr>\n",
       "    <tr>\n",
       "      <th>14</th>\n",
       "      <td>7</td>\n",
       "      <td>1</td>\n",
       "      <td>0.000003</td>\n",
       "      <td>0.000250</td>\n",
       "    </tr>\n",
       "    <tr>\n",
       "      <th>15</th>\n",
       "      <td>13</td>\n",
       "      <td>1</td>\n",
       "      <td>0.000003</td>\n",
       "      <td>0.000250</td>\n",
       "    </tr>\n",
       "    <tr>\n",
       "      <th>16</th>\n",
       "      <td>76</td>\n",
       "      <td>1</td>\n",
       "      <td>0.000003</td>\n",
       "      <td>0.000250</td>\n",
       "    </tr>\n",
       "    <tr>\n",
       "      <th>17</th>\n",
       "      <td>38</td>\n",
       "      <td>1</td>\n",
       "      <td>0.000003</td>\n",
       "      <td>0.000250</td>\n",
       "    </tr>\n",
       "    <tr>\n",
       "      <th>18</th>\n",
       "      <td>117</td>\n",
       "      <td>1</td>\n",
       "      <td>0.000003</td>\n",
       "      <td>0.000250</td>\n",
       "    </tr>\n",
       "    <tr>\n",
       "      <th>19</th>\n",
       "      <td>30</td>\n",
       "      <td>1</td>\n",
       "      <td>0.000003</td>\n",
       "      <td>0.000250</td>\n",
       "    </tr>\n",
       "    <tr>\n",
       "      <th>20</th>\n",
       "      <td>25</td>\n",
       "      <td>1</td>\n",
       "      <td>0.000003</td>\n",
       "      <td>0.000250</td>\n",
       "    </tr>\n",
       "    <tr>\n",
       "      <th>21</th>\n",
       "      <td>29</td>\n",
       "      <td>1</td>\n",
       "      <td>0.000003</td>\n",
       "      <td>0.000250</td>\n",
       "    </tr>\n",
       "    <tr>\n",
       "      <th>22</th>\n",
       "      <td>96</td>\n",
       "      <td>1</td>\n",
       "      <td>0.000003</td>\n",
       "      <td>0.000250</td>\n",
       "    </tr>\n",
       "    <tr>\n",
       "      <th>23</th>\n",
       "      <td>18</td>\n",
       "      <td>1</td>\n",
       "      <td>0.000003</td>\n",
       "      <td>0.000250</td>\n",
       "    </tr>\n",
       "    <tr>\n",
       "      <th>24</th>\n",
       "      <td>17</td>\n",
       "      <td>1</td>\n",
       "      <td>0.000003</td>\n",
       "      <td>0.000250</td>\n",
       "    </tr>\n",
       "    <tr>\n",
       "      <th>25</th>\n",
       "      <td>39</td>\n",
       "      <td>1</td>\n",
       "      <td>0.000003</td>\n",
       "      <td>0.000250</td>\n",
       "    </tr>\n",
       "    <tr>\n",
       "      <th>26</th>\n",
       "      <td>447</td>\n",
       "      <td>1</td>\n",
       "      <td>0.000003</td>\n",
       "      <td>0.000250</td>\n",
       "    </tr>\n",
       "    <tr>\n",
       "      <th>27</th>\n",
       "      <td>67</td>\n",
       "      <td>1</td>\n",
       "      <td>0.000003</td>\n",
       "      <td>0.000250</td>\n",
       "    </tr>\n",
       "    <tr>\n",
       "      <th>28</th>\n",
       "      <td>216</td>\n",
       "      <td>1</td>\n",
       "      <td>0.000003</td>\n",
       "      <td>0.000250</td>\n",
       "    </tr>\n",
       "  </tbody>\n",
       "</table>\n",
       "</div>"
      ],
      "text/plain": [
       "    Unique Value   Count     Ratio  Percentage\n",
       "0              4  182131  0.455692   45.569205\n",
       "1              0  167495  0.419073   41.907276\n",
       "2              5   35376  0.088511    8.851081\n",
       "3              1   11109  0.027795    2.779474\n",
       "4              2    1927  0.004821    0.482136\n",
       "5              3    1602  0.004008    0.400821\n",
       "6             16       6  0.000015    0.001501\n",
       "7              6       5  0.000013    0.001251\n",
       "8              9       4  0.000010    0.001001\n",
       "9             11       3  0.000008    0.000751\n",
       "10            10       2  0.000005    0.000500\n",
       "11            15       2  0.000005    0.000500\n",
       "12             8       2  0.000005    0.000500\n",
       "13            12       1  0.000003    0.000250\n",
       "14             7       1  0.000003    0.000250\n",
       "15            13       1  0.000003    0.000250\n",
       "16            76       1  0.000003    0.000250\n",
       "17            38       1  0.000003    0.000250\n",
       "18           117       1  0.000003    0.000250\n",
       "19            30       1  0.000003    0.000250\n",
       "20            25       1  0.000003    0.000250\n",
       "21            29       1  0.000003    0.000250\n",
       "22            96       1  0.000003    0.000250\n",
       "23            18       1  0.000003    0.000250\n",
       "24            17       1  0.000003    0.000250\n",
       "25            39       1  0.000003    0.000250\n",
       "26           447       1  0.000003    0.000250\n",
       "27            67       1  0.000003    0.000250\n",
       "28           216       1  0.000003    0.000250"
      ]
     },
     "execution_count": 27,
     "metadata": {},
     "output_type": "execute_result"
    }
   ],
   "source": [
    "value_counts = data['jiffies'].value_counts()\n",
    "value_counts_df = value_counts.reset_index()\n",
    "value_counts_df.columns = ['Unique Value', 'Count']\n",
    "value_counts_df['Ratio'] = value_counts_df['Count'] / data.shape[0]\n",
    "value_counts_df['Percentage'] = value_counts_df['Ratio'] * 100\n",
    "value_counts_df"
   ]
  },
  {
   "cell_type": "code",
   "execution_count": 28,
   "id": "1713fde6",
   "metadata": {},
   "outputs": [
    {
     "data": {
      "text/plain": [
       "99.98999299999998"
      ]
     },
     "execution_count": 28,
     "metadata": {},
     "output_type": "execute_result"
    }
   ],
   "source": [
    "(45.569205+41.907276+8.851081+2.779474+0.482136+0.400821)"
   ]
  },
  {
   "cell_type": "code",
   "execution_count": null,
   "id": "8828c38d",
   "metadata": {},
   "outputs": [],
   "source": []
  },
  {
   "cell_type": "code",
   "execution_count": 29,
   "id": "33600ed3",
   "metadata": {},
   "outputs": [
    {
     "data": {
      "text/plain": [
       "(447, 0)"
      ]
     },
     "execution_count": 29,
     "metadata": {},
     "output_type": "execute_result"
    }
   ],
   "source": [
    "max(data['jiffies']), min(data['jiffies'])"
   ]
  },
  {
   "cell_type": "code",
   "execution_count": 30,
   "id": "ff3dc950",
   "metadata": {},
   "outputs": [
    {
     "data": {
      "text/html": [
       "<div>\n",
       "<style scoped>\n",
       "    .dataframe tbody tr th:only-of-type {\n",
       "        vertical-align: middle;\n",
       "    }\n",
       "\n",
       "    .dataframe tbody tr th {\n",
       "        vertical-align: top;\n",
       "    }\n",
       "\n",
       "    .dataframe thead th {\n",
       "        text-align: right;\n",
       "    }\n",
       "</style>\n",
       "<table border=\"1\" class=\"dataframe\">\n",
       "  <thead>\n",
       "    <tr style=\"text-align: right;\">\n",
       "      <th></th>\n",
       "      <th>Unique Value</th>\n",
       "      <th>Count</th>\n",
       "      <th>Ratio</th>\n",
       "      <th>Percentage</th>\n",
       "    </tr>\n",
       "  </thead>\n",
       "  <tbody>\n",
       "    <tr>\n",
       "      <th>0</th>\n",
       "      <td>90</td>\n",
       "      <td>225041</td>\n",
       "      <td>0.563053</td>\n",
       "      <td>56.305294</td>\n",
       "    </tr>\n",
       "    <tr>\n",
       "      <th>1</th>\n",
       "      <td>76</td>\n",
       "      <td>21039</td>\n",
       "      <td>0.052640</td>\n",
       "      <td>5.263961</td>\n",
       "    </tr>\n",
       "    <tr>\n",
       "      <th>2</th>\n",
       "      <td>77</td>\n",
       "      <td>19693</td>\n",
       "      <td>0.049272</td>\n",
       "      <td>4.927192</td>\n",
       "    </tr>\n",
       "    <tr>\n",
       "      <th>3</th>\n",
       "      <td>10</td>\n",
       "      <td>17856</td>\n",
       "      <td>0.044676</td>\n",
       "      <td>4.467574</td>\n",
       "    </tr>\n",
       "    <tr>\n",
       "      <th>4</th>\n",
       "      <td>70</td>\n",
       "      <td>15286</td>\n",
       "      <td>0.038246</td>\n",
       "      <td>3.824560</td>\n",
       "    </tr>\n",
       "    <tr>\n",
       "      <th>5</th>\n",
       "      <td>75</td>\n",
       "      <td>14041</td>\n",
       "      <td>0.035131</td>\n",
       "      <td>3.513060</td>\n",
       "    </tr>\n",
       "    <tr>\n",
       "      <th>6</th>\n",
       "      <td>69</td>\n",
       "      <td>13480</td>\n",
       "      <td>0.033727</td>\n",
       "      <td>3.372698</td>\n",
       "    </tr>\n",
       "    <tr>\n",
       "      <th>7</th>\n",
       "      <td>73</td>\n",
       "      <td>13339</td>\n",
       "      <td>0.033374</td>\n",
       "      <td>3.337420</td>\n",
       "    </tr>\n",
       "    <tr>\n",
       "      <th>8</th>\n",
       "      <td>72</td>\n",
       "      <td>11937</td>\n",
       "      <td>0.029866</td>\n",
       "      <td>2.986639</td>\n",
       "    </tr>\n",
       "    <tr>\n",
       "      <th>9</th>\n",
       "      <td>71</td>\n",
       "      <td>10617</td>\n",
       "      <td>0.026564</td>\n",
       "      <td>2.656375</td>\n",
       "    </tr>\n",
       "    <tr>\n",
       "      <th>10</th>\n",
       "      <td>74</td>\n",
       "      <td>9681</td>\n",
       "      <td>0.024222</td>\n",
       "      <td>2.422188</td>\n",
       "    </tr>\n",
       "    <tr>\n",
       "      <th>11</th>\n",
       "      <td>67</td>\n",
       "      <td>7513</td>\n",
       "      <td>0.018798</td>\n",
       "      <td>1.879754</td>\n",
       "    </tr>\n",
       "    <tr>\n",
       "      <th>12</th>\n",
       "      <td>78</td>\n",
       "      <td>6999</td>\n",
       "      <td>0.017512</td>\n",
       "      <td>1.751151</td>\n",
       "    </tr>\n",
       "    <tr>\n",
       "      <th>13</th>\n",
       "      <td>68</td>\n",
       "      <td>5657</td>\n",
       "      <td>0.014154</td>\n",
       "      <td>1.415382</td>\n",
       "    </tr>\n",
       "    <tr>\n",
       "      <th>14</th>\n",
       "      <td>89</td>\n",
       "      <td>4724</td>\n",
       "      <td>0.011819</td>\n",
       "      <td>1.181946</td>\n",
       "    </tr>\n",
       "    <tr>\n",
       "      <th>15</th>\n",
       "      <td>87</td>\n",
       "      <td>932</td>\n",
       "      <td>0.002332</td>\n",
       "      <td>0.233187</td>\n",
       "    </tr>\n",
       "    <tr>\n",
       "      <th>16</th>\n",
       "      <td>85</td>\n",
       "      <td>401</td>\n",
       "      <td>0.001003</td>\n",
       "      <td>0.100330</td>\n",
       "    </tr>\n",
       "    <tr>\n",
       "      <th>17</th>\n",
       "      <td>9</td>\n",
       "      <td>395</td>\n",
       "      <td>0.000988</td>\n",
       "      <td>0.098829</td>\n",
       "    </tr>\n",
       "    <tr>\n",
       "      <th>18</th>\n",
       "      <td>49</td>\n",
       "      <td>333</td>\n",
       "      <td>0.000833</td>\n",
       "      <td>0.083317</td>\n",
       "    </tr>\n",
       "    <tr>\n",
       "      <th>19</th>\n",
       "      <td>7</td>\n",
       "      <td>234</td>\n",
       "      <td>0.000585</td>\n",
       "      <td>0.058547</td>\n",
       "    </tr>\n",
       "    <tr>\n",
       "      <th>20</th>\n",
       "      <td>38</td>\n",
       "      <td>234</td>\n",
       "      <td>0.000585</td>\n",
       "      <td>0.058547</td>\n",
       "    </tr>\n",
       "    <tr>\n",
       "      <th>21</th>\n",
       "      <td>40</td>\n",
       "      <td>124</td>\n",
       "      <td>0.000310</td>\n",
       "      <td>0.031025</td>\n",
       "    </tr>\n",
       "    <tr>\n",
       "      <th>22</th>\n",
       "      <td>66</td>\n",
       "      <td>44</td>\n",
       "      <td>0.000110</td>\n",
       "      <td>0.011009</td>\n",
       "    </tr>\n",
       "    <tr>\n",
       "      <th>23</th>\n",
       "      <td>1</td>\n",
       "      <td>41</td>\n",
       "      <td>0.000103</td>\n",
       "      <td>0.010258</td>\n",
       "    </tr>\n",
       "    <tr>\n",
       "      <th>24</th>\n",
       "      <td>0</td>\n",
       "      <td>38</td>\n",
       "      <td>0.000095</td>\n",
       "      <td>0.009508</td>\n",
       "    </tr>\n",
       "    <tr>\n",
       "      <th>25</th>\n",
       "      <td>8</td>\n",
       "      <td>1</td>\n",
       "      <td>0.000003</td>\n",
       "      <td>0.000250</td>\n",
       "    </tr>\n",
       "  </tbody>\n",
       "</table>\n",
       "</div>"
      ],
      "text/plain": [
       "    Unique Value   Count     Ratio  Percentage\n",
       "0             90  225041  0.563053   56.305294\n",
       "1             76   21039  0.052640    5.263961\n",
       "2             77   19693  0.049272    4.927192\n",
       "3             10   17856  0.044676    4.467574\n",
       "4             70   15286  0.038246    3.824560\n",
       "5             75   14041  0.035131    3.513060\n",
       "6             69   13480  0.033727    3.372698\n",
       "7             73   13339  0.033374    3.337420\n",
       "8             72   11937  0.029866    2.986639\n",
       "9             71   10617  0.026564    2.656375\n",
       "10            74    9681  0.024222    2.422188\n",
       "11            67    7513  0.018798    1.879754\n",
       "12            78    6999  0.017512    1.751151\n",
       "13            68    5657  0.014154    1.415382\n",
       "14            89    4724  0.011819    1.181946\n",
       "15            87     932  0.002332    0.233187\n",
       "16            85     401  0.001003    0.100330\n",
       "17             9     395  0.000988    0.098829\n",
       "18            49     333  0.000833    0.083317\n",
       "19             7     234  0.000585    0.058547\n",
       "20            38     234  0.000585    0.058547\n",
       "21            40     124  0.000310    0.031025\n",
       "22            66      44  0.000110    0.011009\n",
       "23             1      41  0.000103    0.010258\n",
       "24             0      38  0.000095    0.009508\n",
       "25             8       1  0.000003    0.000250"
      ]
     },
     "execution_count": 30,
     "metadata": {},
     "output_type": "execute_result"
    }
   ],
   "source": [
    "value_counts = data['irq'].value_counts()\n",
    "value_counts_df = value_counts.reset_index()\n",
    "value_counts_df.columns = ['Unique Value', 'Count']\n",
    "value_counts_df['Ratio'] = value_counts_df['Count'] / data.shape[0]\n",
    "value_counts_df['Percentage'] = value_counts_df['Ratio'] * 100\n",
    "value_counts_df"
   ]
  },
  {
   "cell_type": "code",
   "execution_count": 31,
   "id": "cf8e4549",
   "metadata": {},
   "outputs": [],
   "source": [
    "def data_diff_hist(filename, column, selection = [], crop = (None, None), slicer = (None, None), log = False, bins = None):\n",
    "    # Import\n",
    "    data_path = path + \"\\\\csv\\\\\" + filename + \".csv\"\n",
    "    data = pd.read_csv(data_path)\n",
    "    \n",
    "    # Selection: select data according to other columns (origin, process...)\n",
    "    for tup in selection: \n",
    "        data = data[data[tup[0]] == tup[1]] \n",
    "\n",
    "    # Cropping: remove crop[0] % of beginning or crop[0] of end of the data (if not idle)\n",
    "    n = data.shape[0]\n",
    "    if crop[0] != None and int(crop[0]*n) > 0: \n",
    "        data = data.tail(-int( n*crop[0] ))\n",
    "    if crop[1] != None and int(crop[1]*n) > 0: \n",
    "        data = data.head(-int( n*crop[1] ))\n",
    "        \n",
    "    diff(data, ['jiffies'])\n",
    "    \n",
    "    fig, ax = plt.subplots()\n",
    "    bins = max(int(data.shape[0]/128) if not bins else bins, 1)\n",
    "    plt.hist(data[column], density=True,  log = log, bins = bins)\n",
    "    print(\"Histogram of\", filename, \":\")\n",
    "    print(\"\\t selection:\", tup_string(selection))\n",
    "    print(\"\\t crop values:\", str(0 if not crop[0] else int(crop[0]*n))+\",\", str(0 if not crop[1] else int(crop[1]*n)))\n",
    "    print(\"\\t # of elements:\", str(data.shape[0]))\n",
    "    print(\"\\t # of bins:\", str(bins))\n",
    "    print(\"\\t log =\", str(log))\n",
    "    \n",
    "    ax.set_xlabel(u'Jiffies value')\n",
    "    ax.set_ylabel('Frequency')\n",
    "\n",
    "    plt.show()"
   ]
  },
  {
   "cell_type": "code",
   "execution_count": 33,
   "id": "99ee901a",
   "metadata": {},
   "outputs": [
    {
     "name": "stdout",
     "output_type": "stream",
     "text": [
      "Histogram of moduntu_HP_desktop_trace_jiffies_23.10.15_1h :\n",
      "\t selection: idle = True\n",
      "\t crop values: 72845, 36422\n",
      "\t # of elements: 254962\n",
      "\t # of bins: 500\n",
      "\t log = True\n"
     ]
    },
    {
     "data": {
      "image/png": "[encoded data removed]",
      "text/plain": [
       "<Figure size 1000x800 with 1 Axes>"
      ]
     },
     "metadata": {},
     "output_type": "display_data"
    }
   ],
   "source": [
    "for file in data_files:\n",
    "    data_diff_hist(file, 'jiffies', selection = [('idle', True)], crop = (0.2, 0.1), slicer = (None, None), \n",
    "              log = True, bins = 500)"
   ]
  },
  {
   "cell_type": "code",
   "execution_count": null,
   "id": "62eac8aa",
   "metadata": {},
   "outputs": [],
   "source": []
  }
 ],
 "metadata": {
  "kernelspec": {
   "display_name": "Python 3 (ipykernel)",
   "language": "python",
   "name": "python3"
  },
  "language_info": {
   "codemirror_mode": {
    "name": "ipython",
    "version": 3
   },
   "file_extension": ".py",
   "mimetype": "text/x-python",
   "name": "python",
   "nbconvert_exporter": "python",
   "pygments_lexer": "ipython3",
   "version": "3.10.9"
  },
  "vscode": {
   "interpreter": {
    "hash": "e411bf700db9e81f1e55211386d5ad9b23ad5567092fb513b0d20ece37f6f7a1"
   }
  }
 },
 "nbformat": 4,
 "nbformat_minor": 5
}
