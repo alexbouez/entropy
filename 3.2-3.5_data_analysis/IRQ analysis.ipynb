{
 "cells": [
  {
   "cell_type": "code",
   "execution_count": 1,
   "id": "45382bf6",
   "metadata": {},
   "outputs": [],
   "source": [
    "import os\n",
    "path = os.path.abspath(os.getcwd())"
   ]
  },
  {
   "cell_type": "code",
   "execution_count": 2,
   "id": "b950c80b",
   "metadata": {},
   "outputs": [],
   "source": [
    "%run -i common_functions"
   ]
  },
  {
   "cell_type": "markdown",
   "id": "f8903994",
   "metadata": {},
   "source": [
    "# I/ Data Formatting\n"
   ]
  },
  {
   "cell_type": "code",
   "execution_count": 3,
   "id": "9c1ab093",
   "metadata": {},
   "outputs": [],
   "source": [
    "# FILES\n",
    "data_files = [\n",
    "    'moduntu_HP_desktop_trace_jiffies_23.10.15_1h'\n",
    "]\n",
    "\n",
    "file = data_files[0]"
   ]
  },
  {
   "cell_type": "markdown",
   "id": "32432ce0",
   "metadata": {},
   "source": [
    "## A. Text to CSV"
   ]
  },
  {
   "cell_type": "code",
   "execution_count": 4,
   "id": "d2517bdd",
   "metadata": {},
   "outputs": [],
   "source": [
    "def txtdmp_to_csv(filename):\n",
    "    with open(\"data/\" + filename + \".txt\", \"r\") as textfile:\n",
    "        textdump = textfile.read().splitlines()\n",
    "        \n",
    "    csvfile = open(\"csv/\" + filename + \".csv\", \"w\")\n",
    "    csvfile.write(','.join([\"count\", \"timestamp\", \"regs\", \"irq\", \"swab\", \"jiffies\", \"idle\"]))\n",
    "    csvfile.write('\\n')\n",
    "\n",
    "    count = 0\n",
    "    for line in textdump: \n",
    "        splitline = line.replace('@','').replace(',','').split(' ')\n",
    "        values, start, idle = [], False, False\n",
    "\n",
    "        for i in splitline: \n",
    "            # extract add_interrupt_randomness values\n",
    "            if i == \"add_interrupt_randomness:\":\n",
    "                start = True\n",
    "                count += 1\n",
    "                values.append(str(count))\n",
    "            elif start and i != \"a\":\n",
    "                values.append(i)\n",
    "\n",
    "            # Check for idle\n",
    "            if i == \"<idle>-0\":\n",
    "                idle = True\n",
    "\n",
    "        if values != []:\n",
    "            values.append(str(idle))\n",
    "            csvfile.write(','.join(values))\n",
    "            csvfile.write('\\n')\n",
    "\n",
    "    csvfile.close()"
   ]
  },
  {
   "cell_type": "raw",
   "id": "b558e324",
   "metadata": {},
   "source": [
    "# WARNING: LONG RUNTIME\n",
    "for file in data_files:\n",
    "    txtdmp_to_csv(file)"
   ]
  },
  {
   "cell_type": "markdown",
   "id": "b8825efd",
   "metadata": {},
   "source": [
    "## B. Data Import"
   ]
  },
  {
   "cell_type": "code",
   "execution_count": 5,
   "id": "2820b806",
   "metadata": {
    "scrolled": true
   },
   "outputs": [
    {
     "name": "stdout",
     "output_type": "stream",
     "text": [
      "moduntu_HP_desktop_trace_jiffies_23.10.15_1h\n",
      "    Stats for idle :\n",
      "        True\t\t 364229\t\t 91%\n",
      "        False\t\t 35451\t\t 9%\n",
      "\n"
     ]
    }
   ],
   "source": [
    "# Show stats for 'idle' column.\n",
    "data_path = path + \"\\\\csv\\\\\" + file + \".csv\"\n",
    "data = pd.read_csv(data_path)\n",
    "\n",
    "print(file)\n",
    "for col in [\"idle\"]:\n",
    "    get_stats(data, col)"
   ]
  },
  {
   "cell_type": "code",
   "execution_count": 6,
   "id": "b0cdc491",
   "metadata": {},
   "outputs": [
    {
     "data": {
      "text/html": [
       "<div>\n",
       "<style scoped>\n",
       "    .dataframe tbody tr th:only-of-type {\n",
       "        vertical-align: middle;\n",
       "    }\n",
       "\n",
       "    .dataframe tbody tr th {\n",
       "        vertical-align: top;\n",
       "    }\n",
       "\n",
       "    .dataframe thead th {\n",
       "        text-align: right;\n",
       "    }\n",
       "</style>\n",
       "<table border=\"1\" class=\"dataframe\">\n",
       "  <thead>\n",
       "    <tr style=\"text-align: right;\">\n",
       "      <th></th>\n",
       "      <th>count</th>\n",
       "      <th>timestamp</th>\n",
       "      <th>regs</th>\n",
       "      <th>irq</th>\n",
       "      <th>swab</th>\n",
       "      <th>jiffies</th>\n",
       "      <th>idle</th>\n",
       "    </tr>\n",
       "  </thead>\n",
       "  <tbody>\n",
       "    <tr>\n",
       "      <th>0</th>\n",
       "      <td>1</td>\n",
       "      <td>51036824464</td>\n",
       "      <td>18446744072313314992</td>\n",
       "      <td>0</td>\n",
       "      <td>0</td>\n",
       "      <td>4294892297</td>\n",
       "      <td>True</td>\n",
       "    </tr>\n",
       "    <tr>\n",
       "      <th>1</th>\n",
       "      <td>2</td>\n",
       "      <td>51045994495</td>\n",
       "      <td>18446744072313314992</td>\n",
       "      <td>0</td>\n",
       "      <td>0</td>\n",
       "      <td>4294892298</td>\n",
       "      <td>True</td>\n",
       "    </tr>\n",
       "    <tr>\n",
       "      <th>2</th>\n",
       "      <td>3</td>\n",
       "      <td>51055176440</td>\n",
       "      <td>18446744072313314992</td>\n",
       "      <td>0</td>\n",
       "      <td>0</td>\n",
       "      <td>4294892299</td>\n",
       "      <td>True</td>\n",
       "    </tr>\n",
       "    <tr>\n",
       "      <th>3</th>\n",
       "      <td>4</td>\n",
       "      <td>51064359489</td>\n",
       "      <td>18446744072313314992</td>\n",
       "      <td>0</td>\n",
       "      <td>0</td>\n",
       "      <td>4294892300</td>\n",
       "      <td>True</td>\n",
       "    </tr>\n",
       "    <tr>\n",
       "      <th>4</th>\n",
       "      <td>5</td>\n",
       "      <td>51073541871</td>\n",
       "      <td>18446744072313314992</td>\n",
       "      <td>0</td>\n",
       "      <td>0</td>\n",
       "      <td>4294892301</td>\n",
       "      <td>True</td>\n",
       "    </tr>\n",
       "    <tr>\n",
       "      <th>5</th>\n",
       "      <td>6</td>\n",
       "      <td>51082732073</td>\n",
       "      <td>18446744072288989251</td>\n",
       "      <td>0</td>\n",
       "      <td>0</td>\n",
       "      <td>4294892302</td>\n",
       "      <td>True</td>\n",
       "    </tr>\n",
       "    <tr>\n",
       "      <th>6</th>\n",
       "      <td>7</td>\n",
       "      <td>51091907877</td>\n",
       "      <td>18446744072288989251</td>\n",
       "      <td>0</td>\n",
       "      <td>0</td>\n",
       "      <td>4294892303</td>\n",
       "      <td>True</td>\n",
       "    </tr>\n",
       "    <tr>\n",
       "      <th>7</th>\n",
       "      <td>8</td>\n",
       "      <td>51101090466</td>\n",
       "      <td>18446744072281703387</td>\n",
       "      <td>0</td>\n",
       "      <td>0</td>\n",
       "      <td>4294892304</td>\n",
       "      <td>True</td>\n",
       "    </tr>\n",
       "    <tr>\n",
       "      <th>8</th>\n",
       "      <td>9</td>\n",
       "      <td>51110271813</td>\n",
       "      <td>18446744072296703746</td>\n",
       "      <td>0</td>\n",
       "      <td>0</td>\n",
       "      <td>4294892305</td>\n",
       "      <td>True</td>\n",
       "    </tr>\n",
       "    <tr>\n",
       "      <th>9</th>\n",
       "      <td>10</td>\n",
       "      <td>51119454333</td>\n",
       "      <td>18446744072281703387</td>\n",
       "      <td>0</td>\n",
       "      <td>0</td>\n",
       "      <td>4294892306</td>\n",
       "      <td>True</td>\n",
       "    </tr>\n",
       "    <tr>\n",
       "      <th>10</th>\n",
       "      <td>11</td>\n",
       "      <td>51138563814</td>\n",
       "      <td>18446744072289589487</td>\n",
       "      <td>0</td>\n",
       "      <td>0</td>\n",
       "      <td>4294892307</td>\n",
       "      <td>True</td>\n",
       "    </tr>\n",
       "    <tr>\n",
       "      <th>11</th>\n",
       "      <td>12</td>\n",
       "      <td>51147005527</td>\n",
       "      <td>18446744072313308837</td>\n",
       "      <td>0</td>\n",
       "      <td>0</td>\n",
       "      <td>4294892308</td>\n",
       "      <td>False</td>\n",
       "    </tr>\n",
       "    <tr>\n",
       "      <th>12</th>\n",
       "      <td>13</td>\n",
       "      <td>51156185977</td>\n",
       "      <td>18446744072313308848</td>\n",
       "      <td>0</td>\n",
       "      <td>0</td>\n",
       "      <td>4294892309</td>\n",
       "      <td>False</td>\n",
       "    </tr>\n",
       "    <tr>\n",
       "      <th>13</th>\n",
       "      <td>14</td>\n",
       "      <td>51165368037</td>\n",
       "      <td>18446744072313308848</td>\n",
       "      <td>0</td>\n",
       "      <td>0</td>\n",
       "      <td>4294892310</td>\n",
       "      <td>False</td>\n",
       "    </tr>\n",
       "    <tr>\n",
       "      <th>14</th>\n",
       "      <td>15</td>\n",
       "      <td>51174550810</td>\n",
       "      <td>18446744072313308861</td>\n",
       "      <td>0</td>\n",
       "      <td>0</td>\n",
       "      <td>4294892311</td>\n",
       "      <td>False</td>\n",
       "    </tr>\n",
       "    <tr>\n",
       "      <th>15</th>\n",
       "      <td>16</td>\n",
       "      <td>51183733376</td>\n",
       "      <td>18446744072313308848</td>\n",
       "      <td>0</td>\n",
       "      <td>0</td>\n",
       "      <td>4294892312</td>\n",
       "      <td>False</td>\n",
       "    </tr>\n",
       "    <tr>\n",
       "      <th>16</th>\n",
       "      <td>17</td>\n",
       "      <td>51192915574</td>\n",
       "      <td>18446744072313308848</td>\n",
       "      <td>0</td>\n",
       "      <td>0</td>\n",
       "      <td>4294892313</td>\n",
       "      <td>False</td>\n",
       "    </tr>\n",
       "    <tr>\n",
       "      <th>17</th>\n",
       "      <td>18</td>\n",
       "      <td>51202098600</td>\n",
       "      <td>18446744072313308848</td>\n",
       "      <td>0</td>\n",
       "      <td>0</td>\n",
       "      <td>4294892314</td>\n",
       "      <td>False</td>\n",
       "    </tr>\n",
       "    <tr>\n",
       "      <th>18</th>\n",
       "      <td>19</td>\n",
       "      <td>51211281488</td>\n",
       "      <td>18446744072313308844</td>\n",
       "      <td>0</td>\n",
       "      <td>0</td>\n",
       "      <td>4294892315</td>\n",
       "      <td>False</td>\n",
       "    </tr>\n",
       "    <tr>\n",
       "      <th>19</th>\n",
       "      <td>20</td>\n",
       "      <td>51220464491</td>\n",
       "      <td>18446744072313308848</td>\n",
       "      <td>0</td>\n",
       "      <td>0</td>\n",
       "      <td>4294892316</td>\n",
       "      <td>False</td>\n",
       "    </tr>\n",
       "  </tbody>\n",
       "</table>\n",
       "</div>"
      ],
      "text/plain": [
       "    count    timestamp                  regs  irq  swab     jiffies   idle\n",
       "0       1  51036824464  18446744072313314992    0     0  4294892297   True\n",
       "1       2  51045994495  18446744072313314992    0     0  4294892298   True\n",
       "2       3  51055176440  18446744072313314992    0     0  4294892299   True\n",
       "3       4  51064359489  18446744072313314992    0     0  4294892300   True\n",
       "4       5  51073541871  18446744072313314992    0     0  4294892301   True\n",
       "5       6  51082732073  18446744072288989251    0     0  4294892302   True\n",
       "6       7  51091907877  18446744072288989251    0     0  4294892303   True\n",
       "7       8  51101090466  18446744072281703387    0     0  4294892304   True\n",
       "8       9  51110271813  18446744072296703746    0     0  4294892305   True\n",
       "9      10  51119454333  18446744072281703387    0     0  4294892306   True\n",
       "10     11  51138563814  18446744072289589487    0     0  4294892307   True\n",
       "11     12  51147005527  18446744072313308837    0     0  4294892308  False\n",
       "12     13  51156185977  18446744072313308848    0     0  4294892309  False\n",
       "13     14  51165368037  18446744072313308848    0     0  4294892310  False\n",
       "14     15  51174550810  18446744072313308861    0     0  4294892311  False\n",
       "15     16  51183733376  18446744072313308848    0     0  4294892312  False\n",
       "16     17  51192915574  18446744072313308848    0     0  4294892313  False\n",
       "17     18  51202098600  18446744072313308848    0     0  4294892314  False\n",
       "18     19  51211281488  18446744072313308844    0     0  4294892315  False\n",
       "19     20  51220464491  18446744072313308848    0     0  4294892316  False"
      ]
     },
     "execution_count": 6,
     "metadata": {},
     "output_type": "execute_result"
    }
   ],
   "source": [
    "data.head(20)"
   ]
  },
  {
   "cell_type": "markdown",
   "id": "d3cc6856",
   "metadata": {},
   "source": [
    "# II/ Analysis of the IRQ"
   ]
  },
  {
   "cell_type": "markdown",
   "id": "1ba9ee3b",
   "metadata": {},
   "source": [
    "## A. Undifferenced Variable"
   ]
  },
  {
   "cell_type": "markdown",
   "id": "14b508d9",
   "metadata": {},
   "source": [
    "### 1) Direct Plotting"
   ]
  },
  {
   "cell_type": "code",
   "execution_count": 7,
   "id": "3334d33a",
   "metadata": {
    "scrolled": false
   },
   "outputs": [
    {
     "name": "stdout",
     "output_type": "stream",
     "text": [
      "Plot of moduntu_HP_desktop_trace_jiffies_23.10.15_1h :\n",
      "\t differencing order: 0\n",
      "\t selection: []\n",
      "\t crop values: 0, 0\n",
      "\t # of elements: 399680\n",
      "\t log = False\n"
     ]
    },
    {
     "data": {
      "image/png": "[encoded data removed]",
      "text/plain": [
       "<Figure size 720x576 with 1 Axes>"
      ]
     },
     "metadata": {},
     "output_type": "display_data"
    }
   ],
   "source": [
    "data_plot(file, 'irq', log=False, ylabel=r'Variable value $i_t$')"
   ]
  },
  {
   "cell_type": "code",
   "execution_count": 8,
   "id": "4c2586e1",
   "metadata": {},
   "outputs": [
    {
     "name": "stdout",
     "output_type": "stream",
     "text": [
      "Plot of moduntu_HP_desktop_trace_jiffies_23.10.15_1h :\n",
      "\t differencing order: 0\n",
      "\t selection: [('idle', True)]\n",
      "\t crop values: 109268, 36422\n",
      "\t # of elements: 218539\n",
      "\t log = True\n"
     ]
    },
    {
     "data": {
      "image/png": "[encoded data removed]",
      "text/plain": [
       "<Figure size 720x576 with 1 Axes>"
      ]
     },
     "metadata": {},
     "output_type": "display_data"
    }
   ],
   "source": [
    "data_plot(file, 'irq', selection = [('idle', True)], crop = (0.3, 0.1), log = True, ylabel=r'Variable value $i_t$')"
   ]
  },
  {
   "cell_type": "markdown",
   "id": "d066e095",
   "metadata": {},
   "source": [
    "### 2) Histogram"
   ]
  },
  {
   "cell_type": "code",
   "execution_count": 9,
   "id": "d88159c3",
   "metadata": {
    "scrolled": false
   },
   "outputs": [
    {
     "name": "stdout",
     "output_type": "stream",
     "text": [
      "Histogram of moduntu_HP_desktop_trace_jiffies_23.10.15_1h :\n",
      "\t differencing order: 0\n",
      "\t selection: []\n",
      "\t crop values: 0, 0\n",
      "\t # of elements: 399680\n",
      "\t # of bins: 632\n",
      "\t log = False\n"
     ]
    },
    {
     "data": {
      "image/png": "[encoded data removed]",
      "text/plain": [
       "<Figure size 720x576 with 1 Axes>"
      ]
     },
     "metadata": {},
     "output_type": "display_data"
    }
   ],
   "source": [
    "data_hist(file, 'irq', log=False, xlabel=r'Variable value $i_t$')"
   ]
  },
  {
   "cell_type": "code",
   "execution_count": 10,
   "id": "54f4b013",
   "metadata": {
    "scrolled": false
   },
   "outputs": [
    {
     "name": "stdout",
     "output_type": "stream",
     "text": [
      "Histogram of moduntu_HP_desktop_trace_jiffies_23.10.15_1h :\n",
      "\t differencing order: 0\n",
      "\t selection: [('idle', True)]\n",
      "\t crop values: 109268, 36422\n",
      "\t # of elements: 218539\n",
      "\t # of bins: 467\n",
      "\t log = True\n"
     ]
    },
    {
     "data": {
      "image/png": "[encoded data removed]",
      "text/plain": [
       "<Figure size 720x576 with 1 Axes>"
      ]
     },
     "metadata": {},
     "output_type": "display_data"
    }
   ],
   "source": [
    "data_hist(file, 'irq', selection = [('idle', True)], crop = (0.3, 0.1), log = True,\n",
    "          xlabel=r'Variable value $i_t$')"
   ]
  },
  {
   "cell_type": "markdown",
   "id": "95695f98",
   "metadata": {},
   "source": [
    "### 3) Correlogram"
   ]
  },
  {
   "cell_type": "code",
   "execution_count": 11,
   "id": "7f464a77",
   "metadata": {
    "scrolled": false
   },
   "outputs": [
    {
     "name": "stdout",
     "output_type": "stream",
     "text": [
      "Correlogram of moduntu_HP_desktop_trace_jiffies_23.10.15_1h :\n",
      "\t differencing order: 0\n",
      "\t selection: []\n",
      "\t crop values: 0, 0\n",
      "\t # of elements: 399680\n"
     ]
    },
    {
     "data": {
      "image/png": "[encoded data removed]",
      "text/plain": [
       "<Figure size 720x576 with 1 Axes>"
      ]
     },
     "metadata": {},
     "output_type": "display_data"
    }
   ],
   "source": [
    "data_autocorr(file, 'irq', mode='fft', diff_order=0)"
   ]
  },
  {
   "cell_type": "code",
   "execution_count": 12,
   "id": "02b96610",
   "metadata": {
    "scrolled": false
   },
   "outputs": [
    {
     "name": "stdout",
     "output_type": "stream",
     "text": [
      "Correlogram of moduntu_HP_desktop_trace_jiffies_23.10.15_1h :\n",
      "\t differencing order: 0\n",
      "\t selection: []\n",
      "\t crop values: 0, 0\n",
      "\t # of elements: 399680\n"
     ]
    },
    {
     "data": {
      "image/png": "[encoded data removed]",
      "text/plain": [
       "<Figure size 720x576 with 1 Axes>"
      ]
     },
     "metadata": {},
     "output_type": "display_data"
    }
   ],
   "source": [
    "data_autocorr(file, 'irq', mode='acf', diff_order=0)"
   ]
  },
  {
   "cell_type": "markdown",
   "id": "44071a12",
   "metadata": {},
   "source": [
    "## B. First-Order Differencing"
   ]
  },
  {
   "cell_type": "markdown",
   "id": "13d612d3",
   "metadata": {},
   "source": [
    "### 1) Histogram"
   ]
  },
  {
   "cell_type": "code",
   "execution_count": 13,
   "id": "99ee901a",
   "metadata": {},
   "outputs": [
    {
     "name": "stdout",
     "output_type": "stream",
     "text": [
      "Histogram of moduntu_HP_desktop_trace_jiffies_23.10.15_1h :\n",
      "\t differencing order: 1\n",
      "\t selection: []\n",
      "\t crop values: 0, 0\n",
      "\t # of elements: 399680\n",
      "\t # of bins: 632\n",
      "\t log = True\n"
     ]
    },
    {
     "data": {
      "image/png": "[encoded data removed]",
      "text/plain": [
       "<Figure size 720x576 with 1 Axes>"
      ]
     },
     "metadata": {},
     "output_type": "display_data"
    }
   ],
   "source": [
    "data_hist(file, 'irq', diff_order=1, log=True, xlabel=r'Variable value $\\delta^I_t$')"
   ]
  },
  {
   "cell_type": "code",
   "execution_count": 14,
   "id": "62eac8aa",
   "metadata": {
    "scrolled": false
   },
   "outputs": [
    {
     "name": "stdout",
     "output_type": "stream",
     "text": [
      "Histogram of moduntu_HP_desktop_trace_jiffies_23.10.15_1h :\n",
      "\t differencing order: 1\n",
      "\t selection: [('idle', True)]\n",
      "\t crop values: 72845, 36422\n",
      "\t # of elements: 254962\n",
      "\t # of bins: 504\n",
      "\t log = True\n"
     ]
    },
    {
     "data": {
      "image/png": "[encoded data removed]",
      "text/plain": [
       "<Figure size 720x576 with 1 Axes>"
      ]
     },
     "metadata": {},
     "output_type": "display_data"
    }
   ],
   "source": [
    "data_hist(file, 'irq', diff_order=1, selection=[('idle', True)], crop=(0.2, 0.1), log=True, \n",
    "         xlabel=r'Variable value $\\delta^I_t$')"
   ]
  },
  {
   "cell_type": "markdown",
   "id": "b83e30e2",
   "metadata": {},
   "source": [
    "### 2) Correlogram"
   ]
  },
  {
   "cell_type": "code",
   "execution_count": 15,
   "id": "2f714225",
   "metadata": {},
   "outputs": [
    {
     "name": "stdout",
     "output_type": "stream",
     "text": [
      "Correlogram of moduntu_HP_desktop_trace_jiffies_23.10.15_1h :\n",
      "\t differencing order: 1\n",
      "\t selection: []\n",
      "\t crop values: 0, 0\n",
      "\t # of elements: 399680\n"
     ]
    },
    {
     "data": {
      "image/png": "[encoded data removed]",
      "text/plain": [
       "<Figure size 720x576 with 1 Axes>"
      ]
     },
     "metadata": {},
     "output_type": "display_data"
    }
   ],
   "source": [
    "data_autocorr(file, 'irq', mode='fft', diff_order=1)"
   ]
  },
  {
   "cell_type": "code",
   "execution_count": 16,
   "id": "1da9d145",
   "metadata": {
    "scrolled": false
   },
   "outputs": [
    {
     "name": "stdout",
     "output_type": "stream",
     "text": [
      "Correlogram of moduntu_HP_desktop_trace_jiffies_23.10.15_1h :\n",
      "\t differencing order: 1\n",
      "\t selection: []\n",
      "\t crop values: 0, 0\n",
      "\t # of elements: 399680\n"
     ]
    },
    {
     "data": {
      "image/png": "[encoded data removed]",
      "text/plain": [
       "<Figure size 720x576 with 1 Axes>"
      ]
     },
     "metadata": {},
     "output_type": "display_data"
    }
   ],
   "source": [
    "data_autocorr(file, 'irq', mode='acf', diff_order=1)"
   ]
  },
  {
   "cell_type": "markdown",
   "id": "9ba1a3a6",
   "metadata": {},
   "source": [
    "## C. Second-Order Differencing"
   ]
  },
  {
   "cell_type": "markdown",
   "id": "c605e0f2",
   "metadata": {},
   "source": [
    "### 1) Histogram"
   ]
  },
  {
   "cell_type": "code",
   "execution_count": 17,
   "id": "e3c6ea6c",
   "metadata": {
    "scrolled": false
   },
   "outputs": [
    {
     "name": "stdout",
     "output_type": "stream",
     "text": [
      "Histogram of moduntu_HP_desktop_trace_jiffies_23.10.15_1h :\n",
      "\t differencing order: 2\n",
      "\t selection: []\n",
      "\t crop values: 0, 0\n",
      "\t # of elements: 399680\n",
      "\t # of bins: 632\n",
      "\t log = True\n"
     ]
    },
    {
     "data": {
      "image/png": "[encoded data removed]",
      "text/plain": [
       "<Figure size 720x576 with 1 Axes>"
      ]
     },
     "metadata": {},
     "output_type": "display_data"
    }
   ],
   "source": [
    "data_hist(file, 'irq', diff_order=2, log = True, xlabel=r'Variable value $\\theta^I_t$')"
   ]
  },
  {
   "cell_type": "code",
   "execution_count": 18,
   "id": "c302312a",
   "metadata": {
    "scrolled": false
   },
   "outputs": [
    {
     "name": "stdout",
     "output_type": "stream",
     "text": [
      "Histogram of moduntu_HP_desktop_trace_jiffies_23.10.15_1h :\n",
      "\t differencing order: 2\n",
      "\t selection: [('idle', True)]\n",
      "\t crop values: 72845, 36422\n",
      "\t # of elements: 254962\n",
      "\t # of bins: 504\n",
      "\t log = True\n"
     ]
    },
    {
     "data": {
      "image/png": "[encoded data removed]",
      "text/plain": [
       "<Figure size 720x576 with 1 Axes>"
      ]
     },
     "metadata": {},
     "output_type": "display_data"
    }
   ],
   "source": [
    "data_hist(file, 'irq', diff_order=2, selection=[('idle', True)], crop=(0.2, 0.1), log=True,\n",
    "         xlabel=r'Variable value $\\theta^I_t$')"
   ]
  },
  {
   "cell_type": "markdown",
   "id": "cca2b6f4",
   "metadata": {},
   "source": [
    "### 2) Autocorrelation"
   ]
  },
  {
   "cell_type": "code",
   "execution_count": 19,
   "id": "1b9b3a93",
   "metadata": {
    "scrolled": false
   },
   "outputs": [
    {
     "name": "stdout",
     "output_type": "stream",
     "text": [
      "Correlogram of moduntu_HP_desktop_trace_jiffies_23.10.15_1h :\n",
      "\t differencing order: 2\n",
      "\t selection: []\n",
      "\t crop values: 0, 0\n",
      "\t # of elements: 399680\n"
     ]
    },
    {
     "data": {
      "image/png": "[encoded data removed]",
      "text/plain": [
       "<Figure size 720x576 with 1 Axes>"
      ]
     },
     "metadata": {},
     "output_type": "display_data"
    }
   ],
   "source": [
    "data_autocorr(file, 'irq', mode='fft', diff_order=2)"
   ]
  },
  {
   "cell_type": "code",
   "execution_count": 20,
   "id": "a72f42da",
   "metadata": {},
   "outputs": [
    {
     "name": "stdout",
     "output_type": "stream",
     "text": [
      "Correlogram of moduntu_HP_desktop_trace_jiffies_23.10.15_1h :\n",
      "\t differencing order: 2\n",
      "\t selection: []\n",
      "\t crop values: 0, 0\n",
      "\t # of elements: 399680\n"
     ]
    },
    {
     "data": {
      "image/png": "[encoded data removed]",
      "text/plain": [
       "<Figure size 720x576 with 1 Axes>"
      ]
     },
     "metadata": {},
     "output_type": "display_data"
    }
   ],
   "source": [
    "data_autocorr(file, 'irq', mode='acf', diff_order=2)"
   ]
  },
  {
   "cell_type": "markdown",
   "id": "730ddae3",
   "metadata": {},
   "source": [
    "## D. Model"
   ]
  },
  {
   "cell_type": "code",
   "execution_count": 21,
   "id": "03b41359",
   "metadata": {
    "scrolled": false
   },
   "outputs": [
    {
     "data": {
      "text/html": [
       "<div>\n",
       "<style scoped>\n",
       "    .dataframe tbody tr th:only-of-type {\n",
       "        vertical-align: middle;\n",
       "    }\n",
       "\n",
       "    .dataframe tbody tr th {\n",
       "        vertical-align: top;\n",
       "    }\n",
       "\n",
       "    .dataframe thead th {\n",
       "        text-align: right;\n",
       "    }\n",
       "</style>\n",
       "<table border=\"1\" class=\"dataframe\">\n",
       "  <thead>\n",
       "    <tr style=\"text-align: right;\">\n",
       "      <th></th>\n",
       "      <th>Unique Value</th>\n",
       "      <th>Count</th>\n",
       "      <th>Ratio</th>\n",
       "      <th>Percentage</th>\n",
       "    </tr>\n",
       "  </thead>\n",
       "  <tbody>\n",
       "    <tr>\n",
       "      <th>0</th>\n",
       "      <td>0</td>\n",
       "      <td>212632</td>\n",
       "      <td>0.972970</td>\n",
       "      <td>97.297050</td>\n",
       "    </tr>\n",
       "    <tr>\n",
       "      <th>1</th>\n",
       "      <td>-1</td>\n",
       "      <td>1625</td>\n",
       "      <td>0.007436</td>\n",
       "      <td>0.743574</td>\n",
       "    </tr>\n",
       "    <tr>\n",
       "      <th>2</th>\n",
       "      <td>1</td>\n",
       "      <td>1622</td>\n",
       "      <td>0.007422</td>\n",
       "      <td>0.742202</td>\n",
       "    </tr>\n",
       "    <tr>\n",
       "      <th>3</th>\n",
       "      <td>18</td>\n",
       "      <td>416</td>\n",
       "      <td>0.001904</td>\n",
       "      <td>0.190355</td>\n",
       "    </tr>\n",
       "    <tr>\n",
       "      <th>4</th>\n",
       "      <td>-18</td>\n",
       "      <td>398</td>\n",
       "      <td>0.001821</td>\n",
       "      <td>0.182119</td>\n",
       "    </tr>\n",
       "  </tbody>\n",
       "</table>\n",
       "</div>"
      ],
      "text/plain": [
       "   Unique Value   Count     Ratio  Percentage\n",
       "0             0  212632  0.972970   97.297050\n",
       "1            -1    1625  0.007436    0.743574\n",
       "2             1    1622  0.007422    0.742202\n",
       "3            18     416  0.001904    0.190355\n",
       "4           -18     398  0.001821    0.182119"
      ]
     },
     "execution_count": 21,
     "metadata": {},
     "output_type": "execute_result"
    }
   ],
   "source": [
    "data_freq(file, 'irq', diff_order=1, selection=[('idle', True)], crop=(0.3, 0.1)).head()"
   ]
  },
  {
   "cell_type": "code",
   "execution_count": 22,
   "id": "1f1f9a94",
   "metadata": {
    "scrolled": false
   },
   "outputs": [
    {
     "data": {
      "text/html": [
       "<div>\n",
       "<style scoped>\n",
       "    .dataframe tbody tr th:only-of-type {\n",
       "        vertical-align: middle;\n",
       "    }\n",
       "\n",
       "    .dataframe tbody tr th {\n",
       "        vertical-align: top;\n",
       "    }\n",
       "\n",
       "    .dataframe thead th {\n",
       "        text-align: right;\n",
       "    }\n",
       "</style>\n",
       "<table border=\"1\" class=\"dataframe\">\n",
       "  <thead>\n",
       "    <tr style=\"text-align: right;\">\n",
       "      <th></th>\n",
       "      <th>Unique Value</th>\n",
       "      <th>Count</th>\n",
       "      <th>Ratio</th>\n",
       "      <th>Percentage</th>\n",
       "    </tr>\n",
       "  </thead>\n",
       "  <tbody>\n",
       "    <tr>\n",
       "      <th>0</th>\n",
       "      <td>0</td>\n",
       "      <td>208351</td>\n",
       "      <td>0.953381</td>\n",
       "      <td>95.338132</td>\n",
       "    </tr>\n",
       "    <tr>\n",
       "      <th>1</th>\n",
       "      <td>1</td>\n",
       "      <td>2268</td>\n",
       "      <td>0.010378</td>\n",
       "      <td>1.037801</td>\n",
       "    </tr>\n",
       "    <tr>\n",
       "      <th>2</th>\n",
       "      <td>-1</td>\n",
       "      <td>1970</td>\n",
       "      <td>0.009014</td>\n",
       "      <td>0.901441</td>\n",
       "    </tr>\n",
       "    <tr>\n",
       "      <th>3</th>\n",
       "      <td>-18</td>\n",
       "      <td>703</td>\n",
       "      <td>0.003217</td>\n",
       "      <td>0.321682</td>\n",
       "    </tr>\n",
       "    <tr>\n",
       "      <th>4</th>\n",
       "      <td>18</td>\n",
       "      <td>667</td>\n",
       "      <td>0.003052</td>\n",
       "      <td>0.305209</td>\n",
       "    </tr>\n",
       "  </tbody>\n",
       "</table>\n",
       "</div>"
      ],
      "text/plain": [
       "   Unique Value   Count     Ratio  Percentage\n",
       "0             0  208351  0.953381   95.338132\n",
       "1             1    2268  0.010378    1.037801\n",
       "2            -1    1970  0.009014    0.901441\n",
       "3           -18     703  0.003217    0.321682\n",
       "4            18     667  0.003052    0.305209"
      ]
     },
     "execution_count": 22,
     "metadata": {},
     "output_type": "execute_result"
    }
   ],
   "source": [
    "data_freq(file, 'irq', diff_order=2, selection=[('idle', True)], crop=(0.3, 0.1)).head()"
   ]
  },
  {
   "cell_type": "code",
   "execution_count": 23,
   "id": "3cfebb0b",
   "metadata": {},
   "outputs": [
    {
     "data": {
      "text/plain": [
       "[[-162.0, [(81, 1.0)]],\n",
       " [-89.0, [(0, 0.5), (178, 0.5)]],\n",
       " [-81.0, [(0, 0.5), (162, 0.5)]],\n",
       " [-46.0, [(23, 1.0)]],\n",
       " [-44.0, [(22, 1.0)]],\n",
       " [-42.0, [(21, 0.5), (42, 0.5)]],\n",
       " [-40.0, [(20, 0.8), (40, 0.2)]],\n",
       " [-38.0,\n",
       "  [(18, 0.09090909090909091),\n",
       "   (19, 0.7272727272727273),\n",
       "   (23, 0.09090909090909091),\n",
       "   (26, 0.09090909090909091)]],\n",
       " [-37.0, [(17, 0.5), (40, 0.5)]],\n",
       " [-36.0, [(18, 0.41509433962264153), (36, 0.5849056603773585)]],\n",
       " [-34.0, [(17, 0.4), (34, 0.6)]],\n",
       " [-32.0, [(16, 0.6666666666666666), (34, 0.3333333333333333)]],\n",
       " [-31.0, [(13, 1.0)]],\n",
       " [-30.0, [(15, 1.0)]],\n",
       " [-28.0, [(14, 1.0)]],\n",
       " [-26.0, [(13, 1.0)]],\n",
       " [-24.0, [(1, 0.2), (12, 0.2), (23, 0.6)]],\n",
       " [-23.0,\n",
       "  [(-23, 0.007874015748031496),\n",
       "   (-1, 0.007874015748031496),\n",
       "   (0, 0.47244094488188976),\n",
       "   (22, 0.007874015748031496),\n",
       "   (23, 0.36220472440944884),\n",
       "   (25, 0.007874015748031496),\n",
       "   (26, 0.007874015748031496),\n",
       "   (28, 0.007874015748031496),\n",
       "   (30, 0.007874015748031496),\n",
       "   (46, 0.11023622047244094)]],\n",
       " [-22.0,\n",
       "  [(-18, 0.014084507042253521),\n",
       "   (0, 0.43661971830985913),\n",
       "   (21, 0.014084507042253521),\n",
       "   (22, 0.29577464788732394),\n",
       "   (23, 0.014084507042253521),\n",
       "   (26, 0.028169014084507043),\n",
       "   (28, 0.014084507042253521),\n",
       "   (32, 0.014084507042253521),\n",
       "   (44, 0.16901408450704225)]],\n",
       " [-21.0,\n",
       "  [(-21, 0.0113314447592068),\n",
       "   (-1, 0.0028328611898017),\n",
       "   (0, 0.49291784702549574),\n",
       "   (1, 0.0028328611898017),\n",
       "   (19, 0.0028328611898017),\n",
       "   (21, 0.3937677053824363),\n",
       "   (22, 0.0056657223796034),\n",
       "   (23, 0.0028328611898017),\n",
       "   (24, 0.0028328611898017),\n",
       "   (25, 0.0028328611898017),\n",
       "   (40, 0.0056657223796034),\n",
       "   (42, 0.07365439093484419)]],\n",
       " [-20.0,\n",
       "  [(-20, 0.0125),\n",
       "   (0, 0.49375),\n",
       "   (17, 0.00625),\n",
       "   (19, 0.00625),\n",
       "   (20, 0.38125),\n",
       "   (21, 0.00625),\n",
       "   (22, 0.00625),\n",
       "   (28, 0.00625),\n",
       "   (40, 0.08125)]],\n",
       " [-19.0,\n",
       "  [(-18, 0.006097560975609756),\n",
       "   (-1, 0.006097560975609756),\n",
       "   (0, 0.47560975609756095),\n",
       "   (1, 0.006097560975609756),\n",
       "   (2, 0.006097560975609756),\n",
       "   (17, 0.006097560975609756),\n",
       "   (18, 0.024390243902439025),\n",
       "   (19, 0.3597560975609756),\n",
       "   (38, 0.10975609756097561)]],\n",
       " [-18.0,\n",
       "  [(-23, 0.001422475106685633),\n",
       "   (-18, 0.001422475106685633),\n",
       "   (-14, 0.001422475106685633),\n",
       "   (-1, 0.004267425320056899),\n",
       "   (0, 0.5035561877667141),\n",
       "   (1, 0.001422475106685633),\n",
       "   (18, 0.42532005689900426),\n",
       "   (19, 0.001422475106685633),\n",
       "   (21, 0.001422475106685633),\n",
       "   (36, 0.05832147937411095)]],\n",
       " [-17.0,\n",
       "  [(-17, 0.004081632653061225),\n",
       "   (-1, 0.004081632653061225),\n",
       "   (0, 0.4775510204081633),\n",
       "   (1, 0.004081632653061225),\n",
       "   (13, 0.012244897959183673),\n",
       "   (16, 0.0163265306122449),\n",
       "   (17, 0.363265306122449),\n",
       "   (19, 0.00816326530612245),\n",
       "   (34, 0.11020408163265306)]],\n",
       " [-16.0,\n",
       "  [(-16, 0.010869565217391304),\n",
       "   (-2, 0.010869565217391304),\n",
       "   (0, 0.4891304347826087),\n",
       "   (8, 0.010869565217391304),\n",
       "   (16, 0.34782608695652173),\n",
       "   (17, 0.010869565217391304),\n",
       "   (32, 0.11956521739130435)]],\n",
       " [-15.0,\n",
       "  [(0, 0.46511627906976744),\n",
       "   (1, 0.011627906976744186),\n",
       "   (7, 0.011627906976744186),\n",
       "   (14, 0.011627906976744186),\n",
       "   (15, 0.3488372093023256),\n",
       "   (30, 0.1511627906976744)]],\n",
       " [-14.0,\n",
       "  [(-1, 0.009900990099009901),\n",
       "   (0, 0.43564356435643564),\n",
       "   (8, 0.009900990099009901),\n",
       "   (9, 0.009900990099009901),\n",
       "   (10, 0.0297029702970297),\n",
       "   (11, 0.009900990099009901),\n",
       "   (14, 0.37623762376237624),\n",
       "   (28, 0.1188118811881188)]],\n",
       " [-13.0,\n",
       "  [(0, 0.49038461538461536),\n",
       "   (7, 0.009615384615384616),\n",
       "   (8, 0.009615384615384616),\n",
       "   (9, 0.009615384615384616),\n",
       "   (10, 0.009615384615384616),\n",
       "   (12, 0.009615384615384616),\n",
       "   (13, 0.28846153846153844),\n",
       "   (26, 0.17307692307692307)]],\n",
       " [-12.0,\n",
       "  [(0, 0.48314606741573035),\n",
       "   (6, 0.0449438202247191),\n",
       "   (12, 0.29213483146067415),\n",
       "   (24, 0.1797752808988764)]],\n",
       " [-10.0, [(0, 0.6), (20, 0.4)]],\n",
       " [-9.0, [(0, 1.0)]],\n",
       " [-8.0, [(0, 0.4), (4, 0.2), (8, 0.2), (16, 0.2)]],\n",
       " [-7.0,\n",
       "  [(0, 0.42857142857142855),\n",
       "   (7, 0.2857142857142857),\n",
       "   (14, 0.2857142857142857)]],\n",
       " [-6.0,\n",
       "  [(-6, 0.10526315789473684),\n",
       "   (0, 0.10526315789473684),\n",
       "   (3, 0.3684210526315789),\n",
       "   (6, 0.3684210526315789),\n",
       "   (12, 0.05263157894736842)]],\n",
       " [-5.0, [(-5, 0.1), (0, 0.2), (5, 0.4), (10, 0.1), (18, 0.2)]],\n",
       " [-4.0, [(-4, 0.0625), (0, 0.375), (2, 0.25), (4, 0.25), (8, 0.0625)]],\n",
       " [-3.0,\n",
       "  [(0, 0.6666666666666666),\n",
       "   (1, 0.16666666666666666),\n",
       "   (6, 0.16666666666666666)]],\n",
       " [-2.0,\n",
       "  [(-18, 0.0015527950310559005),\n",
       "   (-15, 0.0015527950310559005),\n",
       "   (-5, 0.0015527950310559005),\n",
       "   (-2, 0.003105590062111801),\n",
       "   (0, 0.013975155279503106),\n",
       "   (1, 0.5450310559006211),\n",
       "   (2, 0.4254658385093168),\n",
       "   (4, 0.006211180124223602),\n",
       "   (21, 0.0015527950310559005)]],\n",
       " [-1.0,\n",
       "  [(-23, 0.0005076142131979696),\n",
       "   (-21, 0.0005076142131979696),\n",
       "   (-18, 0.0005076142131979696),\n",
       "   (-17, 0.0005076142131979696),\n",
       "   (-1, 0.11116751269035532),\n",
       "   (0, 0.3852791878172589),\n",
       "   (1, 0.39390862944162436),\n",
       "   (2, 0.10710659898477157),\n",
       "   (21, 0.0005076142131979696)]],\n",
       " [0.0,\n",
       "  [(-89, 9.599232061435085e-06),\n",
       "   (-81, 9.599232061435085e-06),\n",
       "   (-23, 0.0002927765778737701),\n",
       "   (-22, 0.0001823854091672666),\n",
       "   (-21, 0.0007967362610991121),\n",
       "   (-20, 0.0003599712023038157),\n",
       "   (-19, 0.00037916966642668586),\n",
       "   (-18, 0.0016174706023518119),\n",
       "   (-17, 0.0005903527717782578),\n",
       "   (-16, 0.00020638348932085432),\n",
       "   (-15, 0.00020638348932085432),\n",
       "   (-14, 0.00025437964962802975),\n",
       "   (-13, 0.00025437964962802975),\n",
       "   (-12, 0.00020638348932085432),\n",
       "   (-10, 9.599232061435085e-06),\n",
       "   (-8, 9.599232061435085e-06),\n",
       "   (-7, 1.919846412287017e-05),\n",
       "   (-6, 1.4398848092152627e-05),\n",
       "   (-5, 1.4398848092152627e-05),\n",
       "   (-4, 9.599232061435085e-06),\n",
       "   (-3, 4.7996160307175425e-06),\n",
       "   (-2, 2.8797696184305255e-05),\n",
       "   (-1, 0.00365250779937605),\n",
       "   (0, 0.9852123830093592),\n",
       "   (1, 0.0013390928725701943),\n",
       "   (2, 2.3998080153587712e-05),\n",
       "   (3, 1.4398848092152627e-05),\n",
       "   (5, 4.7996160307175425e-06),\n",
       "   (6, 9.599232061435085e-06),\n",
       "   (7, 4.7996160307175425e-06),\n",
       "   (9, 4.7996160307175425e-06),\n",
       "   (12, 0.0001343892488600912),\n",
       "   (13, 0.00016318694504439645),\n",
       "   (14, 0.00017758579313654907),\n",
       "   (15, 0.00013918886489080873),\n",
       "   (16, 0.00017758579313654907),\n",
       "   (17, 0.00042236621070314376),\n",
       "   (18, 0.0013918886489080874),\n",
       "   (19, 0.0003263738900887929),\n",
       "   (20, 0.00031677465802735784),\n",
       "   (21, 0.0006719462443004559),\n",
       "   (22, 0.0001007919366450684),\n",
       "   (23, 0.0002255819534437245),\n",
       "   (81, 9.599232061435085e-06)]],\n",
       " [1.0,\n",
       "  [(-24, 0.0013227513227513227),\n",
       "   (-22, 0.0004409171075837742),\n",
       "   (-21, 0.0008818342151675485),\n",
       "   (-19, 0.0013227513227513227),\n",
       "   (-15, 0.0004409171075837742),\n",
       "   (-2, 0.14991181657848324),\n",
       "   (-1, 0.3430335097001764),\n",
       "   (0, 0.12610229276895943),\n",
       "   (1, 0.37433862433862436),\n",
       "   (17, 0.0008818342151675485),\n",
       "   (18, 0.0004409171075837742),\n",
       "   (19, 0.0004409171075837742),\n",
       "   (20, 0.0004409171075837742)]],\n",
       " [2.0,\n",
       "  [(-23, 0.001996007984031936),\n",
       "   (-20, 0.001996007984031936),\n",
       "   (-4, 0.001996007984031936),\n",
       "   (-2, 0.5728542914171657),\n",
       "   (-1, 0.40119760479041916),\n",
       "   (0, 0.00998003992015968),\n",
       "   (2, 0.003992015968063872),\n",
       "   (16, 0.001996007984031936),\n",
       "   (21, 0.001996007984031936),\n",
       "   (23, 0.001996007984031936)]],\n",
       " [3.0,\n",
       "  [(-6, 0.25),\n",
       "   (-3, 0.08333333333333333),\n",
       "   (0, 0.5),\n",
       "   (3, 0.08333333333333333),\n",
       "   (18, 0.08333333333333333)]],\n",
       " [4.0,\n",
       "  [(-4, 0.14285714285714285),\n",
       "   (-2, 0.35714285714285715),\n",
       "   (0, 0.35714285714285715),\n",
       "   (4, 0.07142857142857142),\n",
       "   (21, 0.07142857142857142)]],\n",
       " [5.0,\n",
       "  [(-5, 0.16666666666666666),\n",
       "   (0, 0.5),\n",
       "   (5, 0.16666666666666666),\n",
       "   (10, 0.16666666666666666)]],\n",
       " [6.0,\n",
       "  [(-12, 0.125),\n",
       "   (-6, 0.3125),\n",
       "   (-3, 0.0625),\n",
       "   (0, 0.375),\n",
       "   (12, 0.0625),\n",
       "   (21, 0.0625)]],\n",
       " [7.0,\n",
       "  [(-14, 0.16666666666666666),\n",
       "   (-3, 0.16666666666666666),\n",
       "   (0, 0.16666666666666666),\n",
       "   (12, 0.16666666666666666),\n",
       "   (16, 0.16666666666666666),\n",
       "   (20, 0.16666666666666666)]],\n",
       " [8.0,\n",
       "  [(-4, 0.42857142857142855),\n",
       "   (0, 0.14285714285714285),\n",
       "   (10, 0.14285714285714285),\n",
       "   (12, 0.14285714285714285),\n",
       "   (21, 0.14285714285714285)]],\n",
       " [9.0,\n",
       "  [(-9, 0.3333333333333333),\n",
       "   (8, 0.3333333333333333),\n",
       "   (10, 0.3333333333333333)]],\n",
       " [10.0, [(-32, 0.125), (-5, 0.375), (3, 0.125), (4, 0.375)]],\n",
       " [11.0, [(6, 1.0)]],\n",
       " [12.0,\n",
       "  [(-24, 0.016666666666666666),\n",
       "   (-12, 0.45),\n",
       "   (-6, 0.06666666666666667),\n",
       "   (0, 0.45),\n",
       "   (2, 0.016666666666666666)]],\n",
       " [13.0,\n",
       "  [(-26, 0.014084507042253521),\n",
       "   (-13, 0.4788732394366197),\n",
       "   (0, 0.4507042253521127),\n",
       "   (4, 0.014084507042253521),\n",
       "   (7, 0.014084507042253521),\n",
       "   (8, 0.014084507042253521),\n",
       "   (13, 0.014084507042253521)]],\n",
       " [14.0, [(-28, 0.0125), (-15, 0.0125), (-14, 0.4375), (-7, 0.0375), (0, 0.5)]],\n",
       " [15.0,\n",
       "  [(-38, 0.016666666666666666),\n",
       "   (-30, 0.016666666666666666),\n",
       "   (-15, 0.45),\n",
       "   (-2, 0.016666666666666666),\n",
       "   (0, 0.48333333333333334),\n",
       "   (1, 0.016666666666666666)]],\n",
       " [16.0,\n",
       "  [(-32, 0.02531645569620253),\n",
       "   (-18, 0.012658227848101266),\n",
       "   (-17, 0.012658227848101266),\n",
       "   (-16, 0.4430379746835443),\n",
       "   (-8, 0.02531645569620253),\n",
       "   (0, 0.4177215189873418),\n",
       "   (1, 0.05063291139240506),\n",
       "   (16, 0.012658227848101266)]],\n",
       " [17.0,\n",
       "  [(-34, 0.03553299492385787),\n",
       "   (-18, 0.015228426395939087),\n",
       "   (-17, 0.4517766497461929),\n",
       "   (-16, 0.005076142131979695),\n",
       "   (-1, 0.005076142131979695),\n",
       "   (0, 0.4263959390862944),\n",
       "   (2, 0.005076142131979695),\n",
       "   (6, 0.005076142131979695),\n",
       "   (17, 0.050761421319796954)]],\n",
       " [18.0,\n",
       "  [(-36, 0.047976011994003),\n",
       "   (-31, 0.0014992503748125937),\n",
       "   (-19, 0.0014992503748125937),\n",
       "   (-18, 0.46026986506746626),\n",
       "   (0, 0.41679160419790107),\n",
       "   (18, 0.0704647676161919),\n",
       "   (21, 0.0014992503748125937)]],\n",
       " [19.0,\n",
       "  [(-38, 0.04929577464788732),\n",
       "   (-19, 0.44366197183098594),\n",
       "   (-4, 0.007042253521126761),\n",
       "   (-2, 0.007042253521126761),\n",
       "   (0, 0.47183098591549294),\n",
       "   (1, 0.007042253521126761),\n",
       "   (2, 0.007042253521126761),\n",
       "   (19, 0.007042253521126761)]],\n",
       " [20.0,\n",
       "  [(-40, 0.029197080291970802),\n",
       "   (-38, 0.0072992700729927005),\n",
       "   (-21, 0.0072992700729927005),\n",
       "   (-20, 0.4744525547445255),\n",
       "   (-10, 0.014598540145985401),\n",
       "   (0, 0.45255474452554745),\n",
       "   (20, 0.014598540145985401)]],\n",
       " [21.0,\n",
       "  [(-42, 0.028938906752411574),\n",
       "   (-38, 0.003215434083601286),\n",
       "   (-21, 0.48231511254019294),\n",
       "   (-20, 0.006430868167202572),\n",
       "   (-6, 0.003215434083601286),\n",
       "   (-2, 0.003215434083601286),\n",
       "   (0, 0.42443729903536975),\n",
       "   (21, 0.04823151125401929)]],\n",
       " [22.0,\n",
       "  [(-44, 0.02127659574468085),\n",
       "   (-22, 0.425531914893617),\n",
       "   (-4, 0.02127659574468085),\n",
       "   (-1, 0.02127659574468085),\n",
       "   (0, 0.5106382978723404)]],\n",
       " [23.0,\n",
       "  [(-46, 0.009523809523809525),\n",
       "   (-24, 0.009523809523809525),\n",
       "   (-23, 0.4666666666666667),\n",
       "   (-8, 0.009523809523809525),\n",
       "   (-4, 0.009523809523809525),\n",
       "   (-1, 0.009523809523809525),\n",
       "   (0, 0.44761904761904764),\n",
       "   (2, 0.009523809523809525),\n",
       "   (23, 0.02857142857142857)]],\n",
       " [24.0, [(-12, 0.9411764705882353), (-3, 0.058823529411764705)]],\n",
       " [25.0, [(-4, 1.0)]],\n",
       " [26.0,\n",
       "  [(-26, 0.045454545454545456),\n",
       "   (-13, 0.7727272727272727),\n",
       "   (-6, 0.045454545454545456),\n",
       "   (-4, 0.09090909090909091),\n",
       "   (-3, 0.045454545454545456)]],\n",
       " [28.0,\n",
       "  [(-28, 0.06666666666666667),\n",
       "   (-21, 0.06666666666666667),\n",
       "   (-16, 0.06666666666666667),\n",
       "   (-14, 0.6666666666666666),\n",
       "   (-12, 0.06666666666666667),\n",
       "   (-5, 0.06666666666666667)]],\n",
       " [30.0, [(-15, 0.9285714285714286), (-14, 0.07142857142857142)]],\n",
       " [32.0, [(-16, 0.9166666666666666), (-10, 0.08333333333333333)]],\n",
       " [34.0,\n",
       "  [(-37, 0.029411764705882353),\n",
       "   (-34, 0.08823529411764706),\n",
       "   (-17, 0.8823529411764706)]],\n",
       " [36.0,\n",
       "  [(-36, 0.2916666666666667),\n",
       "   (-19, 0.013888888888888888),\n",
       "   (-18, 0.6944444444444444)]],\n",
       " [38.0, [(-38, 0.05555555555555555), (-19, 0.9444444444444444)]],\n",
       " [40.0,\n",
       "  [(-40, 0.058823529411764705),\n",
       "   (-37, 0.058823529411764705),\n",
       "   (-20, 0.8823529411764706)]],\n",
       " [42.0, [(-42, 0.15151515151515152), (-21, 0.8484848484848485)]],\n",
       " [44.0, [(-22, 1.0)]],\n",
       " [46.0, [(-46, 0.07142857142857142), (-23, 0.9285714285714286)]],\n",
       " [81.0, [(-81, 0.5), (0, 0.5)]],\n",
       " [162.0, [(-162, 1.0)]],\n",
       " [178.0, [(-89, 1.0)]]]"
      ]
     },
     "execution_count": 23,
     "metadata": {},
     "output_type": "execute_result"
    }
   ],
   "source": [
    "conditional_data_freq(file, 'irq', diff_order=2, selection=[('idle', True)], crop=(0.3, 0.1), \n",
    "                      output=\"irq-conditional_freqs\")"
   ]
  },
  {
   "cell_type": "code",
   "execution_count": null,
   "id": "241e9d99",
   "metadata": {},
   "outputs": [],
   "source": []
  }
 ],
 "metadata": {
  "kernelspec": {
   "display_name": "Python 3 (ipykernel)",
   "language": "python",
   "name": "python3"
  },
  "language_info": {
   "codemirror_mode": {
    "name": "ipython",
    "version": 3
   },
   "file_extension": ".py",
   "mimetype": "text/x-python",
   "name": "python",
   "nbconvert_exporter": "python",
   "pygments_lexer": "ipython3",
   "version": "3.9.7"
  },
  "vscode": {
   "interpreter": {
    "hash": "e411bf700db9e81f1e55211386d5ad9b23ad5567092fb513b0d20ece37f6f7a1"
   }
  }
 },
 "nbformat": 4,
 "nbformat_minor": 5
}
