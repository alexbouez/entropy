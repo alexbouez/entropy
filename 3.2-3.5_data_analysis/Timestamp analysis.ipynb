{
 "cells": [
  {
   "cell_type": "code",
   "execution_count": 1,
   "id": "ff4889f9",
   "metadata": {},
   "outputs": [],
   "source": [
    "%matplotlib inline"
   ]
  },
  {
   "cell_type": "code",
   "execution_count": 2,
   "id": "21511b2b",
   "metadata": {},
   "outputs": [],
   "source": [
    "import os\n",
    "path = os.path.abspath(os.getcwd())"
   ]
  },
  {
   "cell_type": "code",
   "execution_count": 3,
   "id": "10c1ef63",
   "metadata": {},
   "outputs": [],
   "source": [
    "import math\n",
    "import numpy as np\n",
    "import pandas as pd\n",
    "import pylab as py\n",
    "\n",
    "import matplotlib.mlab as mlab\n",
    "import matplotlib.pyplot as plt\n",
    "\n",
    "from fitter import Fitter\n",
    "\n",
    "from scipy import fft\n",
    "from scipy.optimize import curve_fit, minimize\n",
    "from scipy.stats import kstest, norm, laplace, entropy, cauchy, entropy\n",
    "from sklearn.feature_selection import mutual_info_regression\n",
    "\n",
    "import statsmodels.api as sm\n",
    "from statsmodels.tsa.arima.model import ARIMA\n",
    "from statsmodels.tsa.stattools import adfuller"
   ]
  },
  {
   "cell_type": "code",
   "execution_count": 4,
   "id": "d9ad0071",
   "metadata": {},
   "outputs": [],
   "source": [
    "plt.rcParams['figure.figsize'] = (10.0, 8.0)\n",
    "plt.style.use('ggplot')"
   ]
  },
  {
   "cell_type": "code",
   "execution_count": 5,
   "id": "f8b447f1",
   "metadata": {},
   "outputs": [],
   "source": [
    "pd.set_option(\"display.max_colwidth\",100)"
   ]
  },
  {
   "cell_type": "code",
   "execution_count": 6,
   "id": "a14e6de1",
   "metadata": {},
   "outputs": [],
   "source": [
    "# OPTIONS\n",
    "\n",
    "all_data_files = [\n",
    "     'moduntu_HP_desktop_trace_idle_22.12.14_6h',\n",
    "     'moduntu_HP_desktop_trace_idle_22.12.15_20h',\n",
    "     'moduntu_HP_desktop_trace_no-wifi_22.12.16_19h',\n",
    "     'moduntu_HP_server_trace_idle_22.12.21_16h',\n",
    "     'moduntu_HP_server_trace_no-wifi_22.12.20_16h',\n",
    "     'moduntu_RPi_server32_trace_no-peri_23.01.19_17h',\n",
    "     'moduntu_RPi_server32_trace_no-wifi_23.01.18_14h',\n",
    "     'moduntu_VM_desktop_trace_idle_22.11.15_1h',\n",
    "     'moduntu_VM_desktop_trace_idle_22.12.13_12h',\n",
    "     'moduntu_VM_desktop_trace_no-wifi_23.01.18_14h',\n",
    "     'moduntu_VM_server_trace_idle_22.12.13_9h',\n",
    "     'moduntu_VM_server_trace_no-wifi_23.01.18_14h']\n",
    "\n",
    "data_files = [  \n",
    "     'moduntu_HP_desktop_trace_no-wifi_22.12.16_19h',\n",
    "     'moduntu_HP_server_trace_no-wifi_22.12.20_16h',\n",
    "     'moduntu_RPi_server32_trace_no-peri_23.01.19_17h',\n",
    "     'moduntu_VM_desktop_trace_no-wifi_23.01.18_14h',\n",
    "     'moduntu_VM_server_trace_no-wifi_23.01.18_14h']"
   ]
  },
  {
   "cell_type": "markdown",
   "id": "f8903994",
   "metadata": {},
   "source": [
    "# I - Data formatting\n",
    "## 1) Text to CSV"
   ]
  },
  {
   "cell_type": "markdown",
   "id": "7e6a9213",
   "metadata": {},
   "source": [
    "def txtdmp_to_csv(filename):\n",
    "    with open(\"data/\" + filename + \".txt\", \"r\") as textfile:\n",
    "        textdump = textfile.read().splitlines()\n",
    "        \n",
    "    csvfile = open(\"csv/\" + filename + \".csv\", \"w\")\n",
    "    csvfile.write(','.join([\"count\", \"input1\", \"input2\", \"source_id\", \"idle\"]))\n",
    "    csvfile.write('\\n')\n",
    "\n",
    "    count = 0\n",
    "    for line in textdump: \n",
    "        splitline = line.replace('@','').replace(',','').split(' ')\n",
    "        values, start, idle = [], False, False\n",
    "\n",
    "        for i in splitline: \n",
    "            # extract fast_mix values\n",
    "            if i == \"fast_mix:\":\n",
    "                start = True\n",
    "                count += 1\n",
    "                values.append(str(count))\n",
    "            elif start:\n",
    "                values.append(i)\n",
    "\n",
    "            # Check for idle\n",
    "            if i == \"<idle>-0\":\n",
    "                idle = True\n",
    "\n",
    "        if values != []:\n",
    "            values.append(str(idle))\n",
    "            csvfile.write(','.join(values))\n",
    "            csvfile.write('\\n')\n",
    "\n",
    "    csvfile.close()"
   ]
  },
  {
   "cell_type": "raw",
   "id": "8a043d64",
   "metadata": {},
   "source": [
    "for file in all_data_files:\n",
    "    txtdmp_to_csv(file)"
   ]
  },
  {
   "cell_type": "markdown",
   "id": "b8825efd",
   "metadata": {},
   "source": [
    "## 2) Data import"
   ]
  },
  {
   "cell_type": "code",
   "execution_count": 7,
   "id": "5cd795c1",
   "metadata": {},
   "outputs": [
    {
     "data": {
      "text/html": [
       "<div>\n",
       "<style scoped>\n",
       "    .dataframe tbody tr th:only-of-type {\n",
       "        vertical-align: middle;\n",
       "    }\n",
       "\n",
       "    .dataframe tbody tr th {\n",
       "        vertical-align: top;\n",
       "    }\n",
       "\n",
       "    .dataframe thead th {\n",
       "        text-align: right;\n",
       "    }\n",
       "</style>\n",
       "<table border=\"1\" class=\"dataframe\">\n",
       "  <thead>\n",
       "    <tr style=\"text-align: right;\">\n",
       "      <th></th>\n",
       "      <th>count</th>\n",
       "      <th>input1</th>\n",
       "      <th>input2</th>\n",
       "      <th>source_id</th>\n",
       "      <th>idle</th>\n",
       "    </tr>\n",
       "  </thead>\n",
       "  <tbody>\n",
       "    <tr>\n",
       "      <th>0</th>\n",
       "      <td>1</td>\n",
       "      <td>3710067642</td>\n",
       "      <td>4112549988</td>\n",
       "      <td>0</td>\n",
       "      <td>True</td>\n",
       "    </tr>\n",
       "    <tr>\n",
       "      <th>1</th>\n",
       "      <td>2</td>\n",
       "      <td>3710069328</td>\n",
       "      <td>4112549988</td>\n",
       "      <td>0</td>\n",
       "      <td>True</td>\n",
       "    </tr>\n",
       "    <tr>\n",
       "      <th>2</th>\n",
       "      <td>3</td>\n",
       "      <td>3718701703</td>\n",
       "      <td>3995109476</td>\n",
       "      <td>0</td>\n",
       "      <td>True</td>\n",
       "    </tr>\n",
       "    <tr>\n",
       "      <th>3</th>\n",
       "      <td>4</td>\n",
       "      <td>3748940765</td>\n",
       "      <td>3709896804</td>\n",
       "      <td>0</td>\n",
       "      <td>True</td>\n",
       "    </tr>\n",
       "    <tr>\n",
       "      <th>4</th>\n",
       "      <td>5</td>\n",
       "      <td>3766219786</td>\n",
       "      <td>4112549988</td>\n",
       "      <td>0</td>\n",
       "      <td>True</td>\n",
       "    </tr>\n",
       "  </tbody>\n",
       "</table>\n",
       "</div>"
      ],
      "text/plain": [
       "   count      input1      input2  source_id  idle\n",
       "0      1  3710067642  4112549988          0  True\n",
       "1      2  3710069328  4112549988          0  True\n",
       "2      3  3718701703  3995109476          0  True\n",
       "3      4  3748940765  3709896804          0  True\n",
       "4      5  3766219786  4112549988          0  True"
      ]
     },
     "execution_count": 7,
     "metadata": {},
     "output_type": "execute_result"
    }
   ],
   "source": [
    "filename = data_files[2]\n",
    "data_path = path + \"\\\\csv\\\\\" + filename + \".csv\"\n",
    "data = pd.read_csv(data_path)\n",
    "data.head(5)"
   ]
  },
  {
   "cell_type": "code",
   "execution_count": 8,
   "id": "1967e6be",
   "metadata": {},
   "outputs": [
    {
     "data": {
      "text/html": [
       "<div>\n",
       "<style scoped>\n",
       "    .dataframe tbody tr th:only-of-type {\n",
       "        vertical-align: middle;\n",
       "    }\n",
       "\n",
       "    .dataframe tbody tr th {\n",
       "        vertical-align: top;\n",
       "    }\n",
       "\n",
       "    .dataframe thead th {\n",
       "        text-align: right;\n",
       "    }\n",
       "</style>\n",
       "<table border=\"1\" class=\"dataframe\">\n",
       "  <thead>\n",
       "    <tr style=\"text-align: right;\">\n",
       "      <th></th>\n",
       "      <th>count</th>\n",
       "      <th>input1</th>\n",
       "      <th>input2</th>\n",
       "      <th>source_id</th>\n",
       "      <th>idle</th>\n",
       "    </tr>\n",
       "  </thead>\n",
       "  <tbody>\n",
       "    <tr>\n",
       "      <th>0</th>\n",
       "      <td>1</td>\n",
       "      <td>3710067642</td>\n",
       "      <td>4112549988</td>\n",
       "      <td>0</td>\n",
       "      <td>True</td>\n",
       "    </tr>\n",
       "    <tr>\n",
       "      <th>1</th>\n",
       "      <td>2</td>\n",
       "      <td>3710069328</td>\n",
       "      <td>4112549988</td>\n",
       "      <td>0</td>\n",
       "      <td>True</td>\n",
       "    </tr>\n",
       "    <tr>\n",
       "      <th>2</th>\n",
       "      <td>3</td>\n",
       "      <td>3718701703</td>\n",
       "      <td>3995109476</td>\n",
       "      <td>0</td>\n",
       "      <td>True</td>\n",
       "    </tr>\n",
       "    <tr>\n",
       "      <th>3</th>\n",
       "      <td>4</td>\n",
       "      <td>3748940765</td>\n",
       "      <td>3709896804</td>\n",
       "      <td>0</td>\n",
       "      <td>True</td>\n",
       "    </tr>\n",
       "    <tr>\n",
       "      <th>4</th>\n",
       "      <td>5</td>\n",
       "      <td>3766219786</td>\n",
       "      <td>4112549988</td>\n",
       "      <td>0</td>\n",
       "      <td>True</td>\n",
       "    </tr>\n",
       "    <tr>\n",
       "      <th>...</th>\n",
       "      <td>...</td>\n",
       "      <td>...</td>\n",
       "      <td>...</td>\n",
       "      <td>...</td>\n",
       "      <td>...</td>\n",
       "    </tr>\n",
       "    <tr>\n",
       "      <th>417098</th>\n",
       "      <td>417099</td>\n",
       "      <td>599194526</td>\n",
       "      <td>4112549988</td>\n",
       "      <td>0</td>\n",
       "      <td>True</td>\n",
       "    </tr>\n",
       "    <tr>\n",
       "      <th>417099</th>\n",
       "      <td>417100</td>\n",
       "      <td>599196285</td>\n",
       "      <td>4112549988</td>\n",
       "      <td>0</td>\n",
       "      <td>True</td>\n",
       "    </tr>\n",
       "    <tr>\n",
       "      <th>417100</th>\n",
       "      <td>417101</td>\n",
       "      <td>599197991</td>\n",
       "      <td>4112549988</td>\n",
       "      <td>0</td>\n",
       "      <td>True</td>\n",
       "    </tr>\n",
       "    <tr>\n",
       "      <th>417101</th>\n",
       "      <td>417102</td>\n",
       "      <td>599199694</td>\n",
       "      <td>4112549988</td>\n",
       "      <td>0</td>\n",
       "      <td>True</td>\n",
       "    </tr>\n",
       "    <tr>\n",
       "      <th>417102</th>\n",
       "      <td>417103</td>\n",
       "      <td>604376657</td>\n",
       "      <td>3995109476</td>\n",
       "      <td>0</td>\n",
       "      <td>True</td>\n",
       "    </tr>\n",
       "  </tbody>\n",
       "</table>\n",
       "<p>409318 rows × 5 columns</p>\n",
       "</div>"
      ],
      "text/plain": [
       "         count      input1      input2  source_id  idle\n",
       "0            1  3710067642  4112549988          0  True\n",
       "1            2  3710069328  4112549988          0  True\n",
       "2            3  3718701703  3995109476          0  True\n",
       "3            4  3748940765  3709896804          0  True\n",
       "4            5  3766219786  4112549988          0  True\n",
       "...        ...         ...         ...        ...   ...\n",
       "417098  417099   599194526  4112549988          0  True\n",
       "417099  417100   599196285  4112549988          0  True\n",
       "417100  417101   599197991  4112549988          0  True\n",
       "417101  417102   599199694  4112549988          0  True\n",
       "417102  417103   604376657  3995109476          0  True\n",
       "\n",
       "[409318 rows x 5 columns]"
      ]
     },
     "execution_count": 8,
     "metadata": {},
     "output_type": "execute_result"
    }
   ],
   "source": [
    "data[data[\"idle\"]==True]"
   ]
  },
  {
   "cell_type": "code",
   "execution_count": 9,
   "id": "0ecbe310",
   "metadata": {},
   "outputs": [
    {
     "data": {
      "text/plain": [
       "count        int64\n",
       "input1       int64\n",
       "input2       int64\n",
       "source_id    int64\n",
       "idle          bool\n",
       "dtype: object"
      ]
     },
     "execution_count": 9,
     "metadata": {},
     "output_type": "execute_result"
    }
   ],
   "source": [
    "data.dtypes"
   ]
  },
  {
   "cell_type": "code",
   "execution_count": 10,
   "id": "5f8a705a",
   "metadata": {},
   "outputs": [],
   "source": [
    "def get_stats(data, col):\n",
    "    print(\"Stats for \" + col + \" :\")\n",
    "    stats = data[col].value_counts()\n",
    "    stats_perc = data[col].value_counts(normalize = True)\n",
    "    \n",
    "    total = 0\n",
    "    for i in range(len(stats)):\n",
    "        total = stats[i]\n",
    "    \n",
    "    for i in range(len(stats)):\n",
    "        print(str(stats.index[i]) + \"\\t\\t\", str(stats[stats.index[i]]) + \n",
    "              '\\t\\t', str(round(stats_perc[stats.index[i]] * 100)) + '%')\n",
    "        \n",
    "    print()"
   ]
  },
  {
   "cell_type": "code",
   "execution_count": 11,
   "id": "2cceff77",
   "metadata": {},
   "outputs": [
    {
     "name": "stdout",
     "output_type": "stream",
     "text": [
      "moduntu_HP_desktop_trace_no-wifi_22.12.16_19h\n",
      "moduntu_HP_server_trace_no-wifi_22.12.20_16h\n",
      "moduntu_RPi_server32_trace_no-peri_23.01.19_17h\n",
      "moduntu_VM_desktop_trace_no-wifi_23.01.18_14h\n",
      "moduntu_VM_server_trace_no-wifi_23.01.18_14h\n"
     ]
    }
   ],
   "source": [
    "for filename in data_files:\n",
    "    print(filename)"
   ]
  },
  {
   "cell_type": "code",
   "execution_count": 12,
   "id": "2820b806",
   "metadata": {},
   "outputs": [
    {
     "name": "stdout",
     "output_type": "stream",
     "text": [
      "moduntu_HP_desktop_trace_no-wifi_22.12.16_19h\n",
      "Stats for source_id :\n",
      "0\t\t 4241501\t\t 100%\n",
      "1\t\t 238\t\t 0%\n",
      "\n",
      "Stats for idle :\n",
      "True\t\t 4218471\t\t 99%\n",
      "False\t\t 23268\t\t 1%\n",
      "\n",
      "moduntu_HP_server_trace_no-wifi_22.12.20_16h\n",
      "Stats for source_id :\n",
      "0\t\t 3017549\t\t 100%\n",
      "1\t\t 280\t\t 0%\n",
      "\n",
      "Stats for idle :\n",
      "True\t\t 3014779\t\t 100%\n",
      "False\t\t 3050\t\t 0%\n",
      "\n",
      "moduntu_RPi_server32_trace_no-peri_23.01.19_17h\n",
      "Stats for source_id :\n",
      "0\t\t 417103\t\t 100%\n",
      "\n",
      "Stats for idle :\n",
      "True\t\t 409318\t\t 98%\n",
      "False\t\t 7785\t\t 2%\n",
      "\n",
      "moduntu_VM_desktop_trace_no-wifi_23.01.18_14h\n",
      "Stats for source_id :\n",
      "0\t\t 67140\t\t 99%\n",
      "1\t\t 844\t\t 1%\n",
      "\n",
      "Stats for idle :\n",
      "True\t\t 40042\t\t 59%\n",
      "False\t\t 27942\t\t 41%\n",
      "\n",
      "moduntu_VM_server_trace_no-wifi_23.01.18_14h\n",
      "Stats for source_id :\n",
      "0\t\t 263785\t\t 100%\n",
      "1\t\t 288\t\t 0%\n",
      "\n",
      "Stats for idle :\n",
      "True\t\t 246573\t\t 93%\n",
      "False\t\t 17500\t\t 7%\n",
      "\n",
      "8008728 8007078 0.999793974773522 7929183 0.9900677111271603\n"
     ]
    }
   ],
   "source": [
    "source_id_0, idle_true, count = 0,0,0\n",
    "for filename in data_files:\n",
    "    data_path = path + \"\\\\csv\\\\\" + filename + \".csv\"\n",
    "    data = pd.read_csv(data_path)\n",
    "    \n",
    "    count += data.shape[0] \n",
    "    stats = data[\"source_id\"].value_counts()\n",
    "    source_id_0 += stats[0]\n",
    "    stats = data[\"idle\"].value_counts()\n",
    "    idle_true += stats[True]\n",
    "    \n",
    "    print(filename)\n",
    "    for col in [\"source_id\", \"idle\"]:\n",
    "        get_stats(data, col)\n",
    "\n",
    "print(count, source_id_0, source_id_0/count, idle_true, idle_true/count)"
   ]
  },
  {
   "cell_type": "markdown",
   "id": "d7c30eaf",
   "metadata": {},
   "source": [
    "## 3) Selecting source\n",
    "\n",
    "Possible values for source_id:\n",
    " * 0 for interrupts\n",
    " * 1 for timing"
   ]
  },
  {
   "cell_type": "code",
   "execution_count": 13,
   "id": "002a0472",
   "metadata": {},
   "outputs": [
    {
     "name": "stdout",
     "output_type": "stream",
     "text": [
      "Fom (264073, 5) to (246287, 5)\n"
     ]
    }
   ],
   "source": [
    "data_select = data[data.source_id == 0] \n",
    "data_select = data_select[data_select.idle == True]\n",
    "\n",
    "print(\"Fom\", data.shape, \"to\", data_select.shape)"
   ]
  },
  {
   "cell_type": "code",
   "execution_count": 14,
   "id": "c37d868a",
   "metadata": {},
   "outputs": [
    {
     "data": {
      "text/plain": [
       "(264073, 5)"
      ]
     },
     "execution_count": 14,
     "metadata": {},
     "output_type": "execute_result"
    }
   ],
   "source": [
    "def does_increment(df, columns):\n",
    "    for col in columns:\n",
    "        y = df[col].to_numpy()\n",
    "        y =  y - np.roll(y.copy(), 1)\n",
    "        y[0] = 0\n",
    "        y = y < 0\n",
    "        df.loc[:, col] = y\n",
    "    \n",
    "data.shape"
   ]
  },
  {
   "cell_type": "code",
   "execution_count": 15,
   "id": "62c7f9e0",
   "metadata": {},
   "outputs": [
    {
     "data": {
      "text/plain": [
       "0"
      ]
     },
     "execution_count": 15,
     "metadata": {},
     "output_type": "execute_result"
    }
   ],
   "source": [
    "data_test = data[data.source_id == 0]\n",
    "data_test = data_test[data_test.idle == True] \n",
    "does_increment(data_test, ['input1'])\n",
    "\n",
    "sum(data_test.input1)"
   ]
  },
  {
   "cell_type": "markdown",
   "id": "d3cc6856",
   "metadata": {},
   "source": [
    "# II - Direct analysis\n",
    "## 1) Density visualization"
   ]
  },
  {
   "cell_type": "code",
   "execution_count": 16,
   "id": "3334d33a",
   "metadata": {
    "scrolled": true
   },
   "outputs": [
    {
     "data": {
      "image/png": "[encoded data removed]",
      "text/plain": [
       "<Figure size 720x576 with 1 Axes>"
      ]
     },
     "metadata": {},
     "output_type": "display_data"
    },
    {
     "data": {
      "image/png": "[encoded data removed]",
      "text/plain": [
       "<Figure size 720x576 with 1 Axes>"
      ]
     },
     "metadata": {},
     "output_type": "display_data"
    },
    {
     "data": {
      "image/png": "[encoded data removed]",
      "text/plain": [
       "<Figure size 720x576 with 1 Axes>"
      ]
     },
     "metadata": {},
     "output_type": "display_data"
    },
    {
     "data": {
      "image/png": "[encoded data removed]",
      "text/plain": [
       "<Figure size 720x576 with 1 Axes>"
      ]
     },
     "metadata": {},
     "output_type": "display_data"
    },
    {
     "data": {
      "image/png": "[encoded data removed]",
      "text/plain": [
       "<Figure size 720x576 with 1 Axes>"
      ]
     },
     "metadata": {},
     "output_type": "display_data"
    }
   ],
   "source": [
    "for file in data_files:\n",
    "    data_path = path + \"\\\\csv\\\\\" + filename + \".csv\"\n",
    "    data = pd.read_csv(data_path)\n",
    "    \n",
    "    fig, ax = plt.subplots()\n",
    "    ax.plot(data.input1)"
   ]
  },
  {
   "cell_type": "code",
   "execution_count": 17,
   "id": "45f046a1",
   "metadata": {},
   "outputs": [],
   "source": [
    "def tup_string(selection):\n",
    "    tup_str = \"\"\n",
    "    for tup in selection:\n",
    "        if not tup_str == \"\":\n",
    "            tup_str += \", \"\n",
    "        tup_str += str(tup[0]) + \" = \" + str(tup[1])\n",
    "    return tup_str"
   ]
  },
  {
   "cell_type": "code",
   "execution_count": 18,
   "id": "225a958d",
   "metadata": {},
   "outputs": [],
   "source": [
    "def data_hist(filename, column, selection = [], crop = (None, None), slicer = (None, None), log = False, bins = None):\n",
    "    # Import\n",
    "    data_path = path + \"\\\\csv\\\\\" + filename + \".csv\"\n",
    "    data = pd.read_csv(data_path)\n",
    "    \n",
    "    # Selection: select data according to other columns (origin, process...)\n",
    "    for tup in selection: \n",
    "        data = data[data[tup[0]] == tup[1]] \n",
    "\n",
    "    # Cropping: remove crop[0] % of beginning or crop[0] of end of the data (if not idle)\n",
    "    n = data.shape[0]\n",
    "    if crop[0] != None and int(crop[0]*n) > 0: \n",
    "        data = data.tail(-int( n*crop[0] ))\n",
    "    if crop[1] != None and int(crop[1]*n) > 0: \n",
    "        data = data.head(-int( n*crop[1] ))\n",
    "    \n",
    "    fig, ax = plt.subplots()\n",
    "    bins = max(int(data.shape[0]/128) if not bins else bins, 1)\n",
    "    plt.hist(data[column], density=True,  log = log, bins = bins)\n",
    "    print(\"Histogram of\", filename, \":\")\n",
    "    print(\"\\t selection:\", tup_string(selection))\n",
    "    print(\"\\t crop values:\", str(0 if not crop[0] else int(crop[0]*n))+\",\", str(0 if not crop[1] else int(crop[1]*n)))\n",
    "    print(\"\\t # of elements:\", str(data.shape[0]))\n",
    "    print(\"\\t # of bins:\", str(bins))\n",
    "    print(\"\\t log =\", str(log))\n",
    "    \n",
    "    ax.set_xlabel(u'Timestamp value')\n",
    "    ax.set_ylabel('Frequency')\n",
    "\n",
    "    plt.show()"
   ]
  },
  {
   "cell_type": "code",
   "execution_count": 19,
   "id": "d88159c3",
   "metadata": {
    "scrolled": true
   },
   "outputs": [
    {
     "name": "stdout",
     "output_type": "stream",
     "text": [
      "Histogram of moduntu_HP_desktop_trace_no-wifi_22.12.16_19h :\n",
      "\t selection: \n",
      "\t crop values: 0, 0\n",
      "\t # of elements: 4241739\n",
      "\t # of bins: 33138\n",
      "\t log = False\n"
     ]
    },
    {
     "data": {
      "image/png": "[encoded data removed]",
      "text/plain": [
       "<Figure size 720x576 with 1 Axes>"
      ]
     },
     "metadata": {},
     "output_type": "display_data"
    },
    {
     "name": "stdout",
     "output_type": "stream",
     "text": [
      "Histogram of moduntu_HP_server_trace_no-wifi_22.12.20_16h :\n",
      "\t selection: \n",
      "\t crop values: 0, 0\n",
      "\t # of elements: 3017829\n",
      "\t # of bins: 23576\n",
      "\t log = False\n"
     ]
    },
    {
     "ename": "KeyboardInterrupt",
     "evalue": "",
     "output_type": "error",
     "traceback": [
      "\u001b[1;31m---------------------------------------------------------------------------\u001b[0m",
      "\u001b[1;31mKeyboardInterrupt\u001b[0m                         Traceback (most recent call last)",
      "\u001b[1;32m~\\AppData\\Local\\Temp/ipykernel_6300/492349865.py\u001b[0m in \u001b[0;36m<module>\u001b[1;34m\u001b[0m\n\u001b[0;32m      1\u001b[0m \u001b[1;32mfor\u001b[0m \u001b[0mfile\u001b[0m \u001b[1;32min\u001b[0m \u001b[0mdata_files\u001b[0m\u001b[1;33m:\u001b[0m\u001b[1;33m\u001b[0m\u001b[1;33m\u001b[0m\u001b[0m\n\u001b[1;32m----> 2\u001b[1;33m     data_hist(file, 'input1', selection = [], crop = (0, 0), slicer = (None, None), \n\u001b[0m\u001b[0;32m      3\u001b[0m               log = False)\n",
      "\u001b[1;32m~\\AppData\\Local\\Temp/ipykernel_6300/2353365383.py\u001b[0m in \u001b[0;36mdata_hist\u001b[1;34m(filename, column, selection, crop, slicer, log, bins)\u001b[0m\n\u001b[0;32m     28\u001b[0m     \u001b[0max\u001b[0m\u001b[1;33m.\u001b[0m\u001b[0mset_ylabel\u001b[0m\u001b[1;33m(\u001b[0m\u001b[1;34m'Frequency'\u001b[0m\u001b[1;33m)\u001b[0m\u001b[1;33m\u001b[0m\u001b[1;33m\u001b[0m\u001b[0m\n\u001b[0;32m     29\u001b[0m \u001b[1;33m\u001b[0m\u001b[0m\n\u001b[1;32m---> 30\u001b[1;33m     \u001b[0mplt\u001b[0m\u001b[1;33m.\u001b[0m\u001b[0mshow\u001b[0m\u001b[1;33m(\u001b[0m\u001b[1;33m)\u001b[0m\u001b[1;33m\u001b[0m\u001b[1;33m\u001b[0m\u001b[0m\n\u001b[0m",
      "\u001b[1;32m~\\anaconda3\\lib\\site-packages\\matplotlib\\pyplot.py\u001b[0m in \u001b[0;36mshow\u001b[1;34m(*args, **kwargs)\u001b[0m\n\u001b[0;32m    376\u001b[0m     \"\"\"\n\u001b[0;32m    377\u001b[0m     \u001b[0m_warn_if_gui_out_of_main_thread\u001b[0m\u001b[1;33m(\u001b[0m\u001b[1;33m)\u001b[0m\u001b[1;33m\u001b[0m\u001b[1;33m\u001b[0m\u001b[0m\n\u001b[1;32m--> 378\u001b[1;33m     \u001b[1;32mreturn\u001b[0m \u001b[0m_backend_mod\u001b[0m\u001b[1;33m.\u001b[0m\u001b[0mshow\u001b[0m\u001b[1;33m(\u001b[0m\u001b[1;33m*\u001b[0m\u001b[0margs\u001b[0m\u001b[1;33m,\u001b[0m \u001b[1;33m**\u001b[0m\u001b[0mkwargs\u001b[0m\u001b[1;33m)\u001b[0m\u001b[1;33m\u001b[0m\u001b[1;33m\u001b[0m\u001b[0m\n\u001b[0m\u001b[0;32m    379\u001b[0m \u001b[1;33m\u001b[0m\u001b[0m\n\u001b[0;32m    380\u001b[0m \u001b[1;33m\u001b[0m\u001b[0m\n",
      "\u001b[1;32m~\\anaconda3\\lib\\site-packages\\matplotlib_inline\\backend_inline.py\u001b[0m in \u001b[0;36mshow\u001b[1;34m(close, block)\u001b[0m\n\u001b[0;32m     39\u001b[0m     \u001b[1;32mtry\u001b[0m\u001b[1;33m:\u001b[0m\u001b[1;33m\u001b[0m\u001b[1;33m\u001b[0m\u001b[0m\n\u001b[0;32m     40\u001b[0m         \u001b[1;32mfor\u001b[0m \u001b[0mfigure_manager\u001b[0m \u001b[1;32min\u001b[0m \u001b[0mGcf\u001b[0m\u001b[1;33m.\u001b[0m\u001b[0mget_all_fig_managers\u001b[0m\u001b[1;33m(\u001b[0m\u001b[1;33m)\u001b[0m\u001b[1;33m:\u001b[0m\u001b[1;33m\u001b[0m\u001b[1;33m\u001b[0m\u001b[0m\n\u001b[1;32m---> 41\u001b[1;33m             display(\n\u001b[0m\u001b[0;32m     42\u001b[0m                 \u001b[0mfigure_manager\u001b[0m\u001b[1;33m.\u001b[0m\u001b[0mcanvas\u001b[0m\u001b[1;33m.\u001b[0m\u001b[0mfigure\u001b[0m\u001b[1;33m,\u001b[0m\u001b[1;33m\u001b[0m\u001b[1;33m\u001b[0m\u001b[0m\n\u001b[0;32m     43\u001b[0m                 \u001b[0mmetadata\u001b[0m\u001b[1;33m=\u001b[0m\u001b[0m_fetch_figure_metadata\u001b[0m\u001b[1;33m(\u001b[0m\u001b[0mfigure_manager\u001b[0m\u001b[1;33m.\u001b[0m\u001b[0mcanvas\u001b[0m\u001b[1;33m.\u001b[0m\u001b[0mfigure\u001b[0m\u001b[1;33m)\u001b[0m\u001b[1;33m\u001b[0m\u001b[1;33m\u001b[0m\u001b[0m\n",
      "\u001b[1;32m~\\anaconda3\\lib\\site-packages\\IPython\\core\\display.py\u001b[0m in \u001b[0;36mdisplay\u001b[1;34m(include, exclude, metadata, transient, display_id, *objs, **kwargs)\u001b[0m\n\u001b[0;32m    318\u001b[0m             \u001b[0mpublish_display_data\u001b[0m\u001b[1;33m(\u001b[0m\u001b[0mdata\u001b[0m\u001b[1;33m=\u001b[0m\u001b[0mobj\u001b[0m\u001b[1;33m,\u001b[0m \u001b[0mmetadata\u001b[0m\u001b[1;33m=\u001b[0m\u001b[0mmetadata\u001b[0m\u001b[1;33m,\u001b[0m \u001b[1;33m**\u001b[0m\u001b[0mkwargs\u001b[0m\u001b[1;33m)\u001b[0m\u001b[1;33m\u001b[0m\u001b[1;33m\u001b[0m\u001b[0m\n\u001b[0;32m    319\u001b[0m         \u001b[1;32melse\u001b[0m\u001b[1;33m:\u001b[0m\u001b[1;33m\u001b[0m\u001b[1;33m\u001b[0m\u001b[0m\n\u001b[1;32m--> 320\u001b[1;33m             \u001b[0mformat_dict\u001b[0m\u001b[1;33m,\u001b[0m \u001b[0mmd_dict\u001b[0m \u001b[1;33m=\u001b[0m \u001b[0mformat\u001b[0m\u001b[1;33m(\u001b[0m\u001b[0mobj\u001b[0m\u001b[1;33m,\u001b[0m \u001b[0minclude\u001b[0m\u001b[1;33m=\u001b[0m\u001b[0minclude\u001b[0m\u001b[1;33m,\u001b[0m \u001b[0mexclude\u001b[0m\u001b[1;33m=\u001b[0m\u001b[0mexclude\u001b[0m\u001b[1;33m)\u001b[0m\u001b[1;33m\u001b[0m\u001b[1;33m\u001b[0m\u001b[0m\n\u001b[0m\u001b[0;32m    321\u001b[0m             \u001b[1;32mif\u001b[0m \u001b[1;32mnot\u001b[0m \u001b[0mformat_dict\u001b[0m\u001b[1;33m:\u001b[0m\u001b[1;33m\u001b[0m\u001b[1;33m\u001b[0m\u001b[0m\n\u001b[0;32m    322\u001b[0m                 \u001b[1;31m# nothing to display (e.g. _ipython_display_ took over)\u001b[0m\u001b[1;33m\u001b[0m\u001b[1;33m\u001b[0m\u001b[0m\n",
      "\u001b[1;32m~\\anaconda3\\lib\\site-packages\\IPython\\core\\formatters.py\u001b[0m in \u001b[0;36mformat\u001b[1;34m(self, obj, include, exclude)\u001b[0m\n\u001b[0;32m    178\u001b[0m             \u001b[0mmd\u001b[0m \u001b[1;33m=\u001b[0m \u001b[1;32mNone\u001b[0m\u001b[1;33m\u001b[0m\u001b[1;33m\u001b[0m\u001b[0m\n\u001b[0;32m    179\u001b[0m             \u001b[1;32mtry\u001b[0m\u001b[1;33m:\u001b[0m\u001b[1;33m\u001b[0m\u001b[1;33m\u001b[0m\u001b[0m\n\u001b[1;32m--> 180\u001b[1;33m                 \u001b[0mdata\u001b[0m \u001b[1;33m=\u001b[0m \u001b[0mformatter\u001b[0m\u001b[1;33m(\u001b[0m\u001b[0mobj\u001b[0m\u001b[1;33m)\u001b[0m\u001b[1;33m\u001b[0m\u001b[1;33m\u001b[0m\u001b[0m\n\u001b[0m\u001b[0;32m    181\u001b[0m             \u001b[1;32mexcept\u001b[0m\u001b[1;33m:\u001b[0m\u001b[1;33m\u001b[0m\u001b[1;33m\u001b[0m\u001b[0m\n\u001b[0;32m    182\u001b[0m                 \u001b[1;31m# FIXME: log the exception\u001b[0m\u001b[1;33m\u001b[0m\u001b[1;33m\u001b[0m\u001b[0m\n",
      "\u001b[1;32m~\\anaconda3\\lib\\site-packages\\decorator.py\u001b[0m in \u001b[0;36mfun\u001b[1;34m(*args, **kw)\u001b[0m\n\u001b[0;32m    230\u001b[0m             \u001b[1;32mif\u001b[0m \u001b[1;32mnot\u001b[0m \u001b[0mkwsyntax\u001b[0m\u001b[1;33m:\u001b[0m\u001b[1;33m\u001b[0m\u001b[1;33m\u001b[0m\u001b[0m\n\u001b[0;32m    231\u001b[0m                 \u001b[0margs\u001b[0m\u001b[1;33m,\u001b[0m \u001b[0mkw\u001b[0m \u001b[1;33m=\u001b[0m \u001b[0mfix\u001b[0m\u001b[1;33m(\u001b[0m\u001b[0margs\u001b[0m\u001b[1;33m,\u001b[0m \u001b[0mkw\u001b[0m\u001b[1;33m,\u001b[0m \u001b[0msig\u001b[0m\u001b[1;33m)\u001b[0m\u001b[1;33m\u001b[0m\u001b[1;33m\u001b[0m\u001b[0m\n\u001b[1;32m--> 232\u001b[1;33m             \u001b[1;32mreturn\u001b[0m \u001b[0mcaller\u001b[0m\u001b[1;33m(\u001b[0m\u001b[0mfunc\u001b[0m\u001b[1;33m,\u001b[0m \u001b[1;33m*\u001b[0m\u001b[1;33m(\u001b[0m\u001b[0mextras\u001b[0m \u001b[1;33m+\u001b[0m \u001b[0margs\u001b[0m\u001b[1;33m)\u001b[0m\u001b[1;33m,\u001b[0m \u001b[1;33m**\u001b[0m\u001b[0mkw\u001b[0m\u001b[1;33m)\u001b[0m\u001b[1;33m\u001b[0m\u001b[1;33m\u001b[0m\u001b[0m\n\u001b[0m\u001b[0;32m    233\u001b[0m     \u001b[0mfun\u001b[0m\u001b[1;33m.\u001b[0m\u001b[0m__name__\u001b[0m \u001b[1;33m=\u001b[0m \u001b[0mfunc\u001b[0m\u001b[1;33m.\u001b[0m\u001b[0m__name__\u001b[0m\u001b[1;33m\u001b[0m\u001b[1;33m\u001b[0m\u001b[0m\n\u001b[0;32m    234\u001b[0m     \u001b[0mfun\u001b[0m\u001b[1;33m.\u001b[0m\u001b[0m__doc__\u001b[0m \u001b[1;33m=\u001b[0m \u001b[0mfunc\u001b[0m\u001b[1;33m.\u001b[0m\u001b[0m__doc__\u001b[0m\u001b[1;33m\u001b[0m\u001b[1;33m\u001b[0m\u001b[0m\n",
      "\u001b[1;32m~\\anaconda3\\lib\\site-packages\\IPython\\core\\formatters.py\u001b[0m in \u001b[0;36mcatch_format_error\u001b[1;34m(method, self, *args, **kwargs)\u001b[0m\n\u001b[0;32m    222\u001b[0m     \u001b[1;34m\"\"\"show traceback on failed format call\"\"\"\u001b[0m\u001b[1;33m\u001b[0m\u001b[1;33m\u001b[0m\u001b[0m\n\u001b[0;32m    223\u001b[0m     \u001b[1;32mtry\u001b[0m\u001b[1;33m:\u001b[0m\u001b[1;33m\u001b[0m\u001b[1;33m\u001b[0m\u001b[0m\n\u001b[1;32m--> 224\u001b[1;33m         \u001b[0mr\u001b[0m \u001b[1;33m=\u001b[0m \u001b[0mmethod\u001b[0m\u001b[1;33m(\u001b[0m\u001b[0mself\u001b[0m\u001b[1;33m,\u001b[0m \u001b[1;33m*\u001b[0m\u001b[0margs\u001b[0m\u001b[1;33m,\u001b[0m \u001b[1;33m**\u001b[0m\u001b[0mkwargs\u001b[0m\u001b[1;33m)\u001b[0m\u001b[1;33m\u001b[0m\u001b[1;33m\u001b[0m\u001b[0m\n\u001b[0m\u001b[0;32m    225\u001b[0m     \u001b[1;32mexcept\u001b[0m \u001b[0mNotImplementedError\u001b[0m\u001b[1;33m:\u001b[0m\u001b[1;33m\u001b[0m\u001b[1;33m\u001b[0m\u001b[0m\n\u001b[0;32m    226\u001b[0m         \u001b[1;31m# don't warn on NotImplementedErrors\u001b[0m\u001b[1;33m\u001b[0m\u001b[1;33m\u001b[0m\u001b[0m\n",
      "\u001b[1;32m~\\anaconda3\\lib\\site-packages\\IPython\\core\\formatters.py\u001b[0m in \u001b[0;36m__call__\u001b[1;34m(self, obj)\u001b[0m\n\u001b[0;32m    339\u001b[0m                 \u001b[1;32mpass\u001b[0m\u001b[1;33m\u001b[0m\u001b[1;33m\u001b[0m\u001b[0m\n\u001b[0;32m    340\u001b[0m             \u001b[1;32melse\u001b[0m\u001b[1;33m:\u001b[0m\u001b[1;33m\u001b[0m\u001b[1;33m\u001b[0m\u001b[0m\n\u001b[1;32m--> 341\u001b[1;33m                 \u001b[1;32mreturn\u001b[0m \u001b[0mprinter\u001b[0m\u001b[1;33m(\u001b[0m\u001b[0mobj\u001b[0m\u001b[1;33m)\u001b[0m\u001b[1;33m\u001b[0m\u001b[1;33m\u001b[0m\u001b[0m\n\u001b[0m\u001b[0;32m    342\u001b[0m             \u001b[1;31m# Finally look for special method names\u001b[0m\u001b[1;33m\u001b[0m\u001b[1;33m\u001b[0m\u001b[0m\n\u001b[0;32m    343\u001b[0m             \u001b[0mmethod\u001b[0m \u001b[1;33m=\u001b[0m \u001b[0mget_real_method\u001b[0m\u001b[1;33m(\u001b[0m\u001b[0mobj\u001b[0m\u001b[1;33m,\u001b[0m \u001b[0mself\u001b[0m\u001b[1;33m.\u001b[0m\u001b[0mprint_method\u001b[0m\u001b[1;33m)\u001b[0m\u001b[1;33m\u001b[0m\u001b[1;33m\u001b[0m\u001b[0m\n",
      "\u001b[1;32m~\\anaconda3\\lib\\site-packages\\IPython\\core\\pylabtools.py\u001b[0m in \u001b[0;36mprint_figure\u001b[1;34m(fig, fmt, bbox_inches, base64, **kwargs)\u001b[0m\n\u001b[0;32m    149\u001b[0m         \u001b[0mFigureCanvasBase\u001b[0m\u001b[1;33m(\u001b[0m\u001b[0mfig\u001b[0m\u001b[1;33m)\u001b[0m\u001b[1;33m\u001b[0m\u001b[1;33m\u001b[0m\u001b[0m\n\u001b[0;32m    150\u001b[0m \u001b[1;33m\u001b[0m\u001b[0m\n\u001b[1;32m--> 151\u001b[1;33m     \u001b[0mfig\u001b[0m\u001b[1;33m.\u001b[0m\u001b[0mcanvas\u001b[0m\u001b[1;33m.\u001b[0m\u001b[0mprint_figure\u001b[0m\u001b[1;33m(\u001b[0m\u001b[0mbytes_io\u001b[0m\u001b[1;33m,\u001b[0m \u001b[1;33m**\u001b[0m\u001b[0mkw\u001b[0m\u001b[1;33m)\u001b[0m\u001b[1;33m\u001b[0m\u001b[1;33m\u001b[0m\u001b[0m\n\u001b[0m\u001b[0;32m    152\u001b[0m     \u001b[0mdata\u001b[0m \u001b[1;33m=\u001b[0m \u001b[0mbytes_io\u001b[0m\u001b[1;33m.\u001b[0m\u001b[0mgetvalue\u001b[0m\u001b[1;33m(\u001b[0m\u001b[1;33m)\u001b[0m\u001b[1;33m\u001b[0m\u001b[1;33m\u001b[0m\u001b[0m\n\u001b[0;32m    153\u001b[0m     \u001b[1;32mif\u001b[0m \u001b[0mfmt\u001b[0m \u001b[1;33m==\u001b[0m \u001b[1;34m'svg'\u001b[0m\u001b[1;33m:\u001b[0m\u001b[1;33m\u001b[0m\u001b[1;33m\u001b[0m\u001b[0m\n",
      "\u001b[1;32m~\\anaconda3\\lib\\site-packages\\matplotlib\\backend_bases.py\u001b[0m in \u001b[0;36mprint_figure\u001b[1;34m(self, filename, dpi, facecolor, edgecolor, orientation, format, bbox_inches, pad_inches, bbox_extra_artists, backend, **kwargs)\u001b[0m\n\u001b[0;32m   2232\u001b[0m             \u001b[1;32mif\u001b[0m \u001b[0mbbox_inches\u001b[0m\u001b[1;33m:\u001b[0m\u001b[1;33m\u001b[0m\u001b[1;33m\u001b[0m\u001b[0m\n\u001b[0;32m   2233\u001b[0m                 \u001b[1;32mif\u001b[0m \u001b[0mbbox_inches\u001b[0m \u001b[1;33m==\u001b[0m \u001b[1;34m\"tight\"\u001b[0m\u001b[1;33m:\u001b[0m\u001b[1;33m\u001b[0m\u001b[1;33m\u001b[0m\u001b[0m\n\u001b[1;32m-> 2234\u001b[1;33m                     bbox_inches = self.figure.get_tightbbox(\n\u001b[0m\u001b[0;32m   2235\u001b[0m                         renderer, bbox_extra_artists=bbox_extra_artists)\n\u001b[0;32m   2236\u001b[0m                     \u001b[1;32mif\u001b[0m \u001b[0mpad_inches\u001b[0m \u001b[1;32mis\u001b[0m \u001b[1;32mNone\u001b[0m\u001b[1;33m:\u001b[0m\u001b[1;33m\u001b[0m\u001b[1;33m\u001b[0m\u001b[0m\n",
      "\u001b[1;32m~\\anaconda3\\lib\\site-packages\\matplotlib\\figure.py\u001b[0m in \u001b[0;36mget_tightbbox\u001b[1;34m(self, renderer, bbox_extra_artists)\u001b[0m\n\u001b[0;32m   1637\u001b[0m \u001b[1;33m\u001b[0m\u001b[0m\n\u001b[0;32m   1638\u001b[0m         \u001b[1;32mfor\u001b[0m \u001b[0ma\u001b[0m \u001b[1;32min\u001b[0m \u001b[0martists\u001b[0m\u001b[1;33m:\u001b[0m\u001b[1;33m\u001b[0m\u001b[1;33m\u001b[0m\u001b[0m\n\u001b[1;32m-> 1639\u001b[1;33m             \u001b[0mbbox\u001b[0m \u001b[1;33m=\u001b[0m \u001b[0ma\u001b[0m\u001b[1;33m.\u001b[0m\u001b[0mget_tightbbox\u001b[0m\u001b[1;33m(\u001b[0m\u001b[0mrenderer\u001b[0m\u001b[1;33m)\u001b[0m\u001b[1;33m\u001b[0m\u001b[1;33m\u001b[0m\u001b[0m\n\u001b[0m\u001b[0;32m   1640\u001b[0m             \u001b[1;32mif\u001b[0m \u001b[0mbbox\u001b[0m \u001b[1;32mis\u001b[0m \u001b[1;32mnot\u001b[0m \u001b[1;32mNone\u001b[0m \u001b[1;32mand\u001b[0m \u001b[1;33m(\u001b[0m\u001b[0mbbox\u001b[0m\u001b[1;33m.\u001b[0m\u001b[0mwidth\u001b[0m \u001b[1;33m!=\u001b[0m \u001b[1;36m0\u001b[0m \u001b[1;32mor\u001b[0m \u001b[0mbbox\u001b[0m\u001b[1;33m.\u001b[0m\u001b[0mheight\u001b[0m \u001b[1;33m!=\u001b[0m \u001b[1;36m0\u001b[0m\u001b[1;33m)\u001b[0m\u001b[1;33m:\u001b[0m\u001b[1;33m\u001b[0m\u001b[1;33m\u001b[0m\u001b[0m\n\u001b[0;32m   1641\u001b[0m                 \u001b[0mbb\u001b[0m\u001b[1;33m.\u001b[0m\u001b[0mappend\u001b[0m\u001b[1;33m(\u001b[0m\u001b[0mbbox\u001b[0m\u001b[1;33m)\u001b[0m\u001b[1;33m\u001b[0m\u001b[1;33m\u001b[0m\u001b[0m\n",
      "\u001b[1;32m~\\anaconda3\\lib\\site-packages\\matplotlib\\axes\\_base.py\u001b[0m in \u001b[0;36mget_tightbbox\u001b[1;34m(self, renderer, call_axes_locator, bbox_extra_artists, for_layout_only)\u001b[0m\n\u001b[0;32m   4469\u001b[0m             \u001b[0mclip_extent\u001b[0m \u001b[1;33m=\u001b[0m \u001b[0ma\u001b[0m\u001b[1;33m.\u001b[0m\u001b[0m_get_clipping_extent_bbox\u001b[0m\u001b[1;33m(\u001b[0m\u001b[1;33m)\u001b[0m\u001b[1;33m\u001b[0m\u001b[1;33m\u001b[0m\u001b[0m\n\u001b[0;32m   4470\u001b[0m             \u001b[1;32mif\u001b[0m \u001b[0mclip_extent\u001b[0m \u001b[1;32mis\u001b[0m \u001b[1;32mnot\u001b[0m \u001b[1;32mNone\u001b[0m\u001b[1;33m:\u001b[0m\u001b[1;33m\u001b[0m\u001b[1;33m\u001b[0m\u001b[0m\n\u001b[1;32m-> 4471\u001b[1;33m                 clip_extent = mtransforms.Bbox.intersection(\n\u001b[0m\u001b[0;32m   4472\u001b[0m                     clip_extent, axbbox)\n\u001b[0;32m   4473\u001b[0m                 \u001b[1;32mif\u001b[0m \u001b[0mnp\u001b[0m\u001b[1;33m.\u001b[0m\u001b[0mall\u001b[0m\u001b[1;33m(\u001b[0m\u001b[0mclip_extent\u001b[0m\u001b[1;33m.\u001b[0m\u001b[0mextents\u001b[0m \u001b[1;33m==\u001b[0m \u001b[0maxbbox\u001b[0m\u001b[1;33m.\u001b[0m\u001b[0mextents\u001b[0m\u001b[1;33m)\u001b[0m\u001b[1;33m:\u001b[0m\u001b[1;33m\u001b[0m\u001b[1;33m\u001b[0m\u001b[0m\n",
      "\u001b[1;32m~\\anaconda3\\lib\\site-packages\\matplotlib\\transforms.py\u001b[0m in \u001b[0;36mintersection\u001b[1;34m(bbox1, bbox2)\u001b[0m\n\u001b[0;32m    690\u001b[0m         \u001b[1;32mNone\u001b[0m \u001b[1;32mif\u001b[0m \u001b[0mthey\u001b[0m \u001b[0mdon\u001b[0m\u001b[0;31m'\u001b[0m\u001b[0mt\u001b[0m\u001b[1;33m.\u001b[0m\u001b[1;33m\u001b[0m\u001b[1;33m\u001b[0m\u001b[0m\n\u001b[0;32m    691\u001b[0m         \"\"\"\n\u001b[1;32m--> 692\u001b[1;33m         \u001b[0mx0\u001b[0m \u001b[1;33m=\u001b[0m \u001b[0mnp\u001b[0m\u001b[1;33m.\u001b[0m\u001b[0mmaximum\u001b[0m\u001b[1;33m(\u001b[0m\u001b[0mbbox1\u001b[0m\u001b[1;33m.\u001b[0m\u001b[0mxmin\u001b[0m\u001b[1;33m,\u001b[0m \u001b[0mbbox2\u001b[0m\u001b[1;33m.\u001b[0m\u001b[0mxmin\u001b[0m\u001b[1;33m)\u001b[0m\u001b[1;33m\u001b[0m\u001b[1;33m\u001b[0m\u001b[0m\n\u001b[0m\u001b[0;32m    693\u001b[0m         \u001b[0mx1\u001b[0m \u001b[1;33m=\u001b[0m \u001b[0mnp\u001b[0m\u001b[1;33m.\u001b[0m\u001b[0mminimum\u001b[0m\u001b[1;33m(\u001b[0m\u001b[0mbbox1\u001b[0m\u001b[1;33m.\u001b[0m\u001b[0mxmax\u001b[0m\u001b[1;33m,\u001b[0m \u001b[0mbbox2\u001b[0m\u001b[1;33m.\u001b[0m\u001b[0mxmax\u001b[0m\u001b[1;33m)\u001b[0m\u001b[1;33m\u001b[0m\u001b[1;33m\u001b[0m\u001b[0m\n\u001b[0;32m    694\u001b[0m         \u001b[0my0\u001b[0m \u001b[1;33m=\u001b[0m \u001b[0mnp\u001b[0m\u001b[1;33m.\u001b[0m\u001b[0mmaximum\u001b[0m\u001b[1;33m(\u001b[0m\u001b[0mbbox1\u001b[0m\u001b[1;33m.\u001b[0m\u001b[0mymin\u001b[0m\u001b[1;33m,\u001b[0m \u001b[0mbbox2\u001b[0m\u001b[1;33m.\u001b[0m\u001b[0mymin\u001b[0m\u001b[1;33m)\u001b[0m\u001b[1;33m\u001b[0m\u001b[1;33m\u001b[0m\u001b[0m\n",
      "\u001b[1;32m~\\anaconda3\\lib\\site-packages\\matplotlib\\transforms.py\u001b[0m in \u001b[0;36mxmin\u001b[1;34m(self)\u001b[0m\n\u001b[0;32m    327\u001b[0m     \u001b[1;32mdef\u001b[0m \u001b[0mxmin\u001b[0m\u001b[1;33m(\u001b[0m\u001b[0mself\u001b[0m\u001b[1;33m)\u001b[0m\u001b[1;33m:\u001b[0m\u001b[1;33m\u001b[0m\u001b[1;33m\u001b[0m\u001b[0m\n\u001b[0;32m    328\u001b[0m         \u001b[1;34m\"\"\"The left edge of the bounding box.\"\"\"\u001b[0m\u001b[1;33m\u001b[0m\u001b[1;33m\u001b[0m\u001b[0m\n\u001b[1;32m--> 329\u001b[1;33m         \u001b[1;32mreturn\u001b[0m \u001b[0mnp\u001b[0m\u001b[1;33m.\u001b[0m\u001b[0mmin\u001b[0m\u001b[1;33m(\u001b[0m\u001b[0mself\u001b[0m\u001b[1;33m.\u001b[0m\u001b[0mget_points\u001b[0m\u001b[1;33m(\u001b[0m\u001b[1;33m)\u001b[0m\u001b[1;33m[\u001b[0m\u001b[1;33m:\u001b[0m\u001b[1;33m,\u001b[0m \u001b[1;36m0\u001b[0m\u001b[1;33m]\u001b[0m\u001b[1;33m)\u001b[0m\u001b[1;33m\u001b[0m\u001b[1;33m\u001b[0m\u001b[0m\n\u001b[0m\u001b[0;32m    330\u001b[0m \u001b[1;33m\u001b[0m\u001b[0m\n\u001b[0;32m    331\u001b[0m     \u001b[1;33m@\u001b[0m\u001b[0mproperty\u001b[0m\u001b[1;33m\u001b[0m\u001b[1;33m\u001b[0m\u001b[0m\n",
      "\u001b[1;32m~\\anaconda3\\lib\\site-packages\\matplotlib\\transforms.py\u001b[0m in \u001b[0;36mget_points\u001b[1;34m(self)\u001b[0m\n\u001b[0;32m   1094\u001b[0m             \u001b[1;31m# from the result, taking care to make the orientation the\u001b[0m\u001b[1;33m\u001b[0m\u001b[1;33m\u001b[0m\u001b[0m\n\u001b[0;32m   1095\u001b[0m             \u001b[1;31m# same.\u001b[0m\u001b[1;33m\u001b[0m\u001b[1;33m\u001b[0m\u001b[0m\n\u001b[1;32m-> 1096\u001b[1;33m             points = self._transform.transform(\n\u001b[0m\u001b[0;32m   1097\u001b[0m                 [[p[0, 0], p[0, 1]],\n\u001b[0;32m   1098\u001b[0m                  \u001b[1;33m[\u001b[0m\u001b[0mp\u001b[0m\u001b[1;33m[\u001b[0m\u001b[1;36m1\u001b[0m\u001b[1;33m,\u001b[0m \u001b[1;36m0\u001b[0m\u001b[1;33m]\u001b[0m\u001b[1;33m,\u001b[0m \u001b[0mp\u001b[0m\u001b[1;33m[\u001b[0m\u001b[1;36m0\u001b[0m\u001b[1;33m,\u001b[0m \u001b[1;36m1\u001b[0m\u001b[1;33m]\u001b[0m\u001b[1;33m]\u001b[0m\u001b[1;33m,\u001b[0m\u001b[1;33m\u001b[0m\u001b[1;33m\u001b[0m\u001b[0m\n",
      "\u001b[1;32m~\\anaconda3\\lib\\site-packages\\matplotlib\\transforms.py\u001b[0m in \u001b[0;36mtransform\u001b[1;34m(self, values)\u001b[0m\n\u001b[0;32m   1468\u001b[0m \u001b[1;33m\u001b[0m\u001b[0m\n\u001b[0;32m   1469\u001b[0m         \u001b[1;31m# Transform the values\u001b[0m\u001b[1;33m\u001b[0m\u001b[1;33m\u001b[0m\u001b[0m\n\u001b[1;32m-> 1470\u001b[1;33m         \u001b[0mres\u001b[0m \u001b[1;33m=\u001b[0m \u001b[0mself\u001b[0m\u001b[1;33m.\u001b[0m\u001b[0mtransform_affine\u001b[0m\u001b[1;33m(\u001b[0m\u001b[0mself\u001b[0m\u001b[1;33m.\u001b[0m\u001b[0mtransform_non_affine\u001b[0m\u001b[1;33m(\u001b[0m\u001b[0mvalues\u001b[0m\u001b[1;33m)\u001b[0m\u001b[1;33m)\u001b[0m\u001b[1;33m\u001b[0m\u001b[1;33m\u001b[0m\u001b[0m\n\u001b[0m\u001b[0;32m   1471\u001b[0m \u001b[1;33m\u001b[0m\u001b[0m\n\u001b[0;32m   1472\u001b[0m         \u001b[1;31m# Convert the result back to the shape of the input values.\u001b[0m\u001b[1;33m\u001b[0m\u001b[1;33m\u001b[0m\u001b[0m\n",
      "\u001b[1;32m~\\anaconda3\\lib\\site-packages\\matplotlib\\transforms.py\u001b[0m in \u001b[0;36mtransform_affine\u001b[1;34m(self, points)\u001b[0m\n\u001b[0;32m   2377\u001b[0m     \u001b[1;32mdef\u001b[0m \u001b[0mtransform_affine\u001b[0m\u001b[1;33m(\u001b[0m\u001b[0mself\u001b[0m\u001b[1;33m,\u001b[0m \u001b[0mpoints\u001b[0m\u001b[1;33m)\u001b[0m\u001b[1;33m:\u001b[0m\u001b[1;33m\u001b[0m\u001b[1;33m\u001b[0m\u001b[0m\n\u001b[0;32m   2378\u001b[0m         \u001b[1;31m# docstring inherited\u001b[0m\u001b[1;33m\u001b[0m\u001b[1;33m\u001b[0m\u001b[0m\n\u001b[1;32m-> 2379\u001b[1;33m         \u001b[1;32mreturn\u001b[0m \u001b[0mself\u001b[0m\u001b[1;33m.\u001b[0m\u001b[0mget_affine\u001b[0m\u001b[1;33m(\u001b[0m\u001b[1;33m)\u001b[0m\u001b[1;33m.\u001b[0m\u001b[0mtransform\u001b[0m\u001b[1;33m(\u001b[0m\u001b[0mpoints\u001b[0m\u001b[1;33m)\u001b[0m\u001b[1;33m\u001b[0m\u001b[1;33m\u001b[0m\u001b[0m\n\u001b[0m\u001b[0;32m   2380\u001b[0m \u001b[1;33m\u001b[0m\u001b[0m\n\u001b[0;32m   2381\u001b[0m     \u001b[1;32mdef\u001b[0m \u001b[0mtransform_non_affine\u001b[0m\u001b[1;33m(\u001b[0m\u001b[0mself\u001b[0m\u001b[1;33m,\u001b[0m \u001b[0mpoints\u001b[0m\u001b[1;33m)\u001b[0m\u001b[1;33m:\u001b[0m\u001b[1;33m\u001b[0m\u001b[1;33m\u001b[0m\u001b[0m\n",
      "\u001b[1;32m~\\anaconda3\\lib\\site-packages\\matplotlib\\transforms.py\u001b[0m in \u001b[0;36mget_affine\u001b[1;34m(self)\u001b[0m\n\u001b[0;32m   2404\u001b[0m             \u001b[1;32mreturn\u001b[0m \u001b[0mself\u001b[0m\u001b[1;33m.\u001b[0m\u001b[0m_b\u001b[0m\u001b[1;33m.\u001b[0m\u001b[0mget_affine\u001b[0m\u001b[1;33m(\u001b[0m\u001b[1;33m)\u001b[0m\u001b[1;33m\u001b[0m\u001b[1;33m\u001b[0m\u001b[0m\n\u001b[0;32m   2405\u001b[0m         \u001b[1;32melse\u001b[0m\u001b[1;33m:\u001b[0m\u001b[1;33m\u001b[0m\u001b[1;33m\u001b[0m\u001b[0m\n\u001b[1;32m-> 2406\u001b[1;33m             return Affine2D(np.dot(self._b.get_affine().get_matrix(),\n\u001b[0m\u001b[0;32m   2407\u001b[0m                                    self._a.get_affine().get_matrix()))\n\u001b[0;32m   2408\u001b[0m \u001b[1;33m\u001b[0m\u001b[0m\n",
      "\u001b[1;32m<__array_function__ internals>\u001b[0m in \u001b[0;36mdot\u001b[1;34m(*args, **kwargs)\u001b[0m\n",
      "\u001b[1;31mKeyboardInterrupt\u001b[0m: "
     ]
    }
   ],
   "source": [
    "for file in data_files:\n",
    "    data_hist(file, 'input1', selection = [], crop = (0, 0), slicer = (None, None), \n",
    "              log = False)"
   ]
  },
  {
   "cell_type": "code",
   "execution_count": null,
   "id": "54f4b013",
   "metadata": {
    "scrolled": true
   },
   "outputs": [],
   "source": [
    "for file in data_files:\n",
    "    data_hist(file, 'input1', selection = [('source_id', 0), ('idle', True)], crop = (0.2, 0.2), slicer = (None, None), \n",
    "              log = False, bins = 500)"
   ]
  },
  {
   "cell_type": "markdown",
   "id": "95695f98",
   "metadata": {},
   "source": [
    "## 2) Independence of inputs\n",
    "### A/ Autocorrelation coefficient"
   ]
  },
  {
   "cell_type": "code",
   "execution_count": 20,
   "id": "559018fc",
   "metadata": {},
   "outputs": [],
   "source": [
    "def fft_autocorr(x):\n",
    "    x = np.asarray(x)\n",
    "    N = len(x)\n",
    "#     x = x-x.mean()\n",
    "    s = fft.fft(x, N*2-1)\n",
    "    result = np.real(fft.ifft(s * np.conjugate(s), N*2-1))\n",
    "    result = result[:N]\n",
    "    result /= result[0]\n",
    "    return np.array(result.astype(float))\n",
    "\n",
    "def maple_autocorr(x): \n",
    "    x = np.asarray(x)\n",
    "    y = x-x.mean()\n",
    "#     y = x / max(x)\n",
    "    \n",
    "    autocorr = np.correlate(y, y, mode='full').astype(float)\n",
    "#     autocorr = np.correlate(y, y, mode='same').astype(float)\n",
    "    autocorr = autocorr[len(autocorr)//2:]\n",
    "    autocorr /= autocorr[0]\n",
    "    return np.array(autocorr.astype(float))"
   ]
  },
  {
   "cell_type": "code",
   "execution_count": 21,
   "id": "7f464a77",
   "metadata": {
    "scrolled": false
   },
   "outputs": [
    {
     "name": "stdout",
     "output_type": "stream",
     "text": [
      "autocorr len: 1000\n"
     ]
    },
    {
     "data": {
      "image/png": "[encoded data removed]",
      "text/plain": [
       "<Figure size 720x576 with 1 Axes>"
      ]
     },
     "metadata": {},
     "output_type": "display_data"
    }
   ],
   "source": [
    "def plot_autocorr(x, i, method):\n",
    "    if method=='maple':\n",
    "        autocorr = maple_autocorr(x)\n",
    "    else:\n",
    "        autocorr = fft_autocorr(x)\n",
    "\n",
    "    if i!=None:\n",
    "        autocorr = autocorr[:i]\n",
    "    print(\"autocorr len:\", len(autocorr))\n",
    "#     print(\"Autocorrelation:\", autocorr)\n",
    "    \n",
    "    plt.plot(autocorr)\n",
    "    plt.xlabel(\"Lag\")\n",
    "    plt.ylabel(\"Autocorrelation\")\n",
    "    plt.show()\n",
    "    \n",
    "x = np.random.randn(1000)\n",
    "plot_autocorr(x, None, 'maple')"
   ]
  },
  {
   "cell_type": "code",
   "execution_count": null,
   "id": "dc056ff8",
   "metadata": {},
   "outputs": [],
   "source": [
    "def data_autocorr(filename, column, crop, max_lag, method):\n",
    "    # Import\n",
    "    data_path = path + \"\\\\csv\\\\\" + filename + \".csv\"\n",
    "    data = pd.read_csv(data_path)\n",
    "    \n",
    "    x = np.array(data[column])\n",
    "    \n",
    "    n = len(x)\n",
    "    i,j = 0 if crop[0]==None else int(crop[0]*n), n if crop[1]==None else int(crop[1]*n)\n",
    "    if i<j: \n",
    "        x = x[i:j]\n",
    "\n",
    "    print(\"array len:\", len(x))\n",
    "    print(\"head values:\", x[:10])\n",
    "        \n",
    "    plot_autocorr(x, max_lag, method)"
   ]
  },
  {
   "cell_type": "code",
   "execution_count": null,
   "id": "9058828a",
   "metadata": {
    "scrolled": true
   },
   "outputs": [],
   "source": [
    "for file in data_files:\n",
    "    data_autocorr(file, 'input1', (None, None), None, 'fft')"
   ]
  },
  {
   "cell_type": "code",
   "execution_count": null,
   "id": "02b96610",
   "metadata": {},
   "outputs": [],
   "source": [
    "from statsmodels.graphics.tsaplots import plot_acf \n",
    "\n",
    "data_path = path + \"\\\\csv\\\\\" + data_files[0] + \".csv\"\n",
    "data = pd.read_csv(data_path)\n",
    "x = np.array(data['input1'])\n",
    "\n",
    "# plot_acf(x)"
   ]
  },
  {
   "cell_type": "code",
   "execution_count": null,
   "id": "efd28b6d",
   "metadata": {},
   "outputs": [],
   "source": [
    "f = plt.figure()\n",
    "\n",
    "ax1 = f.add_subplot(231)\n",
    "ax1.set_title('Data')\n",
    "ax1.plot(data.input1)\n",
    "\n",
    "ax2 = f.add_subplot(232)\n",
    "ax2.set_title('1st order')\n",
    "ax2.plot(data.input1.diff())\n",
    "\n",
    "ax3 = f.add_subplot(233)\n",
    "ax3.set_title('2nd order')\n",
    "ax3.plot(data.input1.diff().diff())\n",
    "\n",
    "plt.show()"
   ]
  },
  {
   "cell_type": "code",
   "execution_count": null,
   "id": "467cd536",
   "metadata": {},
   "outputs": [],
   "source": [
    "f = plt.figure()\n",
    "ax1a = f.add_subplot(231)\n",
    "ax1a.set_title('Data autocorr')\n",
    "ax1a.plot(fft_autocorr(data.input1))\n",
    "\n",
    "ax2a = f.add_subplot(232)\n",
    "ax2a.set_title('1st order autocorr')\n",
    "ax2a.plot(fft_autocorr(data.input1.diff()))\n",
    "\n",
    "ax3a = f.add_subplot(233)\n",
    "ax3a.set_title('2nd order autocorr')\n",
    "ax3a.plot(fft_autocorr(data.input1.diff().diff()))\n",
    "\n",
    "plt.show()"
   ]
  },
  {
   "cell_type": "raw",
   "id": "e514bd92",
   "metadata": {},
   "source": [
    "### B/ Mutual Information"
   ]
  },
  {
   "cell_type": "raw",
   "id": "44b69ae7",
   "metadata": {},
   "source": [
    "def mutual_info(x, nbs):\n",
    "    target = x[1:]\n",
    "    feature = x[:-1]\n",
    "\n",
    "    mi = mutual_info_regression(feature.reshape(-1, 1), target, n_neighbors=nbs)\n",
    "\n",
    "    return mi[0]"
   ]
  },
  {
   "cell_type": "raw",
   "id": "3b6f9838",
   "metadata": {},
   "source": [
    "def plot_mutual_information(filename, column, max_nbs, crop): \n",
    "    data_path = path + \"\\\\csv\\\\\" + filename + \".csv\"\n",
    "    data = pd.read_csv(data_path)\n",
    "    \n",
    "    x = np.array(data[column])\n",
    "    \n",
    "    n = len(x)\n",
    "    i,j = 0 if crop[0]==None else int(crop[0]*n), n if crop[1]==None else int(crop[1]*n)\n",
    "    if i<j: \n",
    "        x = x[i:j]\n",
    "    \n",
    "    nbs = range(1, max_nbs+1)\n",
    "    mis = [mutual_info(x, n) for n in nbs]\n",
    "\n",
    "    plt.plot(nbs, mis)\n",
    "    plt.xlabel('Number of neighbors')\n",
    "    plt.ylabel('Mutual Information')\n",
    "    plt.title('Mutual Information vs Number of Neighbors')\n",
    "    plt.show()"
   ]
  },
  {
   "cell_type": "raw",
   "id": "5a02e72f",
   "metadata": {
    "scrolled": true
   },
   "source": [
    "for file in data_files:\n",
    "    plot_mutual_information(file, 'input1', 30, (0.49, 0.50))"
   ]
  },
  {
   "cell_type": "raw",
   "id": "3a3b73bd",
   "metadata": {},
   "source": [
    "### C/ Dickey-Fuller test"
   ]
  },
  {
   "cell_type": "raw",
   "id": "8680af31",
   "metadata": {},
   "source": [
    "def dickey_fuller(filename, column, crop, differential):\n",
    "    # Import\n",
    "    data_path = path + \"\\\\csv\\\\\" + filename + \".csv\"\n",
    "    data = pd.read_csv(data_path)\n",
    "    \n",
    "    x = data.input1\n",
    "    for i in range(differential): \n",
    "        x = x.diff()\n",
    "    x = np.array(x)\n",
    "    \n",
    "    n = len(x)\n",
    "    i,j = 0 if crop[0]==None else int(crop[0]*n), n if crop[1]==None else int(crop[1]*n)\n",
    "    if i<j: \n",
    "        x = x[i:j]\n",
    "    print(len(x))\n",
    "        \n",
    "    return adfuller(x)[1]"
   ]
  },
  {
   "cell_type": "raw",
   "id": "6829d063",
   "metadata": {},
   "source": [
    "for file in data_files: \n",
    "    print(file)\n",
    "    for i in range(4):\n",
    "        print('\\t Order:', str(i)+',', \n",
    "              'p-value:', dickey_fuller(file, 'input1', (0.4999, 0.50), i))"
   ]
  },
  {
   "cell_type": "raw",
   "id": "4ac781b6",
   "metadata": {},
   "source": [
    "## 3) ARIMA model"
   ]
  },
  {
   "cell_type": "raw",
   "id": "f81afcc9",
   "metadata": {},
   "source": [
    "list_arima_params = [\n",
    "    (0,1,0), #random walk model\n",
    "    (1,1,0), #first-order difference model\n",
    "    (0,1,1), #moving average model\n",
    "    (1,1,1), #first-order difference with moving average model\n",
    "    (2,1,0), #second-order difference model\n",
    "    (0,1,2), #double moving average model\n",
    "    (2,1,2)  #second-order difference with double moving average model\n",
    "]"
   ]
  },
  {
   "cell_type": "raw",
   "id": "b8125373",
   "metadata": {},
   "source": [
    "def get_ARIMA_model(filename, column, params, crop): \n",
    "    data_path = path + \"\\\\csv\\\\\" + filename + \".csv\"\n",
    "    data = pd.read_csv(data_path)\n",
    "    \n",
    "    diff(data, [column])\n",
    "    diff(data, [column])\n",
    "    x = np.asarray(data[column], dtype=np.float64)\n",
    "    \n",
    "    n = len(x)\n",
    "    i,j = 0 if crop[0]==None else int(crop[0]*n), n if crop[1]==None else int(crop[1]*n)\n",
    "    if i<j: \n",
    "        x = x[i:j]\n",
    "    \n",
    "    arima = ARIMA(x, order=params)\n",
    "    model = arima.fit()\n",
    "    return model\n",
    "    \n",
    "def get_residuals(arima_model):\n",
    "    residuals = arima_model.resid\n",
    "    return residuals"
   ]
  },
  {
   "cell_type": "raw",
   "id": "64281aa7",
   "metadata": {},
   "source": [
    "def residuals_entropy(residuals, bandwidth):\n",
    "    pdf = sm.nonparametric.KDEUnivariate(residuals)\n",
    "    pdf.fit(bw=bandwidth, fft=True)\n",
    "    \n",
    "    entropy_value = entropy(pdf.density, base=2)\n",
    "    return entropy_value"
   ]
  },
  {
   "cell_type": "raw",
   "id": "03f3d633",
   "metadata": {
    "scrolled": false
   },
   "source": [
    "model = get_ARIMA_model(data_files[0], 'input1', (2,1,0), (0.2, None))\n",
    "print(model.summary())"
   ]
  },
  {
   "cell_type": "raw",
   "id": "a6f104b1",
   "metadata": {},
   "source": [
    "model.plot_predict(dynamic=False)\n",
    "\n",
    "plt.xlim([0.5e6, 0.6e6])\n",
    "plt.show()"
   ]
  },
  {
   "cell_type": "raw",
   "id": "34c4fb0d",
   "metadata": {},
   "source": [
    "res = model.resid\n",
    "residuals_entropy(res, '')"
   ]
  },
  {
   "cell_type": "markdown",
   "id": "44071a12",
   "metadata": {},
   "source": [
    "# III - 1st order differencing\n",
    "## 1) Probability functions"
   ]
  },
  {
   "cell_type": "code",
   "execution_count": null,
   "id": "f7666887",
   "metadata": {},
   "outputs": [],
   "source": [
    "def diff(df, columns):\n",
    "    for col in columns:\n",
    "        y = df[col].to_numpy()\n",
    "        y =  y - np.roll(y.copy(), 1)\n",
    "        y[0] = 0 # Should remove?\n",
    "        df.loc[:, col] = y\n",
    "#         return df.drop(0).reset_index(drop=True)"
   ]
  },
  {
   "cell_type": "raw",
   "id": "a2cb0cbe",
   "metadata": {},
   "source": [
    "y = np.asarray([1, 2, 4, 5, 6, 7])\n",
    "y = y - np.roll(y, 1)\n",
    "y[0] = 0\n",
    "y"
   ]
  },
  {
   "cell_type": "code",
   "execution_count": null,
   "id": "61629f19",
   "metadata": {
    "scrolled": true
   },
   "outputs": [],
   "source": [
    "def remove_extremes(x): \n",
    "#     x = x[0 <= x]\n",
    "    n = len(x)\n",
    "    Q1, Q3 = np.quantile(x, [0.25, 0.75])\n",
    "    IQR = Q3 - Q1\n",
    "    a, b = Q1 - 1.5 * IQR, Q3 + 1.5 * IQR\n",
    "    \n",
    "    x = x[(a <= x) & (x <= b)]\n",
    "    \n",
    "#     print(n-len(x), a, b)\n",
    "    return x"
   ]
  },
  {
   "cell_type": "code",
   "execution_count": null,
   "id": "77c444fb",
   "metadata": {},
   "outputs": [],
   "source": [
    "def kstest_norm(x, bins):\n",
    "    # Model fitting\n",
    "    mu, sigma = np.mean(x), np.std(x)\n",
    "    pdf_x = np.linspace(np.min(x),np.max(x), bins*10)\n",
    "    pdf_y = 1.0 / np.sqrt(2*np.pi*sigma**2) * np.exp(-0.5*(pdf_x - mu)**2/sigma**2)\n",
    "    \n",
    "    # Test\n",
    "    ks_statistic, p_value = kstest(x, 'norm')\n",
    "    print(\"\\t Gauss model: mu=\"+str(mu)+\", sigma=\"+str(sigma))\n",
    "    print(\"\\t KS test: statistic=\"+str(ks_statistic)+\", pvalue=\"+str(p_value))\n",
    "    \n",
    "    return  (pdf_x, pdf_y, mu, sigma) "
   ]
  },
  {
   "cell_type": "code",
   "execution_count": null,
   "id": "ab278382",
   "metadata": {},
   "outputs": [],
   "source": [
    "def kstest_laplace(sample, bins):\n",
    "    # Model fitting\n",
    "    pdf_x = np.linspace(np.min(sample),np.max(sample), bins*10)\n",
    "    \n",
    "    fitter = Fitter(sample, distributions=['laplace'])\n",
    "    fitter.fit()\n",
    "    location, scale = fitter.fitted_param[\"laplace\"]\n",
    "    \n",
    "    def cdf(x, loc, scale):\n",
    "        return 1/2 * (1 + np.sign(x-loc) * (1 - np.exp(-(np.abs(x-loc)/scale))))\n",
    "    \n",
    "    # Test\n",
    "    ks_statistic, p_value = kstest(sample, cdf, args=(location, scale))\n",
    "    print(\"\\t Exponential model: scale=\"+str(scale))\n",
    "    print(\"\\t KS test: statistic=\"+str(ks_statistic)+\", pvalue=\"+str(p_value))\n",
    "    \n",
    "    return (pdf_x, cdf(pdf_x, location, scale))"
   ]
  },
  {
   "cell_type": "code",
   "execution_count": null,
   "id": "5d63aaab",
   "metadata": {},
   "outputs": [],
   "source": [
    "def kstest_cauchy(sample, bins):\n",
    "    # Model fitting\n",
    "    pdf_x = np.linspace(np.min(sample),np.max(sample), bins*10)\n",
    "    \n",
    "    fitter = Fitter(sample, distributions=['cauchy'])\n",
    "    fitter.fit()\n",
    "    location, scale = fitter.fitted_param[\"cauchy\"]\n",
    "    \n",
    "    def cdf(x, loc, scale):\n",
    "        return  1/np.pi * np.arctan((x-loc)/scale) + 0.5\n",
    "    \n",
    "    def pdf(x, loc, scale):\n",
    "        return  1/(np.pi * scale * (1 + ((x-loc)/scale)**2))\n",
    "    \n",
    "    # Test\n",
    "    ks_statistic, p_value = kstest(sample, cdf, args=(location, scale))\n",
    "    print(\"\\t Model parameters: scale=\"+str(scale), \"location=\"+str(location))\n",
    "    print(\"\\t KS test: statistic=\"+str(ks_statistic)+\", pvalue=\"+str(p_value))\n",
    "    \n",
    "    return (pdf_x, pdf(pdf_x, location, scale))"
   ]
  },
  {
   "cell_type": "code",
   "execution_count": null,
   "id": "01290c4d",
   "metadata": {},
   "outputs": [],
   "source": [
    "def pdf(x, loc, scale):\n",
    "    return  1/(np.pi * scale * (1 + ((x-loc)/scale)**2))\n",
    "\n",
    "def get_cauchy_pdf(pdf_x, loc, scale):\n",
    "    return pdf(pdf_x, loc, scale)\n",
    "\n",
    "def pdf_mixture(pdf_x, means, scales, weights):\n",
    "    n = len(pdf_x)\n",
    "    pdf = np.zeros(n)\n",
    "    K = len(means)\n",
    "    for k in range(K):\n",
    "        pdf += weights[k] * get_cauchy_pdf(pdf_x, means[k], scales[k])\n",
    "    return pdf / np.sum(weights)\n",
    "\n",
    "def log_likelihood(params, data, K):\n",
    "    # Unpack parameters\n",
    "    means, scales, log_weights = params[:K], params[K:2*K], params[2*K:]\n",
    "    weights = np.exp(log_weights) / np.sum(np.exp(log_weights))\n",
    "    \n",
    "    # Compute the log-likelihood\n",
    "    ll = np.sum([weights[k] * np.log(cauchy.pdf(data, loc=means[k], scale=scales[k]))\n",
    "                 for k in range(K)])\n",
    "    return -ll\n",
    "\n",
    "def fit_mixture_model(sample, K, bins):\n",
    "    pdf_x = np.linspace(np.min(sample),np.max(sample), bins*10)\n",
    "    \n",
    "    # Initialize parameters\n",
    "    np.random.seed(0)\n",
    "    means = np.random.randn(K)\n",
    "    scales = np.random.rand(K) + 1\n",
    "    log_weights = np.zeros(K)\n",
    "    params = np.concatenate([means, scales, log_weights])\n",
    "    \n",
    "    # Minimize the negative log-likelihood\n",
    "    res = minimize(log_likelihood, params, args=(sample,K,), method='Nelder-Mead')\n",
    "    \n",
    "    # Extract the estimated parameters\n",
    "    means, scales, log_weights = res.x[:K], res.x[K:2*K], res.x[2*K:]\n",
    "    weights = np.exp(log_weights) / np.sum(np.exp(log_weights))\n",
    "    \n",
    "    print(means)\n",
    "    print(scales)\n",
    "    print(weights)\n",
    "    \n",
    "    pdf_y = pdf_mixture(pdf_x, means, scales, weights)\n",
    "    return (pdf_x, pdf_y)"
   ]
  },
  {
   "cell_type": "markdown",
   "id": "13d612d3",
   "metadata": {},
   "source": [
    "## 2) Density visualisation"
   ]
  },
  {
   "cell_type": "code",
   "execution_count": null,
   "id": "4c786b6c",
   "metadata": {
    "scrolled": false
   },
   "outputs": [],
   "source": [
    "for file in data_files[:1]:\n",
    "    print(file)\n",
    "    data_path = path + \"\\\\csv\\\\\" + filename + \".csv\"\n",
    "    data = pd.read_csv(data_path)\n",
    "    \n",
    "    f = plt.figure()\n",
    "    ax1 = f.add_subplot(221)\n",
    "    ax1.set_title('Pandas diff')\n",
    "    ax1.plot(data.input1.diff())\n",
    "    \n",
    "#     print(\"1st pd value\", data.input1.diff()[0])\n",
    "#     print(\"2nd pd value\", data.input1.diff()[1])\n",
    "    \n",
    "    diff(data, ['input1'])\n",
    "    ax2 = f.add_subplot(222)\n",
    "    ax2.set_title('Homebrew diff')\n",
    "    ax2.plot(data.input1)\n",
    "    \n",
    "#     print(\"1st HB value\", data.input1[0])\n",
    "#     print(\"2nd HB value\", data.input1[1])\n",
    "#     print()\n",
    "\n",
    "    plt.show()"
   ]
  },
  {
   "cell_type": "code",
   "execution_count": null,
   "id": "9b939ebf",
   "metadata": {},
   "outputs": [],
   "source": [
    "def data_diff_hist(filename, column, selection = [], crop = (None, None), xzoom = (None, None), log = False, \n",
    "                   bins = None, model=None, k=None):\n",
    "    # Import\n",
    "    data_path = path + \"\\\\csv\\\\\" + filename + \".csv\"\n",
    "    data = pd.read_csv(data_path)\n",
    "    \n",
    "    # Selection: select data according to other columns (origin, process...)\n",
    "    for tup in selection: \n",
    "        data = data[data[tup[0]] == tup[1]] \n",
    "\n",
    "    # Cropping: remove crop[0] % of beginning or crop[1] of end of the data\n",
    "    n = data.shape[0]\n",
    "    if crop[0] != None and int(crop[0]*n) > 0: \n",
    "        data = data.tail(-int( n*crop[0] ))\n",
    "    if crop[1] != None and int(crop[1]*n) > 0: \n",
    "        data = data.head(-int( n*crop[1] ))\n",
    "        \n",
    "    diff(data, [column])\n",
    "    x = remove_extremes(data[column])\n",
    "#     x = data[column]\n",
    "    bins = max(200 if bins==None else bins, 1)\n",
    "    \n",
    "    # Figure\n",
    "    fig, ax = plt.subplots()\n",
    "#     ax = x.plot(kind='hist', bins=bins, density=True, alpha=0.5, \n",
    "#                    color=list(plt.rcParams['axes.prop_cycle'])[1]['color'], log=log)\n",
    "    plt.hist(x, density=True, log = log, bins = bins)\n",
    "    \n",
    "    if not xzoom==(None,None):\n",
    "        plt.xlim(np.min(x) if xzoom[0]==None else xzoom[0], np.max(x) if xzoom[1]==None else xzoom[1])\n",
    "    \n",
    "    hist, bin_edges = np.histogram(x, bins=bins) \n",
    "    prob = hist / np.sum(hist)\n",
    "    entropy = -np.sum(prob * np.log2(prob + (prob==0)))\n",
    "    min_entropy = -np.log2(np.max(prob))\n",
    "    \n",
    "    # Print info\n",
    "    print(\"Histogram of\", filename, \":\")\n",
    "    print(\"\\t selection:\", tup_string(selection))\n",
    "    print(\"\\t crop values:\", str(0 if not crop[0] else int(crop[0]*n))+\",\", str(0 if not crop[1] else int(crop[1]*n)))\n",
    "    print(\"\\t min-entropy:\", min_entropy)\n",
    "    print(\"\\t entropy:\", entropy)\n",
    "    print(\"\\t # of elements:\", str(len(x)))\n",
    "    print(\"\\t # of bins:\", str(bins))\n",
    "    print(\"\\t log =\", str(log))\n",
    "    print()\n",
    "        \n",
    "    if model==\"norm\": \n",
    "        pdf_x, pdf_y, mu, sigma = kstest_norm(x, bins)\n",
    "        ax.plot(pdf_x, pdf_y, 'r--', label=\"pdf\") \n",
    "    elif model=='laplace':\n",
    "        pdf_x, pdf_y = kstest_laplace(x, bins)\n",
    "        ax.plot(pdf_x, pdf_y, 'r--', label=\"pdf\") \n",
    "    elif model=='cauchy':\n",
    "        pdf_x, pdf_y = kstest_cauchy(x, bins)\n",
    "        ax.plot(pdf_x, pdf_y, 'b--', label=\"pdf\")\n",
    "    elif model==\"mixed\": \n",
    "        pdf_x, pdf_y = fit_mixture_model(x, 1 if k==None else k, bins)\n",
    "        ax.plot(pdf_x, pdf_y, 'b--', label=\"pdf\")\n",
    "    elif model==\"test\": \n",
    "        fitter = Fitter(x, distributions=['norm', 'laplace', 'cauchy'])\n",
    "        fitter.fit()\n",
    "        print(fitter.summary())\n",
    "    elif model=='export':\n",
    "        x.to_csv(\"csv/fit_results.csv\")\n",
    "        \n",
    "    ax.set_xlabel(u'Timestamp delay')\n",
    "    ax.set_ylabel('Frequency')\n",
    "    \n",
    "    plt.show()"
   ]
  },
  {
   "cell_type": "code",
   "execution_count": null,
   "id": "b753aed9",
   "metadata": {
    "scrolled": false
   },
   "outputs": [],
   "source": [
    "for file in data_files:\n",
    "    data_diff_hist(file, 'input1', selection = [], \n",
    "                   crop = (0.2, 0.2), log = False, bins = 500, model=None)"
   ]
  },
  {
   "cell_type": "code",
   "execution_count": null,
   "id": "565606a9",
   "metadata": {
    "scrolled": false
   },
   "outputs": [],
   "source": [
    "for file in data_files:\n",
    "    data_diff_hist(file, 'input1', selection = [], \n",
    "                   crop = (0.2, 0.2), log = False, bins = 500, model=\"cauchy\", k=1)"
   ]
  },
  {
   "cell_type": "code",
   "execution_count": null,
   "id": "ffadb03a",
   "metadata": {
    "scrolled": true
   },
   "outputs": [],
   "source": [
    "for file in data_files:\n",
    "    data_diff_hist(file, 'input1', selection = [], \n",
    "                   crop = (0.2, 0.2), log = False, bins = 500, model=\"cauchy\")"
   ]
  },
  {
   "cell_type": "markdown",
   "id": "735c3437",
   "metadata": {},
   "source": [
    "## 2) Independence of inputs\n",
    "### A/ Autocorrelation coefficient"
   ]
  },
  {
   "cell_type": "code",
   "execution_count": null,
   "id": "422e787e",
   "metadata": {},
   "outputs": [],
   "source": [
    "def data_diff_autocorr(filename, column, crop, max_lag, method):\n",
    "    # Import\n",
    "    data_path = path + \"\\\\csv\\\\\" + filename + \".csv\"\n",
    "    data = pd.read_csv(data_path)\n",
    "    \n",
    "    diff(data, [column])\n",
    "    x = np.array(data[column])\n",
    "    \n",
    "    n = len(x)\n",
    "    i,j = 0 if crop[0]==None else int(crop[0]*n), n if crop[1]==None else int(crop[1]*n)\n",
    "    if i<j: \n",
    "        x = x[i:j]\n",
    "    \n",
    "    print(\"array len:\", len(x))\n",
    "    print(\"head values:\", x[:10])\n",
    "    \n",
    "    plot_autocorr(x, max_lag, method)"
   ]
  },
  {
   "cell_type": "code",
   "execution_count": null,
   "id": "e7d42faf",
   "metadata": {
    "scrolled": true
   },
   "outputs": [],
   "source": [
    "for file in data_files:\n",
    "    data_diff_autocorr(file, 'input1', (None, None), None, 'fft')"
   ]
  },
  {
   "cell_type": "markdown",
   "id": "ac38a630",
   "metadata": {},
   "source": [
    "# III - 2nd order differencing\n",
    "## 1) Density visualization"
   ]
  },
  {
   "cell_type": "code",
   "execution_count": null,
   "id": "c4221169",
   "metadata": {},
   "outputs": [],
   "source": [
    "def data_double_diff_hist(filename, column, selection = [], crop = (None, None), xzoom = (None, None), log = False, \n",
    "                   bin_n = None, model=None):\n",
    "    # Import\n",
    "    data_path = path + \"\\\\csv\\\\\" + filename + \".csv\"\n",
    "    data = pd.read_csv(data_path)\n",
    "    \n",
    "    # Selection: select data according to other columns (origin, process...)\n",
    "    for tup in selection: \n",
    "        data = data[data[tup[0]] == tup[1]] \n",
    "        \n",
    "    diff(data, [column])\n",
    "    diff(data, [column])\n",
    "\n",
    "    n = data.shape[0]\n",
    "    if crop[0] != None and int(crop[0]*n) > 0: \n",
    "        data = data.tail(-int( n*crop[0] ))\n",
    "    if crop[1] != None and int(crop[1]*n) > 0: \n",
    "        data = data.head(-int( n*crop[1] ))\n",
    "\n",
    "    x = np.array(data[column])\n",
    "#     x = np.array(remove_extremes(data[column]))\n",
    "    bin_n = int(np.sqrt(len(x)))\n",
    "#     print(bin_n)\n",
    "    \n",
    "    # Figure\n",
    "    fig, ax = plt.subplots()\n",
    "    hist_prob, bins, patches = plt.hist(x, density=True, log=log, bins=bin_n)\n",
    "    prob = hist_prob / np.sum(hist_prob)\n",
    "    entropy = -np.sum(prob * np.log2(prob + (prob==0)))\n",
    "    min_entropy = -np.log2(np.max(prob))\n",
    "    \n",
    "#     hist, bin_edges = np.histogram(x, bins=bin_n) \n",
    "#     prob2 = hist / np.sum(hist)\n",
    "#     min_entropy2 = -np.log2(np.max(prob))\n",
    "#     entropy2 = -np.sum(prob * np.log2(prob + (prob==0)))\n",
    "#     print(\"entropy 2:\", entropy2, \"min-entropy2:\", min_entropy2)\n",
    "#     ax.bar(bin_edges[:-1], prob, width=(bin_edges[1] - bin_edges[0]))\n",
    "#     plt.hist(x, density=True, log = log, bins = bin_n)\n",
    "    \n",
    "    if not xzoom==(None,None):\n",
    "        plt.xlim(np.min(x) if xzoom[0]==None else xzoom[0], np.max(x) if xzoom[1]==None else xzoom[1])\n",
    "    \n",
    "    # Print info\n",
    "    print(\"Histogram of\", filename, \":\")\n",
    "    print(\"\\t selection:\", tup_string(selection))\n",
    "    print(\"\\t crop values:\", str(0 if crop[0]==None else str(crop[0]*n))+\",\", \n",
    "          str(0 if crop[1]==None else str(crop[1]*n)))\n",
    "    print(\"\\t min-entropy:\", min_entropy)\n",
    "    print(\"\\t entropy:\", entropy)\n",
    "    print(\"\\t # of elements:\", str(len(x)))\n",
    "    print(\"\\t # of bins:\", str(bin_n))\n",
    "    print(\"\\t log =\", str(log))\n",
    "    print()\n",
    "    \n",
    "    \n",
    "    if model==\"norm\": \n",
    "        pdf_x, pdf_y, mu, sigma = kstest_norm(x, bin_n)\n",
    "        ax.plot(pdf_x, pdf_y, 'r--', label=\"pdf\") \n",
    "    elif model=='laplace':\n",
    "        pdf_x, pdf_y = kstest_laplace(x, bin_n)\n",
    "        ax.plot(pdf_x, pdf_y, 'r--', label=\"pdf\") \n",
    "    elif model=='cauchy':\n",
    "        pdf_x, pdf_y = kstest_cauchy(x, bin_n)\n",
    "        ax.plot(pdf_x, pdf_y, 'b--', label=\"pdf\")\n",
    "    elif model==\"mixed\": \n",
    "        pdf_x, pdf_y = fit_mixture_model(x, 1 if k==None else k, bins)\n",
    "        ax.plot(pdf_x, pdf_y, 'b--', label=\"pdf\")\n",
    "    elif model==\"test\": \n",
    "        fitter = Fitter(x, distributions=['norm', 'laplace', 'cauchy'])\n",
    "        fitter.fit()\n",
    "        print(fitter.summary())\n",
    "    elif model=='export':\n",
    "        x.to_csv(\"csv/fit_results.csv\")\n",
    "        \n",
    "    ax.set_xlabel(u'Timestamp double differential')\n",
    "    ax.set_ylabel('Frequency')\n",
    "    \n",
    "    plt.show()"
   ]
  },
  {
   "cell_type": "code",
   "execution_count": null,
   "id": "c32569f9",
   "metadata": {
    "scrolled": false
   },
   "outputs": [],
   "source": [
    "for file in data_files:\n",
    "    data_double_diff_hist(file, 'input1', crop = (0.2, 0.2), model=None)"
   ]
  },
  {
   "cell_type": "code",
   "execution_count": null,
   "id": "ca5a8ef2",
   "metadata": {
    "scrolled": true
   },
   "outputs": [],
   "source": [
    "for file in data_files:\n",
    "    data_double_diff_hist(file, 'input1', crop = (0.2, 0.2), model=\"cauchy\")"
   ]
  },
  {
   "cell_type": "markdown",
   "id": "1e04b96a",
   "metadata": {},
   "source": [
    "## 2) Entropy estimation"
   ]
  },
  {
   "cell_type": "code",
   "execution_count": null,
   "id": "3d7103a8",
   "metadata": {},
   "outputs": [],
   "source": [
    "entropy64 = [4.298921996052419, 3.381687406273403, 1.642696748060507, 3.4797084812203267]\n",
    "entropy32 = [1.9538217619509188]\n",
    "\n",
    "sum(entropy64 + entropy32)/(len(entropy32)+len(entropy64))"
   ]
  },
  {
   "cell_type": "code",
   "execution_count": null,
   "id": "84e79a52",
   "metadata": {},
   "outputs": [],
   "source": [
    "min_entropy64 = [1.9919937580276577, 1.896901204461242, 0.2447457744481864, 1.6115940642712376]\n",
    "min_entropy32 = [0.7776742862014796]\n",
    "\n",
    "sum(min_entropy64 + min_entropy32)/(len(min_entropy32)+len(min_entropy64))"
   ]
  },
  {
   "cell_type": "code",
   "execution_count": null,
   "id": "e8df87cd",
   "metadata": {},
   "outputs": [],
   "source": [
    "def histogram_entropy_estimation(filename, column, selection, crop, bins, order):\n",
    "    # Import\n",
    "    data_path = path + \"\\\\csv\\\\\" + filename + \".csv\"\n",
    "    data = pd.read_csv(data_path)\n",
    "    \n",
    "    for tup in selection: \n",
    "        data = data[data[tup[0]] == tup[1]] \n",
    "    \n",
    "    for i in range(order):\n",
    "        diff(data, [column])\n",
    "    x = np.array(data[column])\n",
    "    \n",
    "    n = len(x)\n",
    "    i,j = 0 if crop[0]==None else int(crop[0]*n), n if crop[1]==None else int(crop[1]*n)\n",
    "    if i<j: \n",
    "        x = x[i:j]\n",
    "    \n",
    "    hist, bin_edges = np.histogram(x, bins=bins) \n",
    "    prob = hist / np.sum(hist)\n",
    "    entropy = -np.sum(prob * np.log2(prob + (prob==0)))\n",
    "    min_entropy = -np.log2(np.max(prob))\n",
    "    \n",
    "    print(filename)\n",
    "    print('\\t entropy', entropy)\n",
    "    print('\\t min_entropy', min_entropy)"
   ]
  },
  {
   "cell_type": "code",
   "execution_count": null,
   "id": "9ab7248d",
   "metadata": {},
   "outputs": [],
   "source": [
    "histogram_entropy_estimation(data_files[0], 'input1', [], (0.2,None), 1000, 0)\n",
    "histogram_entropy_estimation(data_files[0], 'input1', [], (0.2,None), 1000, 1)\n",
    "histogram_entropy_estimation(data_files[0], 'input1', [], (0.2,None), 1000, 2)"
   ]
  },
  {
   "cell_type": "markdown",
   "id": "e5fb080d",
   "metadata": {},
   "source": [
    "## 2) Independence of inputs\n",
    "### A/ Autocorrelation coefficient"
   ]
  },
  {
   "cell_type": "code",
   "execution_count": null,
   "id": "294dc2de",
   "metadata": {},
   "outputs": [],
   "source": [
    "def data_double_diff_autocorr(filename, column, crop, max_lag, method):\n",
    "    # Import\n",
    "    data_path = path + \"\\\\csv\\\\\" + filename + \".csv\"\n",
    "    data = pd.read_csv(data_path)\n",
    "    \n",
    "    diff(data, [column])\n",
    "    diff(data, [column])\n",
    "    x = np.array(data[column])\n",
    "    \n",
    "    n = len(x)\n",
    "    i,j = 0 if crop[0]==None else int(crop[0]*n), n if crop[1]==None else int(crop[1]*n)\n",
    "    if i<j: \n",
    "        x = x[i:j]\n",
    "\n",
    "    print(\"array len:\", len(x))\n",
    "    print(\"head values:\", x[:10])\n",
    "        \n",
    "    plot_autocorr(x, max_lag, method)"
   ]
  },
  {
   "cell_type": "code",
   "execution_count": null,
   "id": "f13ea1ee",
   "metadata": {
    "scrolled": false
   },
   "outputs": [],
   "source": [
    "for file in data_files:\n",
    "    data_double_diff_autocorr(file, 'input1', (None, None), 100, 'fft')"
   ]
  },
  {
   "cell_type": "code",
   "execution_count": null,
   "id": "bccb6f94",
   "metadata": {},
   "outputs": [],
   "source": []
  },
  {
   "cell_type": "markdown",
   "id": "7ad1136e",
   "metadata": {},
   "source": [
    "### Proof of concept"
   ]
  },
  {
   "cell_type": "code",
   "execution_count": null,
   "id": "705e54d1",
   "metadata": {},
   "outputs": [],
   "source": [
    "data_path = path + \"\\\\csv\\\\\" + data_files[0] + \".csv\"\n",
    "data = pd.read_csv(data_path)\n",
    "\n",
    "diff(data, ['input1'])\n",
    "diff(data, ['input1'])\n",
    "x = np.array(data['input1'])\n",
    "# x = np.array(remove_extremes(data['input1']))\n",
    "bins = 1000\n",
    "log = False\n",
    "\n",
    "def compute_entropy(prob):\n",
    "    return -np.sum(prob * np.log2(prob + (prob==0)))\n",
    "\n",
    "def min_entropy(prob):\n",
    "    return -np.log2(np.max(prob))\n",
    "\n",
    "\n",
    "fig, ax = plt.subplots()\n",
    "n, bins, patches = plt.hist(x, density=True, log=log, bins=bins)\n",
    "\n",
    "# # Calculate the probability\n",
    "prob1 = n / np.sum(n)\n",
    "entropy1 = compute_entropy(prob1)\n",
    "min_entropy1 = min_entropy(prob1)\n",
    "\n",
    "# Compute the density distribution and entropy level using numpy\n",
    "hist, bin_edges = np.histogram(x, bins=bins)\n",
    "\n",
    "# Calculate the probability\n",
    "prob2 = hist / np.sum(hist)\n",
    "entropy2 = compute_entropy(prob2)\n",
    "min_entropy2 = min_entropy(prob2)\n",
    "\n",
    "# fig, ax = plt.subplots()\n",
    "# ax.bar(bin_edges[:-1], prob2, width=(bin_edges[1] - bin_edges[0]))\n",
    "\n",
    "print(\"Matplotlib entropy:\", entropy1, \"Min-entropy:\", min_entropy1)\n",
    "print(\"NumPy entropy:\", entropy2, \"Min-entropy:\", min_entropy2)"
   ]
  },
  {
   "cell_type": "code",
   "execution_count": null,
   "id": "1f2551f9",
   "metadata": {},
   "outputs": [],
   "source": [
    "import math\n",
    "\n",
    "def cauchy_cdf(g, x0, x):\n",
    "    r = (1.0 / math.pi) * math.atan((x - x0) / g) + 0.5\n",
    "    if 0.0 < r <= 1.0:\n",
    "        return r\n",
    "    else:\n",
    "        return 0.0\n",
    "    \n",
    "def cauchy_pdf(g, x0, x):\n",
    "    r = 1 / (math.pi * g * (1 + ((x - x0) / g) ** 2))\n",
    "    if 0.0 < r <= 1.0:\n",
    "        return r\n",
    "    else:\n",
    "        return 0.0\n",
    "    \n",
    "def compute_entropy(probs):\n",
    "    num_bins = int(math.sqrt(len(probs)))\n",
    "    binned_probs = bin_probabilities(probs, num_bins)\n",
    "    return -np.sum(binned_probs * np.log2(binned_probs + np.finfo(float).eps))\n",
    "\n",
    "def min_entropy(probs):\n",
    "    num_bins = int(math.sqrt(len(probs)))\n",
    "    binned_probs = bin_probabilities(probs, num_bins)\n",
    "    return -np.log2(np.max(binned_probs))\n",
    "\n",
    "def bin_probabilities(probabilities, num_bins):\n",
    "    step = len(probabilities) // num_bins\n",
    "    binned_probabilities = [sum(probabilities[i * step:(i + 1) * step]) for i in range(num_bins)]\n",
    "    return np.array(binned_probabilities)\n",
    "    \n",
    "params = (200,0)\n",
    "discrete_range = np.arange(0, 2**16)\n",
    "\n",
    "prob_pdf = np.array([cauchy_pdf(params[0], params[1], x) \n",
    "                    for x in discrete_range])\n",
    "prob_cdf = np.array([cauchy_cdf(params[0], params[1], x+0.5) - cauchy_cdf(params[0], params[1], x-0.5) \n",
    "                    for x in discrete_range])\n",
    "\n",
    "prob_pdf = prob_pdf/np.sum(prob_pdf)\n",
    "prob_cdf = prob_cdf/np.sum(prob_cdf)\n",
    "\n",
    "entropy1 = compute_entropy(prob_pdf)\n",
    "min_entropy1 = min_entropy(prob_pdf)\n",
    "print(\"PDF entropy:\", entropy1, \"Min-entropy:\", min_entropy1)\n",
    "\n",
    "entropy2 = compute_entropy(prob_cdf)\n",
    "min_entropy2 = min_entropy(prob_cdf)\n",
    "print(\"CDF entropy:\", entropy1, \"Min-entropy:\", min_entropy1)\n",
    "\n",
    "fig, ax = plt.subplots()\n",
    "ax.plot(prob_cdf)\n",
    "ax.plot(prob_pdf)\n",
    "plt.show()"
   ]
  },
  {
   "cell_type": "code",
   "execution_count": null,
   "id": "1713fde6",
   "metadata": {},
   "outputs": [],
   "source": []
  }
 ],
 "metadata": {
  "kernelspec": {
   "display_name": "Python 3 (ipykernel)",
   "language": "python",
   "name": "python3"
  },
  "language_info": {
   "codemirror_mode": {
    "name": "ipython",
    "version": 3
   },
   "file_extension": ".py",
   "mimetype": "text/x-python",
   "name": "python",
   "nbconvert_exporter": "python",
   "pygments_lexer": "ipython3",
   "version": "3.9.7"
  },
  "vscode": {
   "interpreter": {
    "hash": "e411bf700db9e81f1e55211386d5ad9b23ad5567092fb513b0d20ece37f6f7a1"
   }
  }
 },
 "nbformat": 4,
 "nbformat_minor": 5
}
